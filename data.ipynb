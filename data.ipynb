{
 "cells": [
  {
   "cell_type": "code",
   "execution_count": 1,
   "metadata": {},
   "outputs": [],
   "source": [
    "import pandas as pd\n",
    "# data manipulation, gathering\n",
    "import numpy as np # for array manipulation# for dataframe manipulation/reading in data\n",
    "import json # for reading in Data\n",
    "from itertools import islice # for slicing and dicing JSON records\n",
    "import os # for getting the filepath information\n",
    "import re # to identify characters that are to be removed\n",
    "import nltk # for preprocessing of textual data\n",
    "from nltk.corpus import stopwords # for removing stopwords\n",
    "from nltk.tokenize import word_tokenize # for tokenizing text\n",
    "from nltk.stem import WordNetLemmatizer # for lemmatizing text\n",
    "from sklearn.feature_extraction.text import TfidfVectorizer # for featurizing text\n",
    "from sklearn.metrics.pairwise import cosine_similarity # for getting similarity score\n",
    "from sklearn.decomposition import PCA #for dimensionality reduction\n",
    "from sklearn.cluster import KMeans #for clustering\n",
    "from sklearn.manifold import TSNE #For reducing to 2 dimensions for plotting"
   ]
  },
  {
   "cell_type": "code",
   "execution_count": 4,
   "metadata": {},
   "outputs": [
    {
     "data": {
      "text/html": [
       "<div>\n",
       "<style scoped>\n",
       "    .dataframe tbody tr th:only-of-type {\n",
       "        vertical-align: middle;\n",
       "    }\n",
       "\n",
       "    .dataframe tbody tr th {\n",
       "        vertical-align: top;\n",
       "    }\n",
       "\n",
       "    .dataframe thead th {\n",
       "        text-align: right;\n",
       "    }\n",
       "</style>\n",
       "<table border=\"1\" class=\"dataframe\">\n",
       "  <thead>\n",
       "    <tr style=\"text-align: right;\">\n",
       "      <th></th>\n",
       "      <th>paper_id</th>\n",
       "      <th>title</th>\n",
       "      <th>abstract</th>\n",
       "      <th>year</th>\n",
       "      <th>primary_category</th>\n",
       "      <th>categories</th>\n",
       "    </tr>\n",
       "  </thead>\n",
       "  <tbody>\n",
       "    <tr>\n",
       "      <th>0</th>\n",
       "      <td>2301.02657v1</td>\n",
       "      <td>TarViS: A Unified Approach for Target-based Vi...</td>\n",
       "      <td>The general domain of video segmentation is cu...</td>\n",
       "      <td>2023-01-06 18:59:52+00:00</td>\n",
       "      <td>cs.CV</td>\n",
       "      <td>cs.CV cs.AI cs.LG</td>\n",
       "    </tr>\n",
       "    <tr>\n",
       "      <th>1</th>\n",
       "      <td>2301.02642v1</td>\n",
       "      <td>Triple-stream Deep Metric Learning of Great Ap...</td>\n",
       "      <td>We propose the first metric learning system fo...</td>\n",
       "      <td>2023-01-06 18:36:04+00:00</td>\n",
       "      <td>cs.CV</td>\n",
       "      <td>cs.CV cs.AI cs.LG</td>\n",
       "    </tr>\n",
       "    <tr>\n",
       "      <th>2</th>\n",
       "      <td>2301.02610v1</td>\n",
       "      <td>Feedback-Gated Rectified Linear Units</td>\n",
       "      <td>Feedback connections play a prominent role in ...</td>\n",
       "      <td>2023-01-06 17:14:11+00:00</td>\n",
       "      <td>cs.NE</td>\n",
       "      <td>cs.NE cs.AI</td>\n",
       "    </tr>\n",
       "    <tr>\n",
       "      <th>3</th>\n",
       "      <td>2301.02593v1</td>\n",
       "      <td>Multi-Agent Reinforcement Learning for Fast-Ti...</td>\n",
       "      <td>To integrate high amounts of renewable energy ...</td>\n",
       "      <td>2023-01-06 16:41:51+00:00</td>\n",
       "      <td>cs.MA</td>\n",
       "      <td>cs.MA cs.AI cs.LG cs.SY</td>\n",
       "    </tr>\n",
       "    <tr>\n",
       "      <th>4</th>\n",
       "      <td>2301.02561v1</td>\n",
       "      <td>Multi-Vehicle Trajectory Prediction at Interse...</td>\n",
       "      <td>Traditional approaches to prediction of future...</td>\n",
       "      <td>2023-01-06 15:13:23+00:00</td>\n",
       "      <td>cs.RO</td>\n",
       "      <td>cs.RO cs.AI</td>\n",
       "    </tr>\n",
       "  </tbody>\n",
       "</table>\n",
       "</div>"
      ],
      "text/plain": [
       "       paper_id                                              title  \\\n",
       "0  2301.02657v1  TarViS: A Unified Approach for Target-based Vi...   \n",
       "1  2301.02642v1  Triple-stream Deep Metric Learning of Great Ap...   \n",
       "2  2301.02610v1              Feedback-Gated Rectified Linear Units   \n",
       "3  2301.02593v1  Multi-Agent Reinforcement Learning for Fast-Ti...   \n",
       "4  2301.02561v1  Multi-Vehicle Trajectory Prediction at Interse...   \n",
       "\n",
       "                                            abstract  \\\n",
       "0  The general domain of video segmentation is cu...   \n",
       "1  We propose the first metric learning system fo...   \n",
       "2  Feedback connections play a prominent role in ...   \n",
       "3  To integrate high amounts of renewable energy ...   \n",
       "4  Traditional approaches to prediction of future...   \n",
       "\n",
       "                        year primary_category               categories  \n",
       "0  2023-01-06 18:59:52+00:00            cs.CV        cs.CV cs.AI cs.LG  \n",
       "1  2023-01-06 18:36:04+00:00            cs.CV        cs.CV cs.AI cs.LG  \n",
       "2  2023-01-06 17:14:11+00:00            cs.NE              cs.NE cs.AI  \n",
       "3  2023-01-06 16:41:51+00:00            cs.MA  cs.MA cs.AI cs.LG cs.SY  \n",
       "4  2023-01-06 15:13:23+00:00            cs.RO              cs.RO cs.AI  "
      ]
     },
     "execution_count": 4,
     "metadata": {},
     "output_type": "execute_result"
    }
   ],
   "source": [
    "df = pd.read_csv('/Users/mac/Desktop/research_paper_recommendation/cs_papers_api.csv')\n",
    "df.head()"
   ]
  },
  {
   "cell_type": "code",
   "execution_count": 5,
   "metadata": {},
   "outputs": [
    {
     "data": {
      "text/plain": [
       "paper_id            0\n",
       "title               0\n",
       "abstract            0\n",
       "year                0\n",
       "primary_category    0\n",
       "categories          0\n",
       "dtype: int64"
      ]
     },
     "execution_count": 5,
     "metadata": {},
     "output_type": "execute_result"
    }
   ],
   "source": [
    "# check for null values\n",
    "\n",
    "df.isnull().sum()"
   ]
  },
  {
   "cell_type": "code",
   "execution_count": 6,
   "metadata": {},
   "outputs": [
    {
     "name": "stdout",
     "output_type": "stream",
     "text": [
      "<class 'pandas.core.frame.DataFrame'>\n",
      "RangeIndex: 200094 entries, 0 to 200093\n",
      "Data columns (total 6 columns):\n",
      " #   Column            Non-Null Count   Dtype \n",
      "---  ------            --------------   ----- \n",
      " 0   paper_id          200094 non-null  object\n",
      " 1   title             200094 non-null  object\n",
      " 2   abstract          200094 non-null  object\n",
      " 3   year              200094 non-null  object\n",
      " 4   primary_category  200094 non-null  object\n",
      " 5   categories        200094 non-null  object\n",
      "dtypes: object(6)\n",
      "memory usage: 9.2+ MB\n"
     ]
    }
   ],
   "source": [
    "df.info()"
   ]
  },
  {
   "cell_type": "code",
   "execution_count": 7,
   "metadata": {},
   "outputs": [
    {
     "data": {
      "text/html": [
       "<div>\n",
       "<style scoped>\n",
       "    .dataframe tbody tr th:only-of-type {\n",
       "        vertical-align: middle;\n",
       "    }\n",
       "\n",
       "    .dataframe tbody tr th {\n",
       "        vertical-align: top;\n",
       "    }\n",
       "\n",
       "    .dataframe thead th {\n",
       "        text-align: right;\n",
       "    }\n",
       "</style>\n",
       "<table border=\"1\" class=\"dataframe\">\n",
       "  <thead>\n",
       "    <tr style=\"text-align: right;\">\n",
       "      <th></th>\n",
       "      <th>paper_id</th>\n",
       "      <th>title</th>\n",
       "      <th>abstract</th>\n",
       "      <th>year</th>\n",
       "      <th>primary_category</th>\n",
       "      <th>categories</th>\n",
       "      <th>text</th>\n",
       "    </tr>\n",
       "  </thead>\n",
       "  <tbody>\n",
       "    <tr>\n",
       "      <th>0</th>\n",
       "      <td>2301.02657v1</td>\n",
       "      <td>TarViS: A Unified Approach for Target-based Vi...</td>\n",
       "      <td>The general domain of video segmentation is cu...</td>\n",
       "      <td>2023-01-06 18:59:52+00:00</td>\n",
       "      <td>cs.CV</td>\n",
       "      <td>cs.CV cs.AI cs.LG</td>\n",
       "      <td>TarViS: A Unified Approach for Target-based Vi...</td>\n",
       "    </tr>\n",
       "    <tr>\n",
       "      <th>1</th>\n",
       "      <td>2301.02642v1</td>\n",
       "      <td>Triple-stream Deep Metric Learning of Great Ap...</td>\n",
       "      <td>We propose the first metric learning system fo...</td>\n",
       "      <td>2023-01-06 18:36:04+00:00</td>\n",
       "      <td>cs.CV</td>\n",
       "      <td>cs.CV cs.AI cs.LG</td>\n",
       "      <td>Triple-stream Deep Metric Learning of Great Ap...</td>\n",
       "    </tr>\n",
       "    <tr>\n",
       "      <th>2</th>\n",
       "      <td>2301.02610v1</td>\n",
       "      <td>Feedback-Gated Rectified Linear Units</td>\n",
       "      <td>Feedback connections play a prominent role in ...</td>\n",
       "      <td>2023-01-06 17:14:11+00:00</td>\n",
       "      <td>cs.NE</td>\n",
       "      <td>cs.NE cs.AI</td>\n",
       "      <td>Feedback-Gated Rectified Linear Units Feedback...</td>\n",
       "    </tr>\n",
       "    <tr>\n",
       "      <th>3</th>\n",
       "      <td>2301.02593v1</td>\n",
       "      <td>Multi-Agent Reinforcement Learning for Fast-Ti...</td>\n",
       "      <td>To integrate high amounts of renewable energy ...</td>\n",
       "      <td>2023-01-06 16:41:51+00:00</td>\n",
       "      <td>cs.MA</td>\n",
       "      <td>cs.MA cs.AI cs.LG cs.SY</td>\n",
       "      <td>Multi-Agent Reinforcement Learning for Fast-Ti...</td>\n",
       "    </tr>\n",
       "    <tr>\n",
       "      <th>4</th>\n",
       "      <td>2301.02561v1</td>\n",
       "      <td>Multi-Vehicle Trajectory Prediction at Interse...</td>\n",
       "      <td>Traditional approaches to prediction of future...</td>\n",
       "      <td>2023-01-06 15:13:23+00:00</td>\n",
       "      <td>cs.RO</td>\n",
       "      <td>cs.RO cs.AI</td>\n",
       "      <td>Multi-Vehicle Trajectory Prediction at Interse...</td>\n",
       "    </tr>\n",
       "  </tbody>\n",
       "</table>\n",
       "</div>"
      ],
      "text/plain": [
       "       paper_id                                              title  \\\n",
       "0  2301.02657v1  TarViS: A Unified Approach for Target-based Vi...   \n",
       "1  2301.02642v1  Triple-stream Deep Metric Learning of Great Ap...   \n",
       "2  2301.02610v1              Feedback-Gated Rectified Linear Units   \n",
       "3  2301.02593v1  Multi-Agent Reinforcement Learning for Fast-Ti...   \n",
       "4  2301.02561v1  Multi-Vehicle Trajectory Prediction at Interse...   \n",
       "\n",
       "                                            abstract  \\\n",
       "0  The general domain of video segmentation is cu...   \n",
       "1  We propose the first metric learning system fo...   \n",
       "2  Feedback connections play a prominent role in ...   \n",
       "3  To integrate high amounts of renewable energy ...   \n",
       "4  Traditional approaches to prediction of future...   \n",
       "\n",
       "                        year primary_category               categories  \\\n",
       "0  2023-01-06 18:59:52+00:00            cs.CV        cs.CV cs.AI cs.LG   \n",
       "1  2023-01-06 18:36:04+00:00            cs.CV        cs.CV cs.AI cs.LG   \n",
       "2  2023-01-06 17:14:11+00:00            cs.NE              cs.NE cs.AI   \n",
       "3  2023-01-06 16:41:51+00:00            cs.MA  cs.MA cs.AI cs.LG cs.SY   \n",
       "4  2023-01-06 15:13:23+00:00            cs.RO              cs.RO cs.AI   \n",
       "\n",
       "                                                text  \n",
       "0  TarViS: A Unified Approach for Target-based Vi...  \n",
       "1  Triple-stream Deep Metric Learning of Great Ap...  \n",
       "2  Feedback-Gated Rectified Linear Units Feedback...  \n",
       "3  Multi-Agent Reinforcement Learning for Fast-Ti...  \n",
       "4  Multi-Vehicle Trajectory Prediction at Interse...  "
      ]
     },
     "execution_count": 7,
     "metadata": {},
     "output_type": "execute_result"
    }
   ],
   "source": [
    "# join the title and abstract columns\n",
    "df['text'] = df['title'] + ' ' + df['abstract']\n",
    "df.head()"
   ]
  },
  {
   "cell_type": "code",
   "execution_count": 8,
   "metadata": {},
   "outputs": [],
   "source": [
    "# remove the columns that are not needed\n",
    "df.drop(columns=['year', 'primary_category', 'categories'], inplace=True)"
   ]
  },
  {
   "cell_type": "code",
   "execution_count": 9,
   "metadata": {},
   "outputs": [
    {
     "data": {
      "text/html": [
       "<div>\n",
       "<style scoped>\n",
       "    .dataframe tbody tr th:only-of-type {\n",
       "        vertical-align: middle;\n",
       "    }\n",
       "\n",
       "    .dataframe tbody tr th {\n",
       "        vertical-align: top;\n",
       "    }\n",
       "\n",
       "    .dataframe thead th {\n",
       "        text-align: right;\n",
       "    }\n",
       "</style>\n",
       "<table border=\"1\" class=\"dataframe\">\n",
       "  <thead>\n",
       "    <tr style=\"text-align: right;\">\n",
       "      <th></th>\n",
       "      <th>paper_id</th>\n",
       "      <th>title</th>\n",
       "      <th>abstract</th>\n",
       "      <th>text</th>\n",
       "    </tr>\n",
       "  </thead>\n",
       "  <tbody>\n",
       "    <tr>\n",
       "      <th>0</th>\n",
       "      <td>2301.02657v1</td>\n",
       "      <td>TarViS: A Unified Approach for Target-based Vi...</td>\n",
       "      <td>The general domain of video segmentation is cu...</td>\n",
       "      <td>TarViS: A Unified Approach for Target-based Vi...</td>\n",
       "    </tr>\n",
       "    <tr>\n",
       "      <th>1</th>\n",
       "      <td>2301.02642v1</td>\n",
       "      <td>Triple-stream Deep Metric Learning of Great Ap...</td>\n",
       "      <td>We propose the first metric learning system fo...</td>\n",
       "      <td>Triple-stream Deep Metric Learning of Great Ap...</td>\n",
       "    </tr>\n",
       "    <tr>\n",
       "      <th>2</th>\n",
       "      <td>2301.02610v1</td>\n",
       "      <td>Feedback-Gated Rectified Linear Units</td>\n",
       "      <td>Feedback connections play a prominent role in ...</td>\n",
       "      <td>Feedback-Gated Rectified Linear Units Feedback...</td>\n",
       "    </tr>\n",
       "    <tr>\n",
       "      <th>3</th>\n",
       "      <td>2301.02593v1</td>\n",
       "      <td>Multi-Agent Reinforcement Learning for Fast-Ti...</td>\n",
       "      <td>To integrate high amounts of renewable energy ...</td>\n",
       "      <td>Multi-Agent Reinforcement Learning for Fast-Ti...</td>\n",
       "    </tr>\n",
       "    <tr>\n",
       "      <th>4</th>\n",
       "      <td>2301.02561v1</td>\n",
       "      <td>Multi-Vehicle Trajectory Prediction at Interse...</td>\n",
       "      <td>Traditional approaches to prediction of future...</td>\n",
       "      <td>Multi-Vehicle Trajectory Prediction at Interse...</td>\n",
       "    </tr>\n",
       "  </tbody>\n",
       "</table>\n",
       "</div>"
      ],
      "text/plain": [
       "       paper_id                                              title  \\\n",
       "0  2301.02657v1  TarViS: A Unified Approach for Target-based Vi...   \n",
       "1  2301.02642v1  Triple-stream Deep Metric Learning of Great Ap...   \n",
       "2  2301.02610v1              Feedback-Gated Rectified Linear Units   \n",
       "3  2301.02593v1  Multi-Agent Reinforcement Learning for Fast-Ti...   \n",
       "4  2301.02561v1  Multi-Vehicle Trajectory Prediction at Interse...   \n",
       "\n",
       "                                            abstract  \\\n",
       "0  The general domain of video segmentation is cu...   \n",
       "1  We propose the first metric learning system fo...   \n",
       "2  Feedback connections play a prominent role in ...   \n",
       "3  To integrate high amounts of renewable energy ...   \n",
       "4  Traditional approaches to prediction of future...   \n",
       "\n",
       "                                                text  \n",
       "0  TarViS: A Unified Approach for Target-based Vi...  \n",
       "1  Triple-stream Deep Metric Learning of Great Ap...  \n",
       "2  Feedback-Gated Rectified Linear Units Feedback...  \n",
       "3  Multi-Agent Reinforcement Learning for Fast-Ti...  \n",
       "4  Multi-Vehicle Trajectory Prediction at Interse...  "
      ]
     },
     "execution_count": 9,
     "metadata": {},
     "output_type": "execute_result"
    }
   ],
   "source": [
    "df.head()"
   ]
  },
  {
   "cell_type": "markdown",
   "metadata": {},
   "source": [
    "## Data Cleaning"
   ]
  },
  {
   "cell_type": "code",
   "execution_count": 10,
   "metadata": {},
   "outputs": [],
   "source": [
    "# change the text to lowercase\n",
    "df['text'] = df['text'].str.lower()"
   ]
  },
  {
   "cell_type": "code",
   "execution_count": 11,
   "metadata": {},
   "outputs": [],
   "source": [
    "# remove punctuations \n",
    "def remove_punctuation(text):\n",
    "    return re.sub(r'[^a-zA-Z0-9\\s]', '', text)\n",
    "\n",
    "df['text'] = df['text'].apply(remove_punctuation)"
   ]
  },
  {
   "cell_type": "code",
   "execution_count": 12,
   "metadata": {},
   "outputs": [],
   "source": [
    "# remove stop words\n",
    "def remove_stopwords(text):\n",
    "    stop_words = set(stopwords.words('english'))\n",
    "    word_tokens = word_tokenize(text)\n",
    "    filtered_text = [word for word in word_tokens if word not in stop_words]\n",
    "    return ' '.join(filtered_text)\n",
    "\n",
    "df['text'] = df['text'].apply(remove_stopwords)"
   ]
  },
  {
   "cell_type": "code",
   "execution_count": 13,
   "metadata": {},
   "outputs": [],
   "source": [
    "df['tokenized_text'] = df['text'].apply(word_tokenize)"
   ]
  },
  {
   "cell_type": "code",
   "execution_count": 14,
   "metadata": {},
   "outputs": [
    {
     "data": {
      "text/html": [
       "<div>\n",
       "<style scoped>\n",
       "    .dataframe tbody tr th:only-of-type {\n",
       "        vertical-align: middle;\n",
       "    }\n",
       "\n",
       "    .dataframe tbody tr th {\n",
       "        vertical-align: top;\n",
       "    }\n",
       "\n",
       "    .dataframe thead th {\n",
       "        text-align: right;\n",
       "    }\n",
       "</style>\n",
       "<table border=\"1\" class=\"dataframe\">\n",
       "  <thead>\n",
       "    <tr style=\"text-align: right;\">\n",
       "      <th></th>\n",
       "      <th>paper_id</th>\n",
       "      <th>title</th>\n",
       "      <th>abstract</th>\n",
       "      <th>text</th>\n",
       "      <th>tokenized_text</th>\n",
       "    </tr>\n",
       "  </thead>\n",
       "  <tbody>\n",
       "    <tr>\n",
       "      <th>0</th>\n",
       "      <td>2301.02657v1</td>\n",
       "      <td>TarViS: A Unified Approach for Target-based Vi...</td>\n",
       "      <td>The general domain of video segmentation is cu...</td>\n",
       "      <td>tarvis unified approach targetbased video segm...</td>\n",
       "      <td>[tarvis, unified, approach, targetbased, video...</td>\n",
       "    </tr>\n",
       "    <tr>\n",
       "      <th>1</th>\n",
       "      <td>2301.02642v1</td>\n",
       "      <td>Triple-stream Deep Metric Learning of Great Ap...</td>\n",
       "      <td>We propose the first metric learning system fo...</td>\n",
       "      <td>triplestream deep metric learning great ape be...</td>\n",
       "      <td>[triplestream, deep, metric, learning, great, ...</td>\n",
       "    </tr>\n",
       "    <tr>\n",
       "      <th>2</th>\n",
       "      <td>2301.02610v1</td>\n",
       "      <td>Feedback-Gated Rectified Linear Units</td>\n",
       "      <td>Feedback connections play a prominent role in ...</td>\n",
       "      <td>feedbackgated rectified linear units feedback ...</td>\n",
       "      <td>[feedbackgated, rectified, linear, units, feed...</td>\n",
       "    </tr>\n",
       "    <tr>\n",
       "      <th>3</th>\n",
       "      <td>2301.02593v1</td>\n",
       "      <td>Multi-Agent Reinforcement Learning for Fast-Ti...</td>\n",
       "      <td>To integrate high amounts of renewable energy ...</td>\n",
       "      <td>multiagent reinforcement learning fasttimescal...</td>\n",
       "      <td>[multiagent, reinforcement, learning, fasttime...</td>\n",
       "    </tr>\n",
       "    <tr>\n",
       "      <th>4</th>\n",
       "      <td>2301.02561v1</td>\n",
       "      <td>Multi-Vehicle Trajectory Prediction at Interse...</td>\n",
       "      <td>Traditional approaches to prediction of future...</td>\n",
       "      <td>multivehicle trajectory prediction intersectio...</td>\n",
       "      <td>[multivehicle, trajectory, prediction, interse...</td>\n",
       "    </tr>\n",
       "  </tbody>\n",
       "</table>\n",
       "</div>"
      ],
      "text/plain": [
       "       paper_id                                              title  \\\n",
       "0  2301.02657v1  TarViS: A Unified Approach for Target-based Vi...   \n",
       "1  2301.02642v1  Triple-stream Deep Metric Learning of Great Ap...   \n",
       "2  2301.02610v1              Feedback-Gated Rectified Linear Units   \n",
       "3  2301.02593v1  Multi-Agent Reinforcement Learning for Fast-Ti...   \n",
       "4  2301.02561v1  Multi-Vehicle Trajectory Prediction at Interse...   \n",
       "\n",
       "                                            abstract  \\\n",
       "0  The general domain of video segmentation is cu...   \n",
       "1  We propose the first metric learning system fo...   \n",
       "2  Feedback connections play a prominent role in ...   \n",
       "3  To integrate high amounts of renewable energy ...   \n",
       "4  Traditional approaches to prediction of future...   \n",
       "\n",
       "                                                text  \\\n",
       "0  tarvis unified approach targetbased video segm...   \n",
       "1  triplestream deep metric learning great ape be...   \n",
       "2  feedbackgated rectified linear units feedback ...   \n",
       "3  multiagent reinforcement learning fasttimescal...   \n",
       "4  multivehicle trajectory prediction intersectio...   \n",
       "\n",
       "                                      tokenized_text  \n",
       "0  [tarvis, unified, approach, targetbased, video...  \n",
       "1  [triplestream, deep, metric, learning, great, ...  \n",
       "2  [feedbackgated, rectified, linear, units, feed...  \n",
       "3  [multiagent, reinforcement, learning, fasttime...  \n",
       "4  [multivehicle, trajectory, prediction, interse...  "
      ]
     },
     "execution_count": 14,
     "metadata": {},
     "output_type": "execute_result"
    }
   ],
   "source": [
    "df.head()"
   ]
  },
  {
   "cell_type": "code",
   "execution_count": 15,
   "metadata": {},
   "outputs": [],
   "source": [
    "# stem text \n",
    "from nltk.stem import PorterStemmer\n",
    "\n",
    "\n",
    "def stem_tokens(tokens):\n",
    "    porter_stemmer = PorterStemmer()\n",
    "    stemmed_tokens = [porter_stemmer.stem(token) for token in tokens]\n",
    "    return ' '.join(stemmed_tokens)\n",
    "\n",
    "df['stemmed_sentence'] = df['tokenized_text'].apply(stem_tokens)"
   ]
  },
  {
   "cell_type": "code",
   "execution_count": 16,
   "metadata": {},
   "outputs": [
    {
     "data": {
      "text/html": [
       "<div>\n",
       "<style scoped>\n",
       "    .dataframe tbody tr th:only-of-type {\n",
       "        vertical-align: middle;\n",
       "    }\n",
       "\n",
       "    .dataframe tbody tr th {\n",
       "        vertical-align: top;\n",
       "    }\n",
       "\n",
       "    .dataframe thead th {\n",
       "        text-align: right;\n",
       "    }\n",
       "</style>\n",
       "<table border=\"1\" class=\"dataframe\">\n",
       "  <thead>\n",
       "    <tr style=\"text-align: right;\">\n",
       "      <th></th>\n",
       "      <th>paper_id</th>\n",
       "      <th>title</th>\n",
       "      <th>abstract</th>\n",
       "      <th>text</th>\n",
       "      <th>tokenized_text</th>\n",
       "      <th>stemmed_sentence</th>\n",
       "    </tr>\n",
       "  </thead>\n",
       "  <tbody>\n",
       "    <tr>\n",
       "      <th>0</th>\n",
       "      <td>2301.02657v1</td>\n",
       "      <td>TarViS: A Unified Approach for Target-based Vi...</td>\n",
       "      <td>The general domain of video segmentation is cu...</td>\n",
       "      <td>tarvis unified approach targetbased video segm...</td>\n",
       "      <td>[tarvis, unified, approach, targetbased, video...</td>\n",
       "      <td>tarvi unifi approach targetbas video segment g...</td>\n",
       "    </tr>\n",
       "    <tr>\n",
       "      <th>1</th>\n",
       "      <td>2301.02642v1</td>\n",
       "      <td>Triple-stream Deep Metric Learning of Great Ap...</td>\n",
       "      <td>We propose the first metric learning system fo...</td>\n",
       "      <td>triplestream deep metric learning great ape be...</td>\n",
       "      <td>[triplestream, deep, metric, learning, great, ...</td>\n",
       "      <td>triplestream deep metric learn great ape behav...</td>\n",
       "    </tr>\n",
       "    <tr>\n",
       "      <th>2</th>\n",
       "      <td>2301.02610v1</td>\n",
       "      <td>Feedback-Gated Rectified Linear Units</td>\n",
       "      <td>Feedback connections play a prominent role in ...</td>\n",
       "      <td>feedbackgated rectified linear units feedback ...</td>\n",
       "      <td>[feedbackgated, rectified, linear, units, feed...</td>\n",
       "      <td>feedbackg rectifi linear unit feedback connect...</td>\n",
       "    </tr>\n",
       "    <tr>\n",
       "      <th>3</th>\n",
       "      <td>2301.02593v1</td>\n",
       "      <td>Multi-Agent Reinforcement Learning for Fast-Ti...</td>\n",
       "      <td>To integrate high amounts of renewable energy ...</td>\n",
       "      <td>multiagent reinforcement learning fasttimescal...</td>\n",
       "      <td>[multiagent, reinforcement, learning, fasttime...</td>\n",
       "      <td>multiag reinforc learn fasttimescal demand res...</td>\n",
       "    </tr>\n",
       "    <tr>\n",
       "      <th>4</th>\n",
       "      <td>2301.02561v1</td>\n",
       "      <td>Multi-Vehicle Trajectory Prediction at Interse...</td>\n",
       "      <td>Traditional approaches to prediction of future...</td>\n",
       "      <td>multivehicle trajectory prediction intersectio...</td>\n",
       "      <td>[multivehicle, trajectory, prediction, interse...</td>\n",
       "      <td>multivehicl trajectori predict intersect use s...</td>\n",
       "    </tr>\n",
       "  </tbody>\n",
       "</table>\n",
       "</div>"
      ],
      "text/plain": [
       "       paper_id                                              title  \\\n",
       "0  2301.02657v1  TarViS: A Unified Approach for Target-based Vi...   \n",
       "1  2301.02642v1  Triple-stream Deep Metric Learning of Great Ap...   \n",
       "2  2301.02610v1              Feedback-Gated Rectified Linear Units   \n",
       "3  2301.02593v1  Multi-Agent Reinforcement Learning for Fast-Ti...   \n",
       "4  2301.02561v1  Multi-Vehicle Trajectory Prediction at Interse...   \n",
       "\n",
       "                                            abstract  \\\n",
       "0  The general domain of video segmentation is cu...   \n",
       "1  We propose the first metric learning system fo...   \n",
       "2  Feedback connections play a prominent role in ...   \n",
       "3  To integrate high amounts of renewable energy ...   \n",
       "4  Traditional approaches to prediction of future...   \n",
       "\n",
       "                                                text  \\\n",
       "0  tarvis unified approach targetbased video segm...   \n",
       "1  triplestream deep metric learning great ape be...   \n",
       "2  feedbackgated rectified linear units feedback ...   \n",
       "3  multiagent reinforcement learning fasttimescal...   \n",
       "4  multivehicle trajectory prediction intersectio...   \n",
       "\n",
       "                                      tokenized_text  \\\n",
       "0  [tarvis, unified, approach, targetbased, video...   \n",
       "1  [triplestream, deep, metric, learning, great, ...   \n",
       "2  [feedbackgated, rectified, linear, units, feed...   \n",
       "3  [multiagent, reinforcement, learning, fasttime...   \n",
       "4  [multivehicle, trajectory, prediction, interse...   \n",
       "\n",
       "                                    stemmed_sentence  \n",
       "0  tarvi unifi approach targetbas video segment g...  \n",
       "1  triplestream deep metric learn great ape behav...  \n",
       "2  feedbackg rectifi linear unit feedback connect...  \n",
       "3  multiag reinforc learn fasttimescal demand res...  \n",
       "4  multivehicl trajectori predict intersect use s...  "
      ]
     },
     "execution_count": 16,
     "metadata": {},
     "output_type": "execute_result"
    }
   ],
   "source": [
    "df.head()"
   ]
  },
  {
   "cell_type": "code",
   "execution_count": 17,
   "metadata": {},
   "outputs": [],
   "source": [
    "# drop unnecessary column\n",
    "df.drop(columns=['tokenized_text'], inplace=True)"
   ]
  },
  {
   "cell_type": "code",
   "execution_count": 18,
   "metadata": {},
   "outputs": [],
   "source": [
    "tfidf_vectorizer = TfidfVectorizer()\n",
    "tfidf_matrix = tfidf_vectorizer.fit_transform(df['stemmed_sentence'])"
   ]
  },
  {
   "cell_type": "code",
   "execution_count": 19,
   "metadata": {},
   "outputs": [
    {
     "data": {
      "text/html": [
       "<div>\n",
       "<style scoped>\n",
       "    .dataframe tbody tr th:only-of-type {\n",
       "        vertical-align: middle;\n",
       "    }\n",
       "\n",
       "    .dataframe tbody tr th {\n",
       "        vertical-align: top;\n",
       "    }\n",
       "\n",
       "    .dataframe thead th {\n",
       "        text-align: right;\n",
       "    }\n",
       "</style>\n",
       "<table border=\"1\" class=\"dataframe\">\n",
       "  <thead>\n",
       "    <tr style=\"text-align: right;\">\n",
       "      <th></th>\n",
       "      <th>paper_id</th>\n",
       "      <th>title</th>\n",
       "      <th>abstract</th>\n",
       "      <th>text</th>\n",
       "      <th>stemmed_sentence</th>\n",
       "      <th>keywords</th>\n",
       "    </tr>\n",
       "  </thead>\n",
       "  <tbody>\n",
       "    <tr>\n",
       "      <th>0</th>\n",
       "      <td>2301.02657v1</td>\n",
       "      <td>TarViS: A Unified Approach for Target-based Vi...</td>\n",
       "      <td>The general domain of video segmentation is cu...</td>\n",
       "      <td>tarvis unified approach targetbased video segm...</td>\n",
       "      <td>tarvi unifi approach targetbas video segment g...</td>\n",
       "      <td>approach, model, gener, perform, network, meth...</td>\n",
       "    </tr>\n",
       "    <tr>\n",
       "      <th>1</th>\n",
       "      <td>2301.02642v1</td>\n",
       "      <td>Triple-stream Deep Metric Learning of Great Ap...</td>\n",
       "      <td>We propose the first metric learning system fo...</td>\n",
       "      <td>triplestream deep metric learning great ape be...</td>\n",
       "      <td>triplestream deep metric learn great ape behav...</td>\n",
       "      <td>learn, propos, result, comput, approach, perfo...</td>\n",
       "    </tr>\n",
       "    <tr>\n",
       "      <th>2</th>\n",
       "      <td>2301.02610v1</td>\n",
       "      <td>Feedback-Gated Rectified Linear Units</td>\n",
       "      <td>Feedback connections play a prominent role in ...</td>\n",
       "      <td>feedbackgated rectified linear units feedback ...</td>\n",
       "      <td>feedbackg rectifi linear unit feedback connect...</td>\n",
       "      <td>network, perform, propos, use, result, problem...</td>\n",
       "    </tr>\n",
       "    <tr>\n",
       "      <th>3</th>\n",
       "      <td>2301.02593v1</td>\n",
       "      <td>Multi-Agent Reinforcement Learning for Fast-Ti...</td>\n",
       "      <td>To integrate high amounts of renewable energy ...</td>\n",
       "      <td>multiagent reinforcement learning fasttimescal...</td>\n",
       "      <td>multiag reinforc learn fasttimescal demand res...</td>\n",
       "      <td>learn, perform, approach, gener, propos, resul...</td>\n",
       "    </tr>\n",
       "    <tr>\n",
       "      <th>4</th>\n",
       "      <td>2301.02561v1</td>\n",
       "      <td>Multi-Vehicle Trajectory Prediction at Interse...</td>\n",
       "      <td>Traditional approaches to prediction of future...</td>\n",
       "      <td>multivehicle trajectory prediction intersectio...</td>\n",
       "      <td>multivehicl trajectori predict intersect use s...</td>\n",
       "      <td>approach, use, network, result, propos, proble...</td>\n",
       "    </tr>\n",
       "  </tbody>\n",
       "</table>\n",
       "</div>"
      ],
      "text/plain": [
       "       paper_id                                              title  \\\n",
       "0  2301.02657v1  TarViS: A Unified Approach for Target-based Vi...   \n",
       "1  2301.02642v1  Triple-stream Deep Metric Learning of Great Ap...   \n",
       "2  2301.02610v1              Feedback-Gated Rectified Linear Units   \n",
       "3  2301.02593v1  Multi-Agent Reinforcement Learning for Fast-Ti...   \n",
       "4  2301.02561v1  Multi-Vehicle Trajectory Prediction at Interse...   \n",
       "\n",
       "                                            abstract  \\\n",
       "0  The general domain of video segmentation is cu...   \n",
       "1  We propose the first metric learning system fo...   \n",
       "2  Feedback connections play a prominent role in ...   \n",
       "3  To integrate high amounts of renewable energy ...   \n",
       "4  Traditional approaches to prediction of future...   \n",
       "\n",
       "                                                text  \\\n",
       "0  tarvis unified approach targetbased video segm...   \n",
       "1  triplestream deep metric learning great ape be...   \n",
       "2  feedbackgated rectified linear units feedback ...   \n",
       "3  multiagent reinforcement learning fasttimescal...   \n",
       "4  multivehicle trajectory prediction intersectio...   \n",
       "\n",
       "                                    stemmed_sentence  \\\n",
       "0  tarvi unifi approach targetbas video segment g...   \n",
       "1  triplestream deep metric learn great ape behav...   \n",
       "2  feedbackg rectifi linear unit feedback connect...   \n",
       "3  multiag reinforc learn fasttimescal demand res...   \n",
       "4  multivehicl trajectori predict intersect use s...   \n",
       "\n",
       "                                            keywords  \n",
       "0  approach, model, gener, perform, network, meth...  \n",
       "1  learn, propos, result, comput, approach, perfo...  \n",
       "2  network, perform, propos, use, result, problem...  \n",
       "3  learn, perform, approach, gener, propos, resul...  \n",
       "4  approach, use, network, result, propos, proble...  "
      ]
     },
     "execution_count": 19,
     "metadata": {},
     "output_type": "execute_result"
    }
   ],
   "source": [
    "# generate keywords for recommendation \n",
    "\n",
    "def extract_and_append_keywords(df, max_features=10, top_n_keywords=5):\n",
    "    # Create TF-IDF vectorizer\n",
    "    vectorizer = TfidfVectorizer(stop_words='english', max_features=max_features)\n",
    "\n",
    "    # Fit and transform the text data\n",
    "    tfidf_matrix = vectorizer.fit_transform(df['stemmed_sentence'])\n",
    "\n",
    "    # Get feature names (keywords) and their scores\n",
    "    feature_names = vectorizer.get_feature_names_out()\n",
    "    scores = tfidf_matrix.toarray()\n",
    "\n",
    "    # Add a new \"keywords\" column to the DataFrame\n",
    "    df['keywords'] = pd.Series([None] * len(df))\n",
    "\n",
    "    # Extract and append top N keywords for each document\n",
    "    for i in range(len(df)):\n",
    "        top_keywords = [(feature_names[j], scores[i][j]) for j in scores[i].argsort()[-top_n_keywords:][::-1]]\n",
    "        df.loc[i, 'keywords'] = \", \".join([keyword[0] for keyword in top_keywords])\n",
    "\n",
    "    return df\n",
    "\n",
    "# Apply the function to DataFrame\n",
    "df = extract_and_append_keywords(df, max_features=15, top_n_keywords=10)\n",
    "\n",
    "\n",
    "df.head()\n"
   ]
  },
  {
   "cell_type": "code",
   "execution_count": 29,
   "metadata": {},
   "outputs": [
    {
     "data": {
      "text/html": [
       "<div>\n",
       "<style scoped>\n",
       "    .dataframe tbody tr th:only-of-type {\n",
       "        vertical-align: middle;\n",
       "    }\n",
       "\n",
       "    .dataframe tbody tr th {\n",
       "        vertical-align: top;\n",
       "    }\n",
       "\n",
       "    .dataframe thead th {\n",
       "        text-align: right;\n",
       "    }\n",
       "</style>\n",
       "<table border=\"1\" class=\"dataframe\">\n",
       "  <thead>\n",
       "    <tr style=\"text-align: right;\">\n",
       "      <th></th>\n",
       "      <th>paper_id</th>\n",
       "      <th>title</th>\n",
       "      <th>abstract</th>\n",
       "    </tr>\n",
       "  </thead>\n",
       "  <tbody>\n",
       "    <tr>\n",
       "      <th>127577</th>\n",
       "      <td>2209.08294v1</td>\n",
       "      <td>A Survey on the Network Models applied in the ...</td>\n",
       "      <td>Network architecture design is very important ...</td>\n",
       "    </tr>\n",
       "    <tr>\n",
       "      <th>132102</th>\n",
       "      <td>1805.07746v2</td>\n",
       "      <td>Network Reconstruction and Controlling Based o...</td>\n",
       "      <td>From the perspective of network analysis, the ...</td>\n",
       "    </tr>\n",
       "    <tr>\n",
       "      <th>199704</th>\n",
       "      <td>1703.06231v1</td>\n",
       "      <td>Network Comparison: Embeddings and Interiors</td>\n",
       "      <td>This paper presents methods to compare network...</td>\n",
       "    </tr>\n",
       "    <tr>\n",
       "      <th>155770</th>\n",
       "      <td>1609.09739v1</td>\n",
       "      <td>Graphs, Ideal Flow, and the Transportation Net...</td>\n",
       "      <td>This lecture discusses the mathematical relati...</td>\n",
       "    </tr>\n",
       "    <tr>\n",
       "      <th>131307</th>\n",
       "      <td>1904.08547v1</td>\n",
       "      <td>Deep Representation Learning for Social Networ...</td>\n",
       "      <td>Social network analysis is an important proble...</td>\n",
       "    </tr>\n",
       "  </tbody>\n",
       "</table>\n",
       "</div>"
      ],
      "text/plain": [
       "            paper_id                                              title  \\\n",
       "127577  2209.08294v1  A Survey on the Network Models applied in the ...   \n",
       "132102  1805.07746v2  Network Reconstruction and Controlling Based o...   \n",
       "199704  1703.06231v1       Network Comparison: Embeddings and Interiors   \n",
       "155770  1609.09739v1  Graphs, Ideal Flow, and the Transportation Net...   \n",
       "131307  1904.08547v1  Deep Representation Learning for Social Networ...   \n",
       "\n",
       "                                                 abstract  \n",
       "127577  Network architecture design is very important ...  \n",
       "132102  From the perspective of network analysis, the ...  \n",
       "199704  This paper presents methods to compare network...  \n",
       "155770  This lecture discusses the mathematical relati...  \n",
       "131307  Social network analysis is an important proble...  "
      ]
     },
     "execution_count": 29,
     "metadata": {},
     "output_type": "execute_result"
    }
   ],
   "source": [
    "def get_recommendations(value, tfidf_vectorizer, tfidf_matrix, df, num_recommendations):\n",
    "    if value in df['paper_id'].values:\n",
    "        # If input_text is a valid paper_id, retrieve keywords from the DataFrame\n",
    "        paper_id = value\n",
    "        keywords = df[df['paper_id'] == paper_id]['keywords'].values[0]\n",
    "    else:\n",
    "        # If input_text is not a valid paper_id, assume it is keywords\n",
    "        keywords = value.lower()\n",
    "        keywords = re.sub(r\"[^\\w\\s]\", \"\", keywords)\n",
    "\n",
    "    # Transform the input keywords into a TF-IDF vector\n",
    "    keyword_vector = tfidf_vectorizer.transform([keywords]).toarray()\n",
    "    keyword_vector = keyword_vector[:, :tfidf_matrix.shape[1]]\n",
    "\n",
    "    # Calculate cosine similarities between the keyword vector and all articles\n",
    "    similarities = cosine_similarity(keyword_vector, tfidf_matrix)\n",
    "\n",
    "    # Get the indices of the top N recommendations\n",
    "    top_n_idx = np.argsort(-similarities, axis=1)[:, :num_recommendations].flatten()\n",
    "\n",
    "    # Return the recommended article titles\n",
    "    rec_paper_id_title = df.loc[top_n_idx, ['paper_id', 'title', 'abstract']]\n",
    "    return rec_paper_id_title\n",
    "\n",
    "# Example usage:\n",
    "recommendations = get_recommendations('network', tfidf_vectorizer, tfidf_matrix, df, 5)\n",
    "recommendations.head()"
   ]
  },
  {
   "cell_type": "code",
   "execution_count": 21,
   "metadata": {},
   "outputs": [],
   "source": [
    "tfidf_vectorizer2 = TfidfVectorizer(max_features=10000)\n",
    "\n",
    "# Generate the tf-idf vectors for the data\n",
    "tfidf_matrix2 = tfidf_vectorizer2.fit_transform(df['stemmed_sentence'])"
   ]
  },
  {
   "cell_type": "code",
   "execution_count": 30,
   "metadata": {},
   "outputs": [],
   "source": [
    "rec = get_recommendations('2301.02401v1',tfidf_vectorizer, tfidf_matrix,df,1000)\n",
    "idxs = list(df[df['paper_id'].isin(rec['paper_id'])].index)\n",
    "rec_matrix = tfidf_matrix2[idxs]\n"
   ]
  },
  {
   "cell_type": "code",
   "execution_count": 33,
   "metadata": {},
   "outputs": [
    {
     "data": {
      "text/plain": [
       "(1000, 10000)"
      ]
     },
     "execution_count": 33,
     "metadata": {},
     "output_type": "execute_result"
    }
   ],
   "source": [
    "rec_matrix.shape"
   ]
  },
  {
   "cell_type": "code",
   "execution_count": 31,
   "metadata": {},
   "outputs": [],
   "source": [
    "pca = PCA(n_components=0.95, random_state=42) #Keep 95% of the variance\n",
    "reduced_matrix = pca.fit_transform(rec_matrix.toarray())"
   ]
  },
  {
   "cell_type": "code",
   "execution_count": null,
   "metadata": {},
   "outputs": [
    {
     "name": "stderr",
     "output_type": "stream",
     "text": [
      "/Users/mac/anaconda3/lib/python3.10/site-packages/sklearn/cluster/_kmeans.py:870: FutureWarning: The default value of `n_init` will change from 10 to 'auto' in 1.4. Set the value of `n_init` explicitly to suppress the warning\n",
      "  warnings.warn(\n"
     ]
    }
   ],
   "source": [
    "k = 10 # selectable\n",
    "kmeans = KMeans(n_clusters=k, random_state=42)\n",
    "y_pred = kmeans.fit_predict(reduced_matrix)"
   ]
  },
  {
   "cell_type": "code",
   "execution_count": null,
   "metadata": {},
   "outputs": [],
   "source": [
    "tsne = TSNE(perplexity=100, random_state=42)\n",
    "two_dim_matrix = tsne.fit_transform(reduced_matrix)\n"
   ]
  },
  {
   "cell_type": "code",
   "execution_count": null,
   "metadata": {},
   "outputs": [],
   "source": [
    "import seaborn as sns\n",
    "import matplotlib.pyplot as plt\n",
    "import plotly.express as px"
   ]
  },
  {
   "cell_type": "markdown",
   "metadata": {},
   "source": [
    "## Topic Modelling"
   ]
  },
  {
   "cell_type": "code",
   "execution_count": null,
   "metadata": {},
   "outputs": [],
   "source": [
    "from sklearn.decomposition import LatentDirichletAllocation\n",
    "from sklearn.feature_extraction.text import CountVectorizer"
   ]
  },
  {
   "cell_type": "code",
   "execution_count": null,
   "metadata": {},
   "outputs": [],
   "source": [
    "vectorizers = []\n",
    "    \n",
    "for x in range(0, k):\n",
    "    # Creating a vectorizer\n",
    "    vectorizers.append(CountVectorizer(min_df=5, max_df=0.9, stop_words='english', lowercase=True, token_pattern='[a-zA-Z\\-][a-zA-Z\\-]{2,}'))"
   ]
  },
  {
   "cell_type": "code",
   "execution_count": null,
   "metadata": {},
   "outputs": [],
   "source": [
    "topic_df = pd.DataFrame()\n",
    "topic_df['id'] =df[df['paper_id'].isin(rec['paper_id'])]['paper_id']\n",
    "topic_df['title'] = df[df['paper_id'].isin(rec['paper_id'])]['title']\n",
    "topic_df['text'] = df[df['paper_id'].isin(rec['paper_id'])]['title']+\" \"+df[df['paper_id'].isin(rec['paper_id'])]['abstract']\n",
    "topic_df['cluster'] = y_pred\n"
   ]
  },
  {
   "cell_type": "code",
   "execution_count": null,
   "metadata": {},
   "outputs": [
    {
     "data": {
      "text/html": [
       "<div>\n",
       "<style scoped>\n",
       "    .dataframe tbody tr th:only-of-type {\n",
       "        vertical-align: middle;\n",
       "    }\n",
       "\n",
       "    .dataframe tbody tr th {\n",
       "        vertical-align: top;\n",
       "    }\n",
       "\n",
       "    .dataframe thead th {\n",
       "        text-align: right;\n",
       "    }\n",
       "</style>\n",
       "<table border=\"1\" class=\"dataframe\">\n",
       "  <thead>\n",
       "    <tr style=\"text-align: right;\">\n",
       "      <th></th>\n",
       "      <th>id</th>\n",
       "      <th>title</th>\n",
       "      <th>text</th>\n",
       "      <th>cluster</th>\n",
       "    </tr>\n",
       "  </thead>\n",
       "  <tbody>\n",
       "    <tr>\n",
       "      <th>117</th>\n",
       "      <td>2301.00519v1</td>\n",
       "      <td>Holistic Network Virtualization and Pervasive ...</td>\n",
       "      <td>Holistic Network Virtualization and Pervasive ...</td>\n",
       "      <td>7</td>\n",
       "    </tr>\n",
       "    <tr>\n",
       "      <th>199</th>\n",
       "      <td>2212.14278v1</td>\n",
       "      <td>Industrial Scene Change Detection using Deep C...</td>\n",
       "      <td>Industrial Scene Change Detection using Deep C...</td>\n",
       "      <td>4</td>\n",
       "    </tr>\n",
       "    <tr>\n",
       "      <th>207</th>\n",
       "      <td>2301.00676v1</td>\n",
       "      <td>Multimodal Sequential Generative Models for Se...</td>\n",
       "      <td>Multimodal Sequential Generative Models for Se...</td>\n",
       "      <td>0</td>\n",
       "    </tr>\n",
       "    <tr>\n",
       "      <th>323</th>\n",
       "      <td>2212.12070v1</td>\n",
       "      <td>RouteNet-Fermi: Network Modeling with Graph Ne...</td>\n",
       "      <td>RouteNet-Fermi: Network Modeling with Graph Ne...</td>\n",
       "      <td>3</td>\n",
       "    </tr>\n",
       "    <tr>\n",
       "      <th>410</th>\n",
       "      <td>2212.10649v1</td>\n",
       "      <td>Inversion of Bayesian Networks</td>\n",
       "      <td>Inversion of Bayesian Networks Variational aut...</td>\n",
       "      <td>7</td>\n",
       "    </tr>\n",
       "  </tbody>\n",
       "</table>\n",
       "</div>"
      ],
      "text/plain": [
       "               id                                              title  \\\n",
       "117  2301.00519v1  Holistic Network Virtualization and Pervasive ...   \n",
       "199  2212.14278v1  Industrial Scene Change Detection using Deep C...   \n",
       "207  2301.00676v1  Multimodal Sequential Generative Models for Se...   \n",
       "323  2212.12070v1  RouteNet-Fermi: Network Modeling with Graph Ne...   \n",
       "410  2212.10649v1                     Inversion of Bayesian Networks   \n",
       "\n",
       "                                                  text  cluster  \n",
       "117  Holistic Network Virtualization and Pervasive ...        7  \n",
       "199  Industrial Scene Change Detection using Deep C...        4  \n",
       "207  Multimodal Sequential Generative Models for Se...        0  \n",
       "323  RouteNet-Fermi: Network Modeling with Graph Ne...        3  \n",
       "410  Inversion of Bayesian Networks Variational aut...        7  "
      ]
     },
     "execution_count": 50,
     "metadata": {},
     "output_type": "execute_result"
    }
   ],
   "source": [
    "topic_df.head()"
   ]
  },
  {
   "cell_type": "code",
   "execution_count": null,
   "metadata": {},
   "outputs": [],
   "source": [
    "vectorized_data = []\n",
    "\n",
    "for current_cluster, cvec in enumerate(vectorizers):\n",
    "    try:\n",
    "        vectorized_data.append(cvec.fit_transform(topic_df.loc[topic_df['cluster'] == current_cluster, 'text']))\n",
    "    except Exception as e:\n",
    "        print(\"Not enough instances in cluster: \" + str(current_cluster))\n",
    "        vectorized_data.append(None)"
   ]
  },
  {
   "cell_type": "code",
   "execution_count": null,
   "metadata": {},
   "outputs": [],
   "source": [
    "NUM_TOPICS_PER_CLUSTER = 5 #choose\n",
    "\n",
    "lda_models = []\n",
    "for x in range(0, k):\n",
    "    # Latent Dirichlet Allocation Model\n",
    "    lda = LatentDirichletAllocation(n_components=NUM_TOPICS_PER_CLUSTER, max_iter=10, learning_method='online',verbose=False, random_state=42)\n",
    "    lda_models.append(lda)"
   ]
  },
  {
   "cell_type": "code",
   "execution_count": null,
   "metadata": {},
   "outputs": [],
   "source": [
    "clusters_lda_data = []\n",
    "\n",
    "for current_cluster, lda in enumerate(lda_models):\n",
    "    #print(\"Current Cluster: \" + str(current_cluster))\n",
    "    \n",
    "    if vectorized_data[current_cluster] != None:\n",
    "        clusters_lda_data.append((lda.fit_transform(vectorized_data[current_cluster])))\n"
   ]
  },
  {
   "cell_type": "code",
   "execution_count": null,
   "metadata": {},
   "outputs": [],
   "source": [
    "def selected_topics(model, vectorizer, top_n=3):\n",
    "    current_words = []\n",
    "    keywords = []\n",
    "    \n",
    "    for idx, topic in enumerate(model.components_):\n",
    "        words = [(vectorizer.get_feature_names_out()[i], topic[i]) for i in topic.argsort()[:-top_n - 1:-1]]\n",
    "        for word in words:\n",
    "            if word[0] not in current_words:\n",
    "                keywords.append(word)\n",
    "                current_words.append(word[0])\n",
    "                \n",
    "    keywords.sort(key = lambda x: x[1])  \n",
    "    keywords.reverse()\n",
    "    return_values = []\n",
    "    for x in keywords:\n",
    "        return_values.append(x[0])\n",
    "    return \" \".join(return_values)\n"
   ]
  },
  {
   "cell_type": "code",
   "execution_count": null,
   "metadata": {},
   "outputs": [],
   "source": [
    "all_keywords = []\n",
    "for current_vectorizer, lda in enumerate(lda_models):\n",
    "    #print(\"Current Cluster: \" + str(current_vectorizer))\n",
    "\n",
    "    if vectorized_data[current_vectorizer] != None:\n",
    "        all_keywords.append(selected_topics(lda, vectorizers[current_vectorizer]))\n"
   ]
  },
  {
   "cell_type": "code",
   "execution_count": null,
   "metadata": {},
   "outputs": [],
   "source": [
    "cluster_keyword = {x:all_keywords[x] for x in range(k)}\n",
    "word_pred = list(map(cluster_keyword.get, y_pred))\n",
    "topic_df['keywords'] = word_pred\n"
   ]
  },
  {
   "cell_type": "code",
   "execution_count": null,
   "metadata": {},
   "outputs": [
    {
     "data": {
      "application/vnd.plotly.v1+json": {
       "config": {
        "plotlyServerURL": "https://plot.ly"
       },
       "data": [
        {
         "customdata": [
          [
           "2301.00519v1",
           "Holistic Network Virtualization and Pervasive Network Intelligence for 6G"
          ],
          [
           "2212.10649v1",
           "Inversion of Bayesian Networks"
          ],
          [
           "2211.14422v1",
           "Quantitative Method for Security Situation of the Power Information Network Based on the Evolutionary Neural Network"
          ],
          [
           "2210.09960v1",
           "Rethinking Value Function Learning for Generalization in Reinforcement Learning"
          ],
          [
           "2209.05208v1",
           "Graph Neural Modeling of Network Flows"
          ],
          [
           "2207.09792v1",
           "Unsupervised Industrial Anomaly Detection via Pattern Generative and Contrastive Networks"
          ],
          [
           "2211.15557v2",
           "Beyond CAGE: Investigating Generalization of Learned Autonomous Network Defense Policies"
          ],
          [
           "2212.07230v1",
           "Network Coding: An Optimization Approach"
          ],
          [
           "2212.00060v1",
           "Capacity of generalized diamond networks"
          ],
          [
           "2205.14655v1",
           "Network Decoding"
          ],
          [
           "2204.01433v1",
           "Dynamic Network-Code Design for Satellite Networks"
          ],
          [
           "2102.02563v1",
           "An efficient linear programming rounding-and-refinement algorithm for large-scale network slicing problem"
          ],
          [
           "2101.10225v1",
           "Age Debt: A General Framework For Minimizing Age of Information"
          ],
          [
           "2007.07921v1",
           "Performance analysis of a distributed algorithm for admission control in wireless networks under the $2$-hop interference model"
          ],
          [
           "2010.11786v1",
           "Spikyball sampling: Exploring large networks via an inhomogeneous filtered diffusion"
          ],
          [
           "1712.08437v1",
           "A Model of Optimal Network Structure for Decentralized Nearest Neighbor Search"
          ],
          [
           "2209.06852v1",
           "A Model Drift Detection and Adaptation Framework for 5G Core Networks"
          ],
          [
           "2207.13821v4",
           "Multi-Objective Provisioning of Network Slices using Deep Reinforcement Learning"
          ],
          [
           "2206.00310v1",
           "Digital Twin for Networking: A Data-driven Performance Modeling Perspective"
          ],
          [
           "2202.05667v1",
           "A Multi-Domain VNE Algorithm based on Load Balancing in the IoT networks"
          ],
          [
           "2202.00360v1",
           "Accelerating Deep Reinforcement Learning for Digital Twin Network Optimization with Evolutionary Strategies"
          ],
          [
           "2111.15029v1",
           "Reinforcement Learning Algorithm for Traffic Steering in Heterogeneous Network"
          ],
          [
           "2110.13390v1",
           "Novel Binary Addition Tree Algorithm (BAT) for Calculating the Direct Lower-Bound of the Highly Reliable Binary-State Network Reliability"
          ],
          [
           "2111.09416v1",
           "Highly Accurate and Reliable Wireless Network Slicing in 5th Generation Networks: A Hybrid Deep Learning Approach"
          ],
          [
           "2109.02760v1",
           "Tools for Network Traffic Generation -- A Quantitative Comparison"
          ],
          [
           "2108.09040v1",
           "A Quantitative Framework for Network Resilience Evaluation using Dynamic Bayesian Network"
          ],
          [
           "2108.13156v1",
           "MonTrees: Automated Detection and Classification of Networking Anomalies in Cellular Networks"
          ],
          [
           "2107.00997v1",
           "An Algorithm for Flow Control in Computer Networks Based in Discrete Control Theory"
          ],
          [
           "2104.02222v2",
           "Minimizing network bandwidth under latency constraints: The single node case"
          ],
          [
           "2102.10687v1",
           "An agile and distributed mechanism for inter-domain network slicing in next generation mobile networks"
          ],
          [
           "2102.05656v1",
           "A firefly algorithm for power management in wireless sensor networks (WSNs)"
          ],
          [
           "2101.08479v1",
           "Comparison and Improvement for Delay Analysis Approaches: Theoretical Models and Experimental Tests"
          ],
          [
           "2012.09009v2",
           "Next Generation Opportunistic Networking in Beyond 5G Networks"
          ],
          [
           "2011.14968v1",
           "Big Data-driven Automated Anomaly Detection and Performance Forecasting in Mobile Networks"
          ],
          [
           "2009.03575v3",
           "NC-MOPSO: Network centrality guided multi-objective particle swarm optimization for transport optimization on networks"
          ],
          [
           "2009.02983v1",
           "A node deployment model with variable transmission distance for wireless sensor networks"
          ],
          [
           "2008.06149v2",
           "Model Checking Software-Defined Networks with Flow Entries that Time Out (version with appendix)"
          ],
          [
           "2008.00089v1",
           "A Centralized Channel Allocation Method in Clustered Ad Hoc Networks"
          ],
          [
           "2006.02270v1",
           "Menes: Towards a Generic, Fully-Automated Test and Validation Platform for Wireless Networks"
          ],
          [
           "2005.08281v2",
           "Usage of Network Simulators in Machine-Learning-Assisted 5G/6G Networks"
          ],
          [
           "2003.05208v1",
           "In Situ Network and Application Performance Measurement on Android Devices and the Imperfections"
          ],
          [
           "2002.09832v1",
           "Sequence Preserving Network Traffic Generation"
          ],
          [
           "2001.05257v1",
           "A Software-Defined Networking approach for congestion control in Opportunistic Networking"
          ],
          [
           "1912.08336v2",
           "Topology Aware Deep Learning for Wireless Network Optimization"
          ],
          [
           "1910.02300v1",
           "Bender's Decomposition for Optimization Design Problems in Communication Networks"
          ],
          [
           "1909.12617v1",
           "Improving Resource Allocation in Software-Defined Networks using Clustering"
          ],
          [
           "1906.10549v1",
           "An End-to-End Performance Analysis for Service Chaining in a Virtualized Network"
          ],
          [
           "1906.06471v4",
           "Genetic Algorithm Based Resource Minimization in Network Code Based Peer-to-Peer Network"
          ],
          [
           "1905.11023v1",
           "An Optimal Game Approach for Heterogeneous Vehicular Network Selection with Varying Network Performance"
          ],
          [
           "1905.04581v4",
           "Towards an efficient and exact algorithm for dynamic dedicated path protection"
          ],
          [
           "1904.05202v1",
           "Development of QoS methods in the information networks with fractal traffic"
          ],
          [
           "1904.01700v1",
           "Research of Stability in Ad Hoc Self-Organizated Wireless Networks"
          ],
          [
           "1811.11247v1",
           "Performance Analysis of Connectivity and Localization in Multi-Hop Underwater Optical Wireless Sensor Networks"
          ],
          [
           "1810.02623v1",
           "Stability and performance guarantees in networks with cyclic dependencies"
          ],
          [
           "1809.09487v1",
           "Network Coding for Critical Infrastructure Networks"
          ],
          [
           "1808.01519v1",
           "NetO-App: A Network Orchestration Application for Centralized Network Management in Small Business Networks"
          ],
          [
           "1808.01081v1",
           "Performance Analysis of the Raft Consensus Algorithm for Private Blockchains"
          ],
          [
           "1804.00164v1",
           "Optimal QoS-aware network reconfiguration in software defined cloud data centers"
          ],
          [
           "1803.01528v1",
           "Network Phenotyping for Network Traffic Classification and Anomaly Detection"
          ],
          [
           "1801.02120v1",
           "Network Coding Implementation Details: A Guidance Document"
          ],
          [
           "1801.02117v1",
           "Network Coding with Link Layer Cooperation in Wireless Mesh Networks"
          ],
          [
           "1712.08672v2",
           "Network Utility Maximization in Adversarial Environments"
          ],
          [
           "1712.00635v2",
           "Network Coding Based Evolutionary Network Formation for Dynamic Wireless Networks"
          ],
          [
           "1712.00631v2",
           "Distributed Topology Design for Network Coding Deployed Large-scale Sensor Networks"
          ],
          [
           "1710.11583v1",
           "Why (and How) Networks Should Run Themselves"
          ],
          [
           "1709.03096v1",
           "Survivable Probability of SDN-enabled Cloud Networking with Random Physical Link Failure"
          ],
          [
           "2209.00721v4",
           "Generalizing intrusion detection for heterogeneous networks: A stacked-unsupervised federated learning approach"
          ],
          [
           "2208.10279v1",
           "Defensive Distillation based Adversarial Attacks Mitigation Method for Channel Estimation using Deep Learning Models in Next-Generation Wireless Networks"
          ],
          [
           "2201.01927v1",
           "Network Generations and the Security Challenge in IoT Applications"
          ],
          [
           "2204.06250v3",
           "Large-scale multi-objective influence maximisation with network downscaling"
          ],
          [
           "1902.09864v1",
           "Spiking Neural Network based Region Proposal Networks for Neuromorphic Vision Sensors"
          ],
          [
           "1612.03940v1",
           "Understanding the Impact of Precision Quantization on the Accuracy and Energy of Neural Networks"
          ],
          [
           "1612.02233v1",
           "A simple and efficient SNN and its performance & robustness evaluation method to enable hardware implementation"
          ],
          [
           "1605.07146v4",
           "Wide Residual Networks"
          ],
          [
           "1603.07866v1",
           "The Asymptotic Performance of Linear Echo State Neural Networks"
          ],
          [
           "2004.08441v1",
           "Structuring Communities for Sharing Human Digital Memories in a Social P2P Network"
          ],
          [
           "1811.09018v2",
           "DHLP 1&2: Giraph based distributed label propagation algorithms on heterogeneous drug-related networks"
          ],
          [
           "2009.11422v1",
           "An Online and Nonuniform Timeslicing Method for Network Visualisation"
          ],
          [
           "2303.01211v1",
           "Learning From Yourself: A Self-Distillation Method for Fake Speech Detection"
          ],
          [
           "1707.01613v4",
           "SSGAN: Secure Steganography Based on Generative Adversarial Networks"
          ],
          [
           "1101.3979v1",
           "Selection of network coding nodes for minimal playback delay in streaming overlays"
          ],
          [
           "2004.11039v2",
           "Team Performance Evaluation Model based on Network Feature Extraction"
          ],
          [
           "2104.11618v1",
           "Efficiency and Stability in Euclidean Network Design"
          ],
          [
           "2011.01455v2",
           "Distributed Machine Learning with Strategic Network Design: A Game-Theoretic Perspective"
          ],
          [
           "1712.07552v1",
           "Anchored Network Users: Stochastic Evolutionary Dynamics of Cognitive Radio Network Selection"
          ],
          [
           "1602.07745v1",
           "Interdependent Network Formation Games"
          ],
          [
           "1201.1676v10",
           "Sufficient Conditions for Formation of a Network Topology by Self-interested Agents"
          ],
          [
           "1104.4423v2",
           "Enforcing efficient equilibria in network design games via subsidies"
          ],
          [
           "2212.02076v1",
           "NBC2: Multichannel Speech Separation with Revised Narrow-band Conformer"
          ],
          [
           "1211.4289v3",
           "Application of three graph Laplacian based semi-supervised learning methods to protein function prediction problem"
          ],
          [
           "2005.14531v2",
           "Optimising attractor computation in Boolean automata networks"
          ],
          [
           "1211.3250v1",
           "Deriving Pareto-optimal performance bounds for 1 and 2-relay wireless networks"
          ],
          [
           "1010.0630v1",
           "Performance of wireless network coding: motivating small encoding numbers"
          ],
          [
           "0911.0482v2",
           "AES Implementation and Performance Evaluation on 8-bit Microcontrollers"
          ],
          [
           "0811.3712v1",
           "Performance Modeling and Evaluation for Information-Driven Networks"
          ],
          [
           "2304.05801v1",
           "EgoDist: Comparing networks via distributions of egonet features"
          ],
          [
           "2304.03479v1",
           "Clique Densification in Networks"
          ],
          [
           "2302.00504v1",
           "Anomaly, reciprocity, and community detection in networks"
          ],
          [
           "2301.08956v1",
           "Using deterministic tourist walk as a small-world metric on Watts-Strogatz networks"
          ],
          [
           "2211.06657v1",
           "Identifying the perceived local properties of networks reconstructed from biased random walks"
          ],
          [
           "2211.05054v1",
           "Message passing methods on complex networks"
          ],
          [
           "2206.15190v2",
           "Recovering network topology and dynamics via sequence characterization"
          ],
          [
           "2205.15066v2",
           "On the External Validity of Average-Case Analyses of Graph Algorithms"
          ],
          [
           "2111.01526v2",
           "A modified gravity model based on network efficiency for vital nodes identification in complex networks"
          ],
          [
           "2103.03728v1",
           "Using Dual-Network Analyser for extracting communities from Dual Networks"
          ],
          [
           "2103.03135v3",
           "Sublinear Domination and Core-Periphery Networks"
          ],
          [
           "2010.16019v1",
           "netrd: A library for network reconstruction and graph distances"
          ],
          [
           "2009.09973v1",
           "Privacy and Uniqueness of Neighborhoods in Social Networks"
          ],
          [
           "2008.03383v1",
           "Extracting Backbones in Weighted Modular Complex Networks"
          ],
          [
           "2008.03334v2",
           "Bayesian inference of network structure from unreliable data"
          ],
          [
           "2006.06939v3",
           "Targeted Pandemic Containment Through Identifying Local Contact Network Bottlenecks"
          ],
          [
           "2002.04426v1",
           "A new generalization of edge overlap to weighted networks"
          ],
          [
           "1908.01393v2",
           "Network Inference from Consensus Dynamics with Unknown Parameters"
          ],
          [
           "1908.00523v1",
           "Measuring the Clustering Strength of a Network via the Normalized Clustering Coefficient"
          ],
          [
           "1907.08252v1",
           "Message passing on networks with loops"
          ],
          [
           "1906.08335v1",
           "Compressive Closeness in Networks"
          ],
          [
           "1906.03052v3",
           "Approximate Identification of the Optimal Epidemic Source in Complex Networks"
          ],
          [
           "1905.08716v2",
           "Learning Conserved Networks from Flows"
          ],
          [
           "1904.02483v1",
           "Mixed Random Sampling of Frames method for counting number of motifs"
          ],
          [
           "1902.09364v1",
           "Transforming Collaboration Data into Network Layers for Enhanced Analytics"
          ],
          [
           "1901.09681v1",
           "Network Lens: Node Classification in Topologically Heterogeneous Networks"
          ],
          [
           "1811.05743v2",
           "Measuring Road Network Topology Vulnerability by Ricci Curvature"
          ],
          [
           "1809.08198v1",
           "Low rank methods for multiple network alignment"
          ],
          [
           "1807.03650v1",
           "On a Class of Stochastic Multilayer Networks"
          ],
          [
           "1806.03687v1",
           "Complex network representation through multi-dimensional node projection"
          ],
          [
           "1801.01357v2",
           "Generalized Network Dismantling"
          ],
          [
           "1709.01150v1",
           "Abstraction of Linear Consensus Networks with Guaranteed Systemic Performance Measures"
          ],
          [
           "1312.7580v4",
           "On the Learning Behavior of Adaptive Networks - Part II: Performance Analysis"
          ],
          [
           "1312.7306v1",
           "Algorithmic Perspectives of Network Transitive Reduction Problems and their Applications to Synthesis and Analysis of Biological Networks"
          ],
          [
           "2008.01573v1",
           "Top-k Connected Overlapping Densest Subgraphs in Dual Networks"
          ],
          [
           "2107.12778v1",
           "Assessing the performance of smart grid communication networks under both time and budget constraints"
          ],
          [
           "1912.03999v1",
           "Combining Networks using Cherry Picking Sequences"
          ],
          [
           "1607.02637v1",
           "Network Flows Under Thermal Restrictions"
          ],
          [
           "1507.05103v1",
           "Deterministic hierarchical networks"
          ],
          [
           "1202.6033v3",
           "The Power of Local Information in Social Networks"
          ],
          [
           "1301.4655v1",
           "On bibliographic networks"
          ],
          [
           "0903.2598v3",
           "Generating Hierarchically Modular Networks via Link Switching"
          ],
          [
           "1807.10093v1",
           "Computing optimal shortcuts for networks"
          ],
          [
           "1101.5410v4",
           "Connection errors in networks of linear features and the application of geometrical reduction in spatial data algorithms"
          ],
          [
           "1506.00880v2",
           "Multiplex PI-Control for Consensus in Networks of Heterogeneous Linear Agents"
          ],
          [
           "1803.07365v1",
           "Weighted Null-Space Fitting for Identification of Cascade Networks"
          ],
          [
           "1403.2407v4",
           "A Composable Method for Real-Time Control of Active Distribution Networks with Explicit Power Setpoints"
          ],
          [
           "1612.01963v5",
           "Dynamic Network Reconstruction from Heterogeneous Datasets"
          ],
          [
           "1706.01751v1",
           "Reduction of Second-Order Network Systems with Structure Preservation"
          ],
          [
           "1901.01038v1",
           "A Full Bayesian Approach to Sparse Network Inference using Heterogeneous Datasets"
          ],
          [
           "1901.04571v1",
           "Real-Time Predictive Control Strategy Optimization"
          ],
          [
           "1712.05273v5",
           "Asymptotic Network Robustness"
          ],
          [
           "1810.08287v1",
           "Performance Improvement in Noisy Linear Consensus Networks with Time-Delay"
          ],
          [
           "1511.08876v1",
           "Stability Analysis of Network of Similar-Plants via Feedback Network"
          ],
          [
           "1603.05307v1",
           "Cooperative Robust Estimation with Local Performance Guarantees"
          ],
          [
           "1804.02033v1",
           "Optimal Control of Networks in the presence of Attackers and Defenders"
          ],
          [
           "1804.07221v3",
           "A Decomposition-based Approach towards the Control of Boolean Networks (Technical Report)"
          ],
          [
           "1401.4935v1",
           "Performance Analysis of a Network of Event-based Systems"
          ],
          [
           "1410.5165v1",
           "Sparsity Methods for Networked Control"
          ],
          [
           "1512.09311v1",
           "Finite-time Analysis of the Distributed Detection Problem"
          ],
          [
           "1609.02678v1",
           "Identifying Topology of Power Distribution Networks Based on Smart Meter Data"
          ],
          [
           "1609.06888v2",
           "Analysis of Network Robustness for Finite Sized Wireless Sensor Networks"
          ],
          [
           "1005.2815v1",
           "Evolving Genes to Balance a Pole"
          ],
          [
           "1208.1918v1",
           "A Survey on Authentication and Key Agreement Protocols in Heterogeneous Networks"
          ],
          [
           "1406.1215v3",
           "Parallel Algorithms for Generating Random Networks with Given Degree Sequences"
          ],
          [
           "1108.3516v4",
           "Model for networks of spatial objects and simulation of geographical phenomena propagation"
          ],
          [
           "0503047v1",
           "On Multiflows in Random Unit-Disk Graphs, and the Capacity of Some Wireless Networks"
          ],
          [
           "0708.3070v1",
           "Network Coding Capacity of Random Wireless Networks under a Signal-to-Interference-and-Noise Model"
          ],
          [
           "0710.4903v1",
           "Anonymous Networking amidst Eavesdroppers"
          ],
          [
           "0903.2516v1",
           "Effect of Degree Distribution on Evolutionary Search"
          ],
          [
           "0807.0425v1",
           "Wireless Broadcast with Network Coding in Mobile Ad-Hoc Networks: DRAGONCAST"
          ],
          [
           "0908.0711v3",
           "Passive network tomography for erroneous networks: A network coding approach"
          ],
          [
           "0908.0986v1",
           "Ethernet Networks: Current Trends and Tools"
          ],
          [
           "0908.2231v3",
           "Two Algorithms for Network Size Estimation for Master/Slave Ad Hoc Networks"
          ],
          [
           "0912.3985v1",
           "New Model of Network- a Future Aspect of the Computer Networks"
          ],
          [
           "1005.1749v1",
           "General Model for Infrastructure Multi-channel Wireless LANs"
          ],
          [
           "1603.04979v1",
           "Guitar Solos as Networks"
          ],
          [
           "1407.3386v2",
           "Feature Extraction from Degree Distribution for Comparison and Analysis of Complex Networks"
          ],
          [
           "1504.02577v2",
           "Panther: Fast Top-k Similarity Search in Large Networks"
          ],
          [
           "1703.10511v1",
           "Multimodal Network Alignment"
          ],
          [
           "1701.08787v1",
           "Vulnerability of Clustering under Node Failure in Complex Networks"
          ],
          [
           "1706.01205v2",
           "Degree Ranking Using Local Information"
          ],
          [
           "1706.09192v2",
           "Network Topology Inference Using Information Cascades with Limited Statistical Knowledge"
          ]
         ],
         "hovertemplate": "keywords=networks problem algorithm coding model proposed paper performance operation data<br>x=%{x}<br>y=%{y}<br>id=%{customdata[0]}<br>title=%{customdata[1]}<extra></extra>",
         "legendgroup": "networks problem algorithm coding model proposed paper performance operation data",
         "marker": {
          "color": "#636efa",
          "symbol": "circle"
         },
         "mode": "markers",
         "name": "networks problem algorithm coding model proposed paper performance operation data",
         "orientation": "v",
         "showlegend": true,
         "type": "scatter",
         "x": [
          2.6175358295440674,
          -5.68292760848999,
          -5.233170986175537,
          -2.3374836444854736,
          8.914795875549316,
          -9.992761611938477,
          -2.3353865146636963,
          0.21980050206184387,
          -0.17979469895362854,
          -0.01051979698240757,
          -0.21745455265045166,
          4.232655048370361,
          12.594715118408203,
          11.766103744506836,
          2.2791388034820557,
          2.1000335216522217,
          -3.743842601776123,
          3.528218984603882,
          -9.301511764526367,
          6.449670791625977,
          -0.649819016456604,
          -8.242185592651367,
          2.238558769226074,
          3.2412004470825195,
          -7.675278186798096,
          -1.178884506225586,
          -8.938743591308594,
          -2.3097381591796875,
          -7.949708938598633,
          3.5438714027404785,
          6.70464563369751,
          -5.699982166290283,
          4.074935436248779,
          -9.157621383666992,
          2.706836462020874,
          2.083864450454712,
          -1.973486304283142,
          6.265847682952881,
          -0.3225310146808624,
          -4.385255336761475,
          -7.419929027557373,
          -7.640995979309082,
          -1.9193044900894165,
          0.06513906270265579,
          3.3871660232543945,
          6.453161716461182,
          -6.884073257446289,
          0.5508742928504944,
          -1.81646728515625,
          4.642424583435059,
          -7.934232711791992,
          0.38204583525657654,
          10.07925033569336,
          -1.2364386320114136,
          -0.4225437641143799,
          -1.8224157094955444,
          -3.891082763671875,
          2.918933391571045,
          -9.58842945098877,
          0.15814296901226044,
          0.2995125353336334,
          -6.083935260772705,
          0.19794230163097382,
          -1.361945390701294,
          -1.8600236177444458,
          2.1107230186462402,
          3.1245524883270264,
          5.520848274230957,
          -5.187025547027588,
          4.83691930770874,
          2.6406333446502686,
          -8.500663757324219,
          -8.858838081359863,
          -11.90851879119873,
          -3.070747137069702,
          -1.0675380229949951,
          2.8267595767974854,
          1.1631278991699219,
          -10.250657081604004,
          3.0938608646392822,
          0.6652495265007019,
          9.400374412536621,
          1.965442180633545,
          3.9056003093719482,
          -3.5544631481170654,
          3.8916025161743164,
          -1.6080807447433472,
          2.1089704036712646,
          5.665180683135986,
          -1.4916486740112305,
          -3.228421211242676,
          -0.024443140253424644,
          0.2903687655925751,
          2.3012266159057617,
          -5.676258563995361,
          3.5965054035186768,
          2.014500617980957,
          -7.599104404449463,
          -2.9884040355682373,
          10.66843318939209,
          -0.6024080514907837,
          10.693809509277344,
          3.301011085510254,
          6.351351737976074,
          3.813584804534912,
          -2.9117822647094727,
          0.8515700697898865,
          3.0029501914978027,
          5.6455559730529785,
          0.6506490111351013,
          6.896726131439209,
          7.400742053985596,
          1.907421588897705,
          5.921764373779297,
          -0.6098024845123291,
          5.5995073318481445,
          -0.8278745412826538,
          0.4163382649421692,
          0.6616494655609131,
          0.8053959012031555,
          1.898107886314392,
          4.794825553894043,
          9.529052734375,
          1.297269582748413,
          -2.452305793762207,
          4.654123306274414,
          -3.704918622970581,
          -2.8692400455474854,
          2.8732171058654785,
          3.799907922744751,
          5.660712718963623,
          -0.027694523334503174,
          1.270499348640442,
          -3.3663580417633057,
          3.4490480422973633,
          -1.2160643339157104,
          9.843985557556152,
          1.4622223377227783,
          2.517017126083374,
          0.7441715598106384,
          -1.4145777225494385,
          -9.347320556640625,
          1.13974130153656,
          6.115736484527588,
          -5.67664909362793,
          -9.534236907958984,
          -1.5526891946792603,
          -1.3983389139175415,
          -2.400723695755005,
          7.401839733123779,
          -2.039729595184326,
          -2.9129772186279297,
          -4.917102813720703,
          5.916009426116943,
          0.5535072684288025,
          -2.1784965991973877,
          1.348436951637268,
          -7.205845355987549,
          -1.3285095691680908,
          3.5518579483032227,
          -4.096164703369141,
          0.5501764416694641,
          0.39294812083244324,
          0.30066534876823425,
          9.842290878295898,
          0.23165665566921234,
          -0.709530234336853,
          -1.947898268699646,
          6.182714939117432,
          -2.429581880569458,
          1.2477086782455444,
          -2.43902850151062,
          3.5306396484375,
          2.541922092437744,
          9.532817840576172,
          5.55198335647583,
          3.316098690032959,
          2.2961864471435547
         ],
         "xaxis": "x",
         "y": [
          12.297444343566895,
          8.317339897155762,
          7.732659339904785,
          -0.0292491614818573,
          1.5880318880081177,
          6.1119184494018555,
          10.725756645202637,
          12.765714645385742,
          12.897806167602539,
          12.564324378967285,
          10.495684623718262,
          12.162095069885254,
          4.145470142364502,
          6.1597137451171875,
          5.2974066734313965,
          9.298484802246094,
          14.223343849182129,
          12.364866256713867,
          4.308743000030518,
          12.018805503845215,
          -0.07329288870096207,
          4.5439887046813965,
          10.702123641967773,
          12.417466163635254,
          3.158369779586792,
          10.611708641052246,
          6.58628511428833,
          12.729695320129395,
          3.371344804763794,
          12.423645973205566,
          10.467394828796387,
          6.554649353027344,
          10.45384407043457,
          6.677639961242676,
          9.672931671142578,
          10.137737274169922,
          12.203763961791992,
          13.784965515136719,
          9.075004577636719,
          3.4389004707336426,
          4.436790943145752,
          2.7590317726135254,
          12.152724266052246,
          0.4184877872467041,
          10.687024116516113,
          10.775399208068848,
          9.309019088745117,
          10.974390029907227,
          14.25572395324707,
          11.925527572631836,
          2.722374439239502,
          9.5142183303833,
          5.192198276519775,
          11.273204803466797,
          10.785977363586426,
          11.88192367553711,
          12.773778915405273,
          12.71380615234375,
          6.224084377288818,
          10.982426643371582,
          11.305861473083496,
          11.073007583618164,
          9.578537940979004,
          9.93139934539795,
          3.0317280292510986,
          11.080220222473145,
          -0.9185255169868469,
          -0.6624511480331421,
          12.013375282287598,
          4.699339866638184,
          15.941055297851562,
          -0.27221253514289856,
          0.9777718186378479,
          3.7713489532470703,
          1.1585919857025146,
          6.355007171630859,
          8.331226348876953,
          3.6766164302825928,
          2.0617053508758545,
          -11.129055976867676,
          10.494682312011719,
          13.305390357971191,
          13.926460266113281,
          14.393186569213867,
          10.173425674438477,
          14.389069557189941,
          9.47630786895752,
          13.986102104187012,
          10.38584041595459,
          0.9049763083457947,
          11.362908363342285,
          11.967767715454102,
          11.71923542022705,
          10.6234769821167,
          6.599663734436035,
          4.754279136657715,
          8.621726989746094,
          6.239498615264893,
          8.144505500793457,
          9.165217399597168,
          15.517062187194824,
          9.169890403747559,
          8.489821434020996,
          3.0797488689422607,
          9.377315521240234,
          7.691535949707031,
          7.054558277130127,
          5.098675727844238,
          4.576112747192383,
          7.058358192443848,
          4.8780364990234375,
          8.053783416748047,
          7.1662468910217285,
          10.092294692993164,
          15.561107635498047,
          3.743751287460327,
          8.709668159484863,
          7.269084930419922,
          4.272128582000732,
          8.35482120513916,
          5.4321184158325195,
          8.750764846801758,
          11.156698226928711,
          8.235291481018066,
          8.294251441955566,
          4.292749404907227,
          12.576787948608398,
          9.873331069946289,
          8.609786987304688,
          9.486824989318848,
          8.002549171447754,
          7.319983005523682,
          9.921952247619629,
          8.34463119506836,
          7.820340156555176,
          6.724463939666748,
          7.069971561431885,
          14.769939422607422,
          -2.099107027053833,
          9.092641830444336,
          3.66280460357666,
          10.99303150177002,
          0.21595287322998047,
          9.352160453796387,
          5.2553582191467285,
          9.001287460327148,
          7.710082054138184,
          0.7156917452812195,
          2.12134051322937,
          2.821411371231079,
          10.477137565612793,
          11.117902755737305,
          6.952468395233154,
          -3.8194332122802734,
          14.2684326171875,
          9.27397632598877,
          9.391214370727539,
          12.56084156036377,
          8.135225296020508,
          5.541587829589844,
          7.377939224243164,
          12.507256507873535,
          12.329469680786133,
          9.782933235168457,
          7.075359344482422,
          11.154311180114746,
          9.772567749023438,
          9.139543533325195,
          13.869902610778809,
          7.2914958000183105,
          12.229485511779785,
          -18.05828094482422,
          5.121120452880859,
          7.388341903686523,
          11.1641845703125,
          9.89162540435791,
          5.204620838165283,
          7.342598915100098
         ],
         "yaxis": "y"
        },
        {
         "customdata": [
          [
           "2212.14278v1",
           "Industrial Scene Change Detection using Deep Convolutional Neural Networks"
          ],
          [
           "2212.06152v1",
           "Accelerating Dataset Distillation via Model Augmentation"
          ],
          [
           "2211.10154v1",
           "CRAFT: Concept Recursive Activation FacTorization for Explainability"
          ],
          [
           "2209.15276v1",
           "Machine Unlearning Method Based On Projection Residual"
          ],
          [
           "2208.08112v1",
           "DLCFT: Deep Linear Continual Fine-Tuning for General Incremental Learning"
          ],
          [
           "2207.10295v1",
           "Addressing Optimism Bias in Sequence Modeling for Reinforcement Learning"
          ],
          [
           "2207.03305v1",
           "Multimodal E-Commerce Product Classification Using Hierarchical Fusion"
          ],
          [
           "2206.01254v3",
           "Which Explanation Should I Choose? A Function Approximation Perspective to Characterizing Post Hoc Explanations"
          ],
          [
           "2211.06643v1",
           "Kinematics Transformer: Solving The Inverse Modeling Problem of Soft Robots using Transformers"
          ],
          [
           "2211.03481v1",
           "Predictive Coding beyond Gaussian Distributions"
          ],
          [
           "2210.11801v1",
           "Random Actions vs Random Policies: Bootstrapping Model-Based Direct Policy Search"
          ],
          [
           "2210.02168v2",
           "An Active Learning Reliability Method for Systems with Partially Defined Performance Functions"
          ],
          [
           "2210.07814v1",
           "A Sequence-Aware Recommendation Method Based on Complex Networks"
          ],
          [
           "2210.07816v1",
           "A Recommendation Approach based on Similarity-Popularity Models of Complex Networks"
          ],
          [
           "2209.14548v1",
           "Offline Reinforcement Learning via High-Fidelity Generative Behavior Modeling"
          ],
          [
           "2101.06917v1",
           "Detection of Insider Attacks in Distributed Projected Subgradient Algorithms"
          ],
          [
           "2210.05243v1",
           "Cross-modal Search Method of Technology Video based on Adversarial Learning and Feature Fusion"
          ],
          [
           "2205.12920v2",
           "DH-GAN: A Physics-driven Untrained Generative Adversarial Network for 3D Microscopic Imaging using Digital Holography"
          ],
          [
           "2110.08591v2",
           "n-stage Latent Dirichlet Allocation: A Novel Approach for LDA"
          ],
          [
           "2103.12404v1",
           "Diversity Regularized Interests Modeling for Recommender Systems"
          ],
          [
           "2102.07575v2",
           "User Embedding based Neighborhood Aggregation Method for Inductive Recommendation"
          ],
          [
           "2010.07027v5",
           "A Light Heterogeneous Graph Collaborative Filtering Model using Textual Information"
          ],
          [
           "2001.11658v3",
           "Symmetrical Synthesis for Deep Metric Learning"
          ],
          [
           "1911.06910v2",
           "CNN-based Dual-Chain Models for Knowledge Graph Learning"
          ],
          [
           "1906.09506v3",
           "Ekar: An Explainable Method for Knowledge Aware Recommendation"
          ],
          [
           "1904.09068v2",
           "A Hybrid Retrieval-Generation Neural Conversation Model"
          ],
          [
           "1812.11740v1",
           "A Neural Network Based Explainable Recommender System"
          ],
          [
           "2107.03933v1",
           "A Federated Semi-Supervised Learning Approach for Network Traffic Classification"
          ],
          [
           "1904.10179v3",
           "Towards Data-driven Simulation of End-to-end Network Performance Indicators"
          ],
          [
           "1804.07793v1",
           "Assessing Combinatorial Design for Analyzing System Performance of a Computer Network"
          ],
          [
           "2304.10317v1",
           "Adaptive Consensus Optimization Method for GANs"
          ],
          [
           "2302.00773v2",
           "Neural Networks for Symbolic Regression"
          ],
          [
           "2110.13082v1",
           "An Evolutionary Correlation-aware Feature Selection Method for Classification Problems"
          ],
          [
           "2107.01711v1",
           "Autoencoder based Randomized Learning of Feedforward Neural Networks for Regression"
          ],
          [
           "2106.05814v1",
           "A concise method for feature selection via normalized frequencies"
          ],
          [
           "2103.03526v1",
           "Meta Learning Black-Box Population-Based Optimizers"
          ],
          [
           "1910.04112v2",
           "Continual Learning Using Bayesian Neural Networks"
          ],
          [
           "1909.13465v1",
           "An Object Detection by using Adaptive Structural Learning of Deep Belief Network"
          ],
          [
           "1908.05864v2",
           "Generating Random Parameters in Feedforward Neural Networks with Random Hidden Nodes: Drawbacks of the Standard Method and How to Improve It"
          ],
          [
           "1905.08885v1",
           "Evolving neural networks to follow trajectories of arbitrary complexity"
          ],
          [
           "1807.03953v1",
           "Adaptive Learning Method of Recurrent Temporal Deep Belief Network to Analyze Time Series Data"
          ],
          [
           "1807.03486v2",
           "An Adaptive Learning Method of Deep Belief Network by Layer Generation Algorithm"
          ],
          [
           "1710.04874v1",
           "A Method of Generating Random Weights and Biases in Feedforward Neural Networks with Random Hidden Nodes"
          ],
          [
           "1708.04583v1",
           "Fast Modeling Methods for Complex System with Separable Features"
          ],
          [
           "1608.00218v1",
           "Hyperparameter Transfer Learning through Surrogate Alignment for Efficient Deep Neural Network Training"
          ],
          [
           "2209.06450v1",
           "Performance Evaluation of Parallel Algorithms"
          ],
          [
           "1811.10835v1",
           "A Frequency Scaling based Performance Indicator Framework for Big Data Systems"
          ],
          [
           "2109.10656v1",
           "Vehicle Behavior Prediction and Generalization Using Imbalanced Learning Techniques"
          ],
          [
           "2004.03922v1",
           "Nonlinear Dimensionality Reduction for Data Visualization: An Unsupervised Fuzzy Rule-based Approach"
          ],
          [
           "1811.00101v1",
           "A Process-driven View on Summative Evaluation of Visual Analytics Solutions"
          ],
          [
           "2204.06180v1",
           "Dynamic Neural Textures: Generating Talking-Face Videos with Continuously Controllable Expressions"
          ],
          [
           "2108.03375v2",
           "Temporal Action Localization Using Gated Recurrent Units"
          ],
          [
           "1912.11822v1",
           "An Ensemble Rate Adaptation Framework for Dynamic Adaptive Streaming Over HTTP"
          ],
          [
           "1709.06729v1",
           "A new adaptive method for hiding data in images"
          ],
          [
           "1404.0088v1",
           "Toward Parametric Timed Interfaces for Real-Time Components"
          ],
          [
           "2112.07893v3",
           "Graph-based Ensemble Machine Learning for Student Performance Prediction"
          ],
          [
           "2109.10724v1",
           "Low-Latency Incremental Text-to-Speech Synthesis with Distilled Context Prediction Network"
          ],
          [
           "2011.00771v1",
           "Multitask Learning and Joint Optimization for Transformer-RNN-Transducer Speech Recognition"
          ],
          [
           "1809.07311v2",
           "Accelerating Flash Calculation through Deep Learning Methods"
          ],
          [
           "1402.7324v1",
           "Geometrical approach to modeling of nonlinear systems from experimental data"
          ],
          [
           "1601.06945v2",
           "Exact Finite-State Machine Identification from Scenarios and Temporal Properties"
          ],
          [
           "2004.08100v8",
           "Recommendation system using a deep learning and graph analysis approach"
          ],
          [
           "1909.13646v1",
           "Vital Spreaders Identification in Complex Networks with Multi-Local Dimension"
          ],
          [
           "1909.01076v1",
           "Link Prediction in Networks Using Effective Transitions"
          ],
          [
           "2303.00912v1",
           "Parameter Sharing with Network Pruning for Scalable Multi-Agent Deep Reinforcement Learning"
          ],
          [
           "2302.11835v1",
           "Combining search strategies to improve performance in the calibration of economic ABMs"
          ],
          [
           "2107.00284v1",
           "SA-MATD3:Self-attention-based multi-agent continuous control method in cooperative environments"
          ],
          [
           "1606.01380v1",
           "Effective Multi-Robot Spatial Task Allocation using Model Approximations"
          ],
          [
           "1706.03497v1",
           "A filter based approach for inbetweening"
          ],
          [
           "2008.04124v2",
           "Expected Performance and Worst Case Scenario Analysis of the Divide-and-Conquer Method for the 0-1 Knapsack Problem"
          ],
          [
           "2206.04774v1",
           "An approximation algorithm for random generation of capacities"
          ],
          [
           "1502.08030v2",
           "Author Name Disambiguation by Using Deep Neural Network"
          ],
          [
           "1002.1683v1",
           "Design of Current Controller for Two Quadrant DC Motor Drive by Using Model Order Reduction Technique"
          ],
          [
           "2201.10705v2",
           "Learning to Recommend Method Names with Global Context"
          ],
          [
           "2108.06376v1",
           "A User-Study Protocol for Evaluation of Formal Verification Results and their Explanation"
          ],
          [
           "2103.11118v1",
           "Keywords Guided Method Name Generation"
          ],
          [
           "2102.06395v1",
           "White-Box Performance-Influence Models: A Profiling and Learning Approach"
          ],
          [
           "1703.04568v1",
           "An empirical evaluation of ensemble adjustment methods for analogy-based effort estimation"
          ],
          [
           "2203.09710v1",
           "Learning Stabilizable Deep Dynamics Models"
          ],
          [
           "2110.13501v1",
           "Tensor Network Kalman Filtering for Large-Scale LS-SVMs"
          ],
          [
           "2303.08054v5",
           "Statistical Hardware Design With Multi-model Active Learning"
          ],
          [
           "2012.05001v1",
           "Dual perspective method for solving the point in a polygon problem"
          ],
          [
           "1702.08124v2",
           "Approximate Newton Methods"
          ],
          [
           "1704.03102v1",
           "Control Synthesis of Nonlinear Sampled Switched Systems using Euler's Method"
          ],
          [
           "1703.03374v1",
           "PMU-Based Estimation of Dynamic State Jacobian Matrix"
          ],
          [
           "1610.08534v1",
           "Optimal model order reduction with the Steiglitz-McBride method for open-loop data"
          ],
          [
           "1906.02925v2",
           "Average predictive control for nonlinear discrete dynamical systems"
          ],
          [
           "1602.05703v3",
           "Adaptive Least Mean Squares Estimation of Graph Signals"
          ],
          [
           "1802.05593v1",
           "System Identification via Polynomial Transformation Method"
          ],
          [
           "1506.09107v2",
           "A complex network approach to stylometry"
          ],
          [
           "1204.2336v1",
           "Feature Extraction Methods for Color Image Similarity"
          ],
          [
           "1202.6256v1",
           "Diagonalization Matrix Method of Solving the First Problem of Hidden Markov Model in Speech Recognition System"
          ],
          [
           "1103.1013v2",
           "A Feature Selection Method for Multivariate Performance Measures"
          ],
          [
           "1703.01365v2",
           "Axiomatic Attribution for Deep Networks"
          ],
          [
           "1208.2214v1",
           "Curved Space Optimization: A Random Search based on General Relativity Theory"
          ],
          [
           "1509.05177v4",
           "Some Theorems for Feed Forward Neural Networks"
          ],
          [
           "0503003v1",
           "An Objectives-Driven Process for Selecting Methods to Support Requirements Engineering Activities"
          ],
          [
           "0503004v1",
           "Effective Requirements Generation: Synchronizing Early Verification & Validation, Methods and Method Selection Criteria"
          ]
         ],
         "hovertemplate": "keywords=methods model learning user proposed network design set factors<br>x=%{x}<br>y=%{y}<br>id=%{customdata[0]}<br>title=%{customdata[1]}<extra></extra>",
         "legendgroup": "methods model learning user proposed network design set factors",
         "marker": {
          "color": "#EF553B",
          "symbol": "circle"
         },
         "mode": "markers",
         "name": "methods model learning user proposed network design set factors",
         "orientation": "v",
         "showlegend": true,
         "type": "scatter",
         "x": [
          -7.2819623947143555,
          1.1376277208328247,
          9.19213581085205,
          1.7690789699554443,
          1.8151566982269287,
          4.57375431060791,
          -11.466782569885254,
          9.738876342773438,
          5.594107627868652,
          -3.5536434650421143,
          4.59780216217041,
          11.941658020019531,
          10.599862098693848,
          10.663202285766602,
          4.530947208404541,
          5.924806118011475,
          -11.46141242980957,
          3.8162856101989746,
          8.152379035949707,
          9.90971851348877,
          10.026094436645508,
          4.030052185058594,
          3.2098729610443115,
          4.356240749359131,
          10.278963088989258,
          -6.0236921310424805,
          10.942276954650879,
          -8.118760108947754,
          -1.9553287029266357,
          11.96529483795166,
          7.981661319732666,
          -6.765772819519043,
          6.456772327423096,
          4.191667079925537,
          6.565895080566406,
          3.982459306716919,
          1.7527326345443726,
          2.5696661472320557,
          4.398347854614258,
          3.709073305130005,
          2.50698184967041,
          2.502156972885132,
          4.410384178161621,
          10.706826210021973,
          -2.18350887298584,
          -9.84109115600586,
          6.411897659301758,
          0.002391680609434843,
          5.317331790924072,
          7.252535820007324,
          2.8769290447235107,
          5.5513105392456055,
          7.248452186584473,
          7.878673553466797,
          6.097723007202148,
          -0.302947074174881,
          2.4739902019500732,
          -2.871830701828003,
          -4.8629279136657715,
          5.714694023132324,
          5.95573091506958,
          10.132708549499512,
          6.643483638763428,
          0.9687888622283936,
          6.998377323150635,
          9.700095176696777,
          6.991831302642822,
          7.583208084106445,
          0.044548362493515015,
          9.089397430419922,
          12.924399375915527,
          7.417013168334961,
          5.807786464691162,
          7.865614414215088,
          8.857413291931152,
          7.8873724937438965,
          -1.472630500793457,
          6.843824863433838,
          5.71926736831665,
          8.05241870880127,
          -0.7431856393814087,
          8.476899147033691,
          8.658576011657715,
          6.61417818069458,
          -7.538168430328369,
          6.241806507110596,
          5.993492126464844,
          2.5573480129241943,
          7.308077812194824,
          4.359859943389893,
          9.539796829223633,
          7.342677593231201,
          6.5020856857299805,
          4.512202262878418,
          9.767602920532227,
          8.226736068725586,
          7.938284873962402,
          7.932775497436523
         ],
         "xaxis": "x",
         "y": [
          -3.6965627670288086,
          -10.6212158203125,
          -8.207207679748535,
          -5.383543968200684,
          -4.752222061157227,
          -6.786614418029785,
          -8.078789710998535,
          -9.375638961791992,
          -12.240921020507812,
          0.23592586815357208,
          -6.807260990142822,
          -2.11714243888855,
          -6.82191276550293,
          -6.863601207733154,
          -6.793332099914551,
          -0.8039416074752808,
          -8.093459129333496,
          -10.977263450622559,
          -6.424774646759033,
          -6.760019302368164,
          -6.625332832336426,
          0.2450106292963028,
          -9.762842178344727,
          -0.21725325286388397,
          -6.655755519866943,
          -14.871356964111328,
          -7.012592315673828,
          2.2257368564605713,
          14.35762882232666,
          1.5988097190856934,
          -5.322057723999023,
          -6.032476425170898,
          -6.180451393127441,
          -3.4097251892089844,
          -6.175357341766357,
          -5.133543014526367,
          -4.8069682121276855,
          -3.315181255340576,
          -3.0702359676361084,
          -1.7658084630966187,
          -3.2177255153656006,
          -3.1779701709747314,
          -2.9448161125183105,
          -5.049121379852295,
          -4.787117958068848,
          -11.358231544494629,
          -2.771721601486206,
          -7.140166759490967,
          -5.875039100646973,
          -9.205105781555176,
          -4.789885520935059,
          -2.4210901260375977,
          -4.864798069000244,
          -5.759663105010986,
          -11.021493911743164,
          -5.823324680328369,
          -5.449202060699463,
          -5.467742919921875,
          -6.536526203155518,
          -7.800209045410156,
          -8.18494987487793,
          -6.649700164794922,
          3.296698570251465,
          1.2652732133865356,
          -1.446281909942627,
          -4.817749500274658,
          -1.3867888450622559,
          -2.2373158931732178,
          -4.488658428192139,
          -2.9227054119110107,
          -4.952220916748047,
          -7.367790699005127,
          -4.845752716064453,
          -7.325342178344727,
          -9.199006080627441,
          -7.355790138244629,
          -6.412193298339844,
          -3.4853551387786865,
          -4.620217323303223,
          -3.7805404663085938,
          -6.076250076293945,
          -3.6374008655548096,
          -4.826372146606445,
          -4.675457954406738,
          10.649833679199219,
          -9.97034740447998,
          -4.560938358306885,
          -6.989348888397217,
          -4.32488489151001,
          -8.001862525939941,
          -6.754400253295898,
          -8.975186347961426,
          -6.178359031677246,
          -1.3822760581970215,
          -4.640982151031494,
          -3.542064666748047,
          -10.322694778442383,
          -10.314867973327637
         ],
         "yaxis": "y"
        },
        {
         "customdata": [
          [
           "2301.00676v1",
           "Multimodal Sequential Generative Models for Semi-Supervised Language Instruction Following"
          ],
          [
           "2212.03131v1",
           "Explainability as statistical inference"
          ],
          [
           "2211.10877v1",
           "Artificial Interrogation for Attributing Language Models"
          ],
          [
           "2210.16298v1",
           "Investigating Ensemble Methods for Model Robustness Improvement of Text Classifiers"
          ],
          [
           "2210.11522v1",
           "Composing Ensembles of Pre-trained Models via Iterative Consensus"
          ],
          [
           "2208.08713v2",
           "Learning Generative Models for Active Inference using Tensor Networks"
          ],
          [
           "2207.07920v1",
           "Physics Embedded Neural Network Vehicle Model and Applications in Risk-Aware Autonomous Driving Using Latent Features"
          ],
          [
           "2206.14858v2",
           "Solving Quantitative Reasoning Problems with Language Models"
          ],
          [
           "2206.03931v3",
           "Learning to Generate Prompts for Dialogue Generation through Reinforcement Learning"
          ],
          [
           "2205.09678v1",
           "Semi-Supervised Learning for Image Classification using Compact Networks in the BioMedical Context"
          ],
          [
           "2301.00216v1",
           "An Efficient Hierarchical Kriging Modeling Method for High-dimension Multi-fidelity Problems"
          ],
          [
           "2212.09849v1",
           "Dataless Knowledge Fusion by Merging Weights of Language Models"
          ],
          [
           "2212.08109v2",
           "An Empirical Study of Deep Learning Models for Vulnerability Detection"
          ],
          [
           "2212.04183v1",
           "Mind the Gap: Measuring Generalization Performance Across Multiple Objectives"
          ],
          [
           "2211.14366v1",
           "Mixture Manifold Networks: A Computationally Efficient Baseline for Inverse Modeling"
          ],
          [
           "2211.11363v1",
           "CBEAF-Adapting: Enhanced Continual Pretraining for Building Chinese Biomedical Language Model"
          ],
          [
           "2211.04780v1",
           "On the Robustness of Explanations of Deep Neural Network Models: A Survey"
          ],
          [
           "2210.14855v1",
           "Multi-level Data Representation For Training Deep Helmholtz Machines"
          ],
          [
           "2210.14687v1",
           "Which is the best model for my data?"
          ],
          [
           "2210.10769v1",
           "\"Why did the Model Fail?\": Attributing Model Performance Changes to Distribution Shifts"
          ],
          [
           "2209.14831v1",
           "Access Control with Encrypted Feature Maps for Object Detection Models"
          ],
          [
           "2209.08906v2",
           "A model-agnostic approach for generating Saliency Maps to explain inferred decisions of Deep Learning Models"
          ],
          [
           "2102.02431v1",
           "Graph Coding for Model Selection and Anomaly Detection in Gaussian Graphical Models"
          ],
          [
           "2110.06393v1",
           "Attention-guided Generative Models for Extractive Question Answering"
          ],
          [
           "2105.11410v1",
           "From Base Data To Knowledge Discovery -- A Life Cycle Approach -- Using Multilayer Networks"
          ],
          [
           "1812.08046v1",
           "Cyberbullying Detection in Social Networks Using Deep Learning Based Models; A Reproducibility Study"
          ],
          [
           "1711.03736v1",
           "Joint Sentiment/Topic Modeling on Text Data Using Boosted Restricted Boltzmann Machine"
          ],
          [
           "1708.03436v1",
           "Variational Deep Semantic Hashing for Text Documents"
          ],
          [
           "2207.12029v1",
           "Evaluating the Accuracy of Stochastic Geometry Based Models for LEO Satellite Networks Analysis"
          ],
          [
           "2112.03835v1",
           "Attention-Based Model and Deep Reinforcement Learning for Distribution of Event Processing Tasks"
          ],
          [
           "2102.11655v2",
           "Learning to Fairly Classify the Quality of Wireless Links"
          ],
          [
           "2004.09817v1",
           "Lottery Hypothesis based Unsupervised Pre-training for Model Compression in Federated Learning"
          ],
          [
           "2207.11939v1",
           "An Encryption Method of ConvMixer Models without Performance Degradation"
          ],
          [
           "2204.01193v1",
           "Detecting In-vehicle Intrusion via Semi-supervised Learning-based Convolutional Adversarial Autoencoders"
          ],
          [
           "2112.08442v1",
           "Utilizing XAI technique to improve autoencoder based model for computer network anomaly detection with shapley additive explanation(SHAP)"
          ],
          [
           "2109.04344v3",
           "EvilModel 2.0: Bringing Neural Network Models into Malware Attacks"
          ],
          [
           "2107.10480v1",
           "Unsupervised Detection of Adversarial Examples with Model Explanations"
          ],
          [
           "1908.04009v1",
           "Open Traffic Models -- A framework for hybrid simulation of transportation networks"
          ],
          [
           "1705.03625v2",
           "A performance spectrum for parallel computational frameworks that solve PDEs"
          ],
          [
           "1402.1285v1",
           "Constructing Performance Models for Dense Linear Algebra Algorithms on Cray XE Systems"
          ],
          [
           "2303.16869v2",
           "Application of probabilistic modeling and automated machine learning framework for high-dimensional stress field"
          ],
          [
           "2106.08972v2",
           "Redefining Neural Architecture Search of Heterogeneous Multi-Network Models by Characterizing Variation Operators and Model Components"
          ],
          [
           "2106.03847v2",
           "GAN Cocktail: mixing GANs without dataset access"
          ],
          [
           "1805.07508v1",
           "GEN Model: An Alternative Approach to Deep Neural Network Models"
          ],
          [
           "1707.00666v3",
           "Multi-period Time Series Modeling with Sparsity via Bayesian Variational Inference"
          ],
          [
           "1705.10823v2",
           "Accelerating Neural Architecture Search using Performance Prediction"
          ],
          [
           "1702.07800v4",
           "On the Origin of Deep Learning"
          ],
          [
           "1702.04649v2",
           "Generative Temporal Models with Memory"
          ],
          [
           "2111.08206v1",
           "JMSNAS: Joint Model Split and Neural Architecture Search for Learning over Mobile Edge Networks"
          ],
          [
           "2012.15592v1",
           "Extracting Clean Performance Models from Tainted Programs"
          ],
          [
           "1904.02838v1",
           "Transfer Learning for Performance Modeling of Deep Neural Network Systems"
          ],
          [
           "1810.11772v2",
           "Learning with Analytical Models"
          ],
          [
           "2206.07918v1",
           "\"Understanding Robustness Lottery\": A Comparative Visual Analysis of Neural Network Pruning Approaches"
          ],
          [
           "2107.04225v3",
           "A Multi-task Mean Teacher for Semi-supervised Facial Affective Behavior Analysis"
          ],
          [
           "1910.09358v2",
           "A Decision-Theoretic Approach for Model Interpretability in Bayesian Framework"
          ],
          [
           "2110.14824v1",
           "A GNN Based Approach to LTL Model Checking"
          ],
          [
           "2109.07173v2",
           "A Comparison of Code Embeddings and Beyond"
          ],
          [
           "2206.14415v1",
           "Performance Analysis: Discovering Semi-Markov Models From Event Logs"
          ],
          [
           "2009.13862v1",
           "Where is the Model Looking At?--Concentrate and Explain the Network Attention"
          ],
          [
           "2007.16170v1",
           "Diet deep generative audio models with structured lottery"
          ],
          [
           "1911.07421v3",
           "Deep Verifier Networks: Verification of Deep Discriminative Models with Deep Generative Models"
          ],
          [
           "1603.01068v2",
           "First Steps Toward Camera Model Identification with Convolutional Neural Networks"
          ],
          [
           "2104.12556v3",
           "COVID-19 Modeling: A Review"
          ],
          [
           "2304.06879v1",
           "Performative Prediction with Neural Networks"
          ],
          [
           "2109.13496v2",
           "FastMVAE2: On improving and accelerating the fast variational autoencoder-based source separation algorithm for determined mixtures"
          ],
          [
           "2107.00730v1",
           "Normalizing Flow based Hidden Markov Models for Classification of Speech Phones with Explainability"
          ],
          [
           "2104.11127v2",
           "Fast Text-Only Domain Adaptation of RNN-Transducer Prediction Network"
          ],
          [
           "2010.11745v3",
           "Rethinking Evaluation in ASR: Are Our Models Robust Enough?"
          ],
          [
           "2010.04950v1",
           "A Model Compression Method with Matrix Product Operators for Speech Enhancement"
          ],
          [
           "2005.08184v1",
           "Voice Activity Detection Scheme by Combining DNN Model with GMM Model"
          ],
          [
           "1904.13285v1",
           "Performing Structured Improvisations with pre-trained Deep Learning Models"
          ],
          [
           "1810.06865v5",
           "Sequence-to-Sequence Acoustic Modeling for Voice Conversion"
          ],
          [
           "1807.01956v1",
           "Neural Language Codes for Multilingual Acoustic Models"
          ],
          [
           "2205.04550v3",
           "A for-loop is all you need. For solving the inverse problem in the case of personalized tumor growth modeling"
          ],
          [
           "2206.02992v1",
           "SMT-Based Model Checking of Industrial Simulink Models"
          ],
          [
           "2006.09291v2",
           "Stochastic Activity Networks Templates: Supporting Variability in Performability Models"
          ],
          [
           "1906.04278v2",
           "Performance Analysis and Characterization of Training Deep Learning Models on Mobile Devices"
          ],
          [
           "1705.07575v1",
           "Mira: A Framework for Static Performance Analysis"
          ],
          [
           "1401.6020v1",
           "A Brief Review on Models for Performance Evaluation in DSS Architecture"
          ],
          [
           "1311.1195v1",
           "Performance Modeling of BitTorrent Peer-to-Peer File Sharing Networks"
          ],
          [
           "1309.1613v1",
           "An Aggregation Technique For Large-Scale PEPA Models With Non-Uniform Populations"
          ],
          [
           "1302.5171v1",
           "Software model refactoring based on performance analysis: better working on software or performance side?"
          ],
          [
           "1207.5217v3",
           "Hierarchical Performance Modeling for Ranking Dense Linear Algebra Algorithms"
          ],
          [
           "1001.2604v1",
           "On the Model Transform in Stochastic Network Calculus"
          ],
          [
           "2205.03750v1",
           "Learnability of Competitive Threshold Models"
          ],
          [
           "2111.07148v1",
           "SocialBERT -- Transformers for Online SocialNetwork Language Modelling"
          ],
          [
           "2007.14523v1",
           "Model Size Reduction Using Frequency Based Double Hashing for Recommender Systems"
          ],
          [
           "2007.06557v3",
           "Prediction-Centric Learning of Independent Cascade Dynamics from Partial Observations"
          ],
          [
           "1802.04472v3",
           "Community Detection through Likelihood Optimization: In Search of a Sound Model"
          ],
          [
           "1603.06143v2",
           "Neurally-Guided Procedural Models: Amortized Inference for Procedural Graphics Programs using Neural Networks"
          ],
          [
           "1910.01597v1",
           "Authentication Modeling with Five Generic Processes"
          ],
          [
           "1809.04656v1",
           "A Conceptual Approach to Complex Model Management with Generalized Modelling Patterns and Evolutionary Identification"
          ],
          [
           "2301.00624v1",
           "Modular and Incremental Global Model Management with Extended Generalized Discrimination Networks"
          ],
          [
           "2212.08109v3",
           "An Empirical Study of Deep Learning Models for Vulnerability Detection"
          ],
          [
           "2211.16587v1",
           "Rigorous Assessment of Model Inference Accuracy using Language Cardinality"
          ],
          [
           "2208.07120v2",
           "Compressing Pre-trained Models of Code into 3 MB"
          ],
          [
           "2108.12489v1",
           "Using Graph Neural Networks to model the performance of Deep Neural Networks"
          ],
          [
           "1903.10614v1",
           "On Using Retrained and Incremental Machine Learning for Modeling Performance of Adaptable Software: An Empirical Comparison"
          ],
          [
           "2203.04384v1",
           "On generative models as the basis for digital twins"
          ],
          [
           "2106.14790v2",
           "PhysiNet: A Combination of Physics-based Model and Neural Network Model for Digital Twins"
          ],
          [
           "2104.13853v3",
           "Learning deep autoregressive models for hierarchical data"
          ],
          [
           "2102.06892v1",
           "Cache Bypassing for Machine Learning Algorithms"
          ],
          [
           "1708.03947v3",
           "Estimating Models with High-Order Noise Dynamics Using Semi-Parametric Weighted Null-Space Fitting"
          ],
          [
           "1208.1103v1",
           "System identification and modeling for interacting and non-interacting tank systems using intelligent techniques"
          ],
          [
           "0910.3765v1",
           "Performance Evaluation of Security Protocols"
          ],
          [
           "1206.0968v1",
           "Pertinent Information retrieval based on Possibilistic Bayesian network : origin and possibilistic perspective"
          ],
          [
           "0409022v1",
           "Two Models for the Study of Congested Internet Connections"
          ],
          [
           "1405.4362v1",
           "Bipedal Model Based on Human Gait Pattern Parameters for Sagittal Plane Movement"
          ]
         ],
         "hovertemplate": "keywords=model method performance deep network data software learning methods input<br>x=%{x}<br>y=%{y}<br>id=%{customdata[0]}<br>title=%{customdata[1]}<extra></extra>",
         "legendgroup": "model method performance deep network data software learning methods input",
         "marker": {
          "color": "#00cc96",
          "symbol": "circle"
         },
         "mode": "markers",
         "name": "model method performance deep network data software learning methods input",
         "orientation": "v",
         "showlegend": true,
         "type": "scatter",
         "x": [
          -11.208335876464844,
          -6.034763336181641,
          -3.3250434398651123,
          -4.402961254119873,
          -3.958728790283203,
          -8.484406471252441,
          -6.486179351806641,
          -4.050443172454834,
          -2.9276514053344727,
          -11.053863525390625,
          -1.9787304401397705,
          -3.8332443237304688,
          -4.630378723144531,
          -1.6176395416259766,
          5.386940956115723,
          -4.410593032836914,
          9.738359451293945,
          -9.533921241760254,
          4.194279670715332,
          0.32917681336402893,
          4.939719200134277,
          -3.9364328384399414,
          2.1914682388305664,
          -3.9600462913513184,
          3.1604955196380615,
          -4.7270379066467285,
          -1.4170501232147217,
          -2.5808422565460205,
          -6.5149335861206055,
          -3.058958053588867,
          -0.1063225120306015,
          -4.764082908630371,
          4.9322428703308105,
          -0.5395292043685913,
          -10.308069229125977,
          3.695307493209839,
          9.755109786987305,
          -6.965545177459717,
          -9.816650390625,
          -10.711136817932129,
          3.647345781326294,
          -3.2879931926727295,
          -3.763690710067749,
          -3.1924586296081543,
          -7.056746959686279,
          -2.0750274658203125,
          -3.97871994972229,
          -8.358845710754395,
          -2.6370813846588135,
          -7.907102108001709,
          -1.6018030643463135,
          -0.6108327507972717,
          -1.0509542226791382,
          -8.78503131866455,
          -6.006641864776611,
          -7.441406726837158,
          -2.798427104949951,
          -6.392511367797852,
          -9.367453575134277,
          -3.658827543258667,
          -3.9727623462677,
          -8.698678016662598,
          -4.875114917755127,
          0.05973472446203232,
          7.553547382354736,
          -2.949002742767334,
          -5.247427940368652,
          -5.8570475578308105,
          -3.465797185897827,
          -4.780030250549316,
          -3.5773122310638428,
          -6.055445671081543,
          -6.147013187408447,
          5.334169864654541,
          -7.0251359939575195,
          -7.732528209686279,
          -3.5685536861419678,
          -7.989485263824463,
          -8.482884407043457,
          -5.147222518920898,
          -5.687895774841309,
          -8.39125919342041,
          -10.692839622497559,
          -6.386045932769775,
          -12.19960880279541,
          -3.978996753692627,
          -2.542447090148926,
          -1.1900601387023926,
          -6.07625675201416,
          -2.652085542678833,
          -5.502387046813965,
          -5.503419876098633,
          -5.461422443389893,
          -4.630378723144531,
          -5.767360687255859,
          -4.5362548828125,
          -3.269094228744507,
          -8.191571235656738,
          -6.158539295196533,
          -6.287950038909912,
          -3.598376989364624,
          -9.656086921691895,
          6.217730522155762,
          5.7124528884887695,
          -9.618636131286621,
          -9.8543701171875,
          -7.427085876464844,
          -3.3612706661224365
         ],
         "xaxis": "x",
         "y": [
          0.30714747309684753,
          -8.385833740234375,
          -11.54300308227539,
          -10.824973106384277,
          -12.582905769348145,
          8.129768371582031,
          -9.235933303833008,
          -12.704333305358887,
          -12.506568908691406,
          0.37690961360931396,
          -5.507558822631836,
          -11.409883499145508,
          -9.564373016357422,
          -7.191563606262207,
          -12.141629219055176,
          -12.051921844482422,
          -9.547616958618164,
          -6.692300319671631,
          -5.3992767333984375,
          -5.923765659332275,
          -9.679627418518066,
          -8.5835542678833,
          -8.085481643676758,
          -13.131468772888184,
          -6.171452522277832,
          -7.999804496765137,
          -8.54881477355957,
          -8.719246864318848,
          3.6494412422180176,
          -9.802218437194824,
          -7.092132568359375,
          -11.716958999633789,
          -9.656869888305664,
          -7.940606117248535,
          6.209583759307861,
          0.6036267280578613,
          -9.615413665771484,
          2.744372844696045,
          -11.361899375915527,
          -10.235401153564453,
          -8.38145923614502,
          -6.428884506225586,
          -11.44268798828125,
          -8.9091796875,
          -7.8725972175598145,
          -5.075202941894531,
          -8.08857536315918,
          -8.933801651000977,
          -7.317231178283691,
          -12.062867164611816,
          -6.3611650466918945,
          -5.991784572601318,
          -3.9194235801696777,
          -1.8807846307754517,
          -8.52740478515625,
          -9.76175308227539,
          -10.387144088745117,
          -12.012580871582031,
          -4.412907123565674,
          -9.432682037353516,
          -7.6587233543396,
          -7.027539253234863,
          -10.099993705749512,
          -5.753730297088623,
          -12.57088565826416,
          -9.324204444885254,
          -8.790175437927246,
          -14.17456340789795,
          -5.5247392654418945,
          -9.19758415222168,
          -8.645797729492188,
          -14.6893949508667,
          -13.910601615905762,
          -12.012372970581055,
          -10.198295593261719,
          -7.801231384277344,
          -7.563221454620361,
          -11.953064918518066,
          -11.138162612915039,
          3.54763126373291,
          -10.591371536254883,
          -11.154755592346191,
          -10.260817527770996,
          3.4289333820343018,
          1.9453562498092651,
          -10.152755737304688,
          -8.637079238891602,
          -7.641655921936035,
          -8.331628799438477,
          -10.829675674438477,
          -12.594411849975586,
          -10.300710678100586,
          -10.345857620239258,
          -9.564373016357422,
          -11.21608829498291,
          -11.649062156677246,
          -7.021209716796875,
          -11.049688339233398,
          -10.054450035095215,
          -9.790141105651855,
          -14.699854850769043,
          -8.571906089782715,
          -10.059588432312012,
          -8.083191871643066,
          -11.414491653442383,
          3.440387487411499,
          -8.64121150970459,
          -10.450647354125977
         ],
         "yaxis": "y"
        },
        {
         "customdata": [
          [
           "2212.12070v1",
           "RouteNet-Fermi: Network Modeling with Graph Neural Networks"
          ],
          [
           "2212.08818v1",
           "Latent Evolution Model for Change Point Detection in Time-varying Networks"
          ],
          [
           "2207.14643v1",
           "Open World Learning Graph Convolution for Latency Estimation in Routing Networks"
          ],
          [
           "2205.13578v1",
           "Dynamic Network Reconfiguration for Entropy Maximization using Deep Reinforcement Learning"
          ],
          [
           "2211.06590v1",
           "Significant Ties Graph Neural Networks for Continuous-Time Temporal Networks Modeling"
          ],
          [
           "2210.11561v1",
           "Low-Rank Representations Towards Classification Problem of Complex Networks"
          ],
          [
           "2210.07500v2",
           "ToupleGDD: A Fine-Designed Solution of Influence Maximization by Deep Reinforcement Learning"
          ],
          [
           "2209.06932v3",
           "Optimizing Connectivity through Network Gradients for Restricted Boltzmann Machines"
          ],
          [
           "1908.08478v2",
           "Two Decades of Network Science as seen through the co-authorship network of network scientists"
          ],
          [
           "2202.13956v1",
           "RouteNet-Erlang: A Graph Neural Network for Network Performance Evaluation"
          ],
          [
           "2202.13870v3",
           "Simulating Network Paths with Recurrent Buffering Units"
          ],
          [
           "2112.14792v2",
           "Graph Neural Networks for Communication Networks: Context, Use Cases and Opportunities"
          ],
          [
           "2201.09055v1",
           "Software Engineering Meets Network Engineering: Conceptual Model for Events Monitoring and Logging"
          ],
          [
           "2110.01261v1",
           "Scaling Graph-based Deep Learning models to larger networks"
          ],
          [
           "2106.02533v2",
           "Graph-based Deep Learning for Communication Networks: A Survey"
          ],
          [
           "2105.04184v1",
           "Generative Adversarial Networks (GANs) in Networking: A Comprehensive Survey & Evaluation"
          ],
          [
           "2011.08406v1",
           "Reinforcement Learning of Graph Neural Networks for Service Function Chaining"
          ],
          [
           "2010.06686v2",
           "Applying Graph-based Deep Learning To Realistic Network Scenarios"
          ],
          [
           "2009.05240v1",
           "Graph Neural Network based Service Function Chaining for Automatic Network Control"
          ],
          [
           "2006.16860v1",
           "How to Document Computer Networks"
          ],
          [
           "2004.10350v1",
           "Modeling Network Architecture: A Cloud Case Study"
          ],
          [
           "2001.02942v1",
           "Neural Network Tomography"
          ],
          [
           "1911.11552v1",
           "Network Intrusion Detection based on LSTM and Feature Embedding"
          ],
          [
           "1910.07421v3",
           "Deep Reinforcement Learning meets Graph Neural Networks: exploring a routing optimization use case"
          ],
          [
           "1901.09165v1",
           "GCN-GAN: A Non-linear Temporal Link Prediction Model for Weighted Dynamic Networks"
          ],
          [
           "1901.05748v1",
           "Message-Passing Neural Networks Learn Little's Law"
          ],
          [
           "1810.11760v1",
           "Machine Learning in Network Centrality Measures: Tutorial and Outlook"
          ],
          [
           "1807.08652v1",
           "Understanding the Modeling of Computer Network Delays using Neural Networks"
          ],
          [
           "1801.05757v1",
           "Experience-driven Networking: A Deep Reinforcement Learning based Approach"
          ],
          [
           "2009.08898v1",
           "An Enhanced Convolutional Neural Network in Side-Channel Attacks and Its Visualization"
          ],
          [
           "2208.03083v2",
           "Neural Network Verification using Residual Reasoning"
          ],
          [
           "2010.13290v3",
           "On reaction network implementations of neural networks"
          ],
          [
           "2006.05624v5",
           "Adjoined Networks: A Training Paradigm with Applications to Network Compression"
          ],
          [
           "2006.03804v1",
           "Link Prediction for Temporally Consistent Networks"
          ],
          [
           "1910.12151v1",
           "Making Predictive Coding Networks Generative"
          ],
          [
           "1906.12332v1",
           "Automatic Discovery of Families of Network Generative Processes"
          ],
          [
           "1809.03864v1",
           "Response Characterization for Auditing Cell Dynamics in Long Short-term Memory Networks"
          ],
          [
           "1801.06105v3",
           "Overcoming the vanishing gradient problem in plain recurrent networks"
          ],
          [
           "1712.03351v1",
           "Peephole: Predicting Network Performance Before Training"
          ],
          [
           "1710.03070v1",
           "full-FORCE: A Target-Based Method for Training Recurrent Networks"
          ],
          [
           "1708.04251v2",
           "A learning framework for winner-take-all networks with stochastic synapses"
          ],
          [
           "1703.08033v1",
           "Generative Adversarial Residual Pairwise Networks for One Shot Learning"
          ],
          [
           "1606.06216v3",
           "Neural networks with differentiable structure"
          ],
          [
           "1510.08565v3",
           "Attention with Intention for a Neural Network Conversation Model"
          ],
          [
           "2105.12769v3",
           "Networked Federated Learning"
          ],
          [
           "2304.01896v1",
           "Topological Filtering for Visual Data Mining and Analysis of Complex Networks"
          ],
          [
           "2206.03635v1",
           "Network Report: A Structured Description for Network Datasets"
          ],
          [
           "1803.10769v1",
           "Network Traffic Anomaly Detection Using Recurrent Neural Networks"
          ],
          [
           "1910.01443v1",
           "Efficient Community Detection in Boolean Composed Multiplex Networks"
          ],
          [
           "2205.08820v1",
           "Neighbourhood matching creates realistic surrogate temporal networks"
          ],
          [
           "1408.5405v2",
           "Recurrent Neural Network Based Hybrid Model of Gene Regulatory Network"
          ],
          [
           "1212.2517v1",
           "Learning Module Networks"
          ],
          [
           "1011.2336v1",
           "A network model with structured nodes"
          ],
          [
           "2303.11230v1",
           "Fitting Low-rank Models on Egocentrically Sampled Partial Networks"
          ],
          [
           "2302.12442v1",
           "Effective Graph-Neural-Network based Models for Discovering Structural Hole Spanners in Large-Scale and Diverse Networks"
          ],
          [
           "2302.00647v1",
           "Identification of an influence network using ensemble-based filtering for Hawkes processes driven by count data"
          ],
          [
           "2211.02811v2",
           "From Cubes to Networks: Fast Generic Model for Synthetic Networks Generation"
          ],
          [
           "2209.08294v1",
           "A Survey on the Network Models applied in the Industrial Network Optimization"
          ],
          [
           "2208.01739v3",
           "Reconstructing Sparse Multiplex Networks with Application to Covert Networks"
          ],
          [
           "2204.08444v1",
           "Network Onion Divergence: Network representation and comparison using nested configuration models with fixed connectivity, correlation and centrality patterns"
          ],
          [
           "2111.12081v1",
           "Network Effects Research: A Systematic Review of Theoretical Mechanisms and Measures"
          ],
          [
           "2110.00506v1",
           "Temporal Graphs and Temporal Network Characteristics for Bio-Inspired Networks During Optimization"
          ],
          [
           "2109.12331v1",
           "Predicting Hidden Links and Missing Nodes in Scale-Free Networks with Artificial Neural Networks"
          ],
          [
           "2106.09501v2",
           "DeepInsight: Interpretability Assisting Detection of Adversarial Samples on Graphs"
          ],
          [
           "2106.03233v1",
           "A Pre-training Oracle for Predicting Distances in Social Networks"
          ],
          [
           "2102.12380v2",
           "Pre-Training on Dynamic Graph Neural Networks"
          ],
          [
           "2012.08166v1",
           "A Survey of Evolving Models for Weighted Complex Networks based on their Dynamics and Evolution"
          ],
          [
           "2010.10950v1",
           "Influence Maximization on Dynamic Social Networks with Conjugate Learning Automata"
          ],
          [
           "2008.04445v1",
           "A Synthetic Network Generator for Covert Network Analytics"
          ],
          [
           "2008.03638v1",
           "Big Networks: A Survey"
          ],
          [
           "2008.03637v1",
           "MODEL: Motif-based Deep Feature Learning for Link Prediction"
          ],
          [
           "2007.12756v3",
           "Detecting Dynamic States of Temporal Networks Using Connection Series Tensors"
          ],
          [
           "2005.07496v2",
           "Foundations and modelling of dynamic networks using Dynamic Graph Neural Networks: A survey"
          ],
          [
           "2002.01289v1",
           "Extracting Dense and Connected Subgraphs in Dual Networks by Network Alignment"
          ],
          [
           "2001.06576v1",
           "Inference for Network Structure and Dynamics from Time Series Data via Graph Neural Network"
          ],
          [
           "2001.05283v1",
           "NEW: A Generic Learning Model for Tie Strength Prediction in Networks"
          ],
          [
           "1911.04665v1",
           "A Framework of Transferring Structures Across Large-scale Information Networks"
          ],
          [
           "1908.03318v1",
           "Bayesian inference of network structure from information cascades"
          ],
          [
           "1906.10958v3",
           "Signed Graph Attention Networks"
          ],
          [
           "1906.01050v1",
           "Cores and Other Dense Structures in Complex Networks"
          ],
          [
           "1904.08547v1",
           "Deep Representation Learning for Social Network Analysis"
          ],
          [
           "1903.09022v3",
           "Subgraph Networks with Application to Structural Feature Space Expansion"
          ],
          [
           "1902.06692v1",
           "Analysis of Coauthorship Network in Political Science using Centrality Measures"
          ],
          [
           "1901.03425v5",
           "Review on Learning and Extracting Graph Features for Link Prediction"
          ],
          [
           "1812.05473v3",
           "Learning Features of Network Structures Using Graphlets"
          ],
          [
           "1812.05245v2",
           "Dynamic Network Prediction"
          ],
          [
           "1811.06321v1",
           "Multivariate Spatiotemporal Hawkes Processes and Network Reconstruction"
          ],
          [
           "1811.03573v5",
           "Scale-variant topological information for characterizing the structure of complex networks"
          ],
          [
           "1810.08498v4",
           "Network Classification Based Structural Analysis of Real Networks and their Model-Generated Counterparts"
          ],
          [
           "1811.07746v2",
           "An Empirical Assessment of the Complexity and Realism of Synthetic Social Contact Networks"
          ],
          [
           "1810.01921v1",
           "Automatic Generation of Adaptive Network Models based on Similarity to the Desired Complex Network"
          ],
          [
           "1809.02709v2",
           "Exploiting Edge Features in Graph Neural Networks"
          ],
          [
           "1807.03733v2",
           "Network Classification in Temporal Networks Using Motifs"
          ],
          [
           "1805.07746v2",
           "Network Reconstruction and Controlling Based on Structural Regularity Analysis"
          ],
          [
           "1805.02682v2",
           "Predicting Graph Categories from Structural Properties"
          ],
          [
           "1804.05816v1",
           "Models for Capturing Temporal Smoothness in Evolving Networks for Learning Latent Representation of Nodes"
          ],
          [
           "1804.03665v3",
           "An information-theoretic, all-scales approach to comparing networks"
          ],
          [
           "1802.09617v2",
           "Multiscale Planar Graph Generation"
          ],
          [
           "1801.05852v3",
           "Network Representation Learning: A Survey"
          ],
          [
           "1710.11304v1",
           "Characterizing the structural diversity of complex networks across domains"
          ],
          [
           "1701.00302v1",
           "Topological Analysis and Synthesis of Structures related to Certain Classes of K-Geodetic Computer Networks"
          ],
          [
           "1609.09739v1",
           "Graphs, Ideal Flow, and the Transportation Network"
          ],
          [
           "1505.03044v1",
           "Duality between Temporal Networks and Signals: Extraction of the Temporal Network Structures"
          ],
          [
           "1207.4266v1",
           "Multiscale Network Generation"
          ],
          [
           "1709.04481v1",
           "Network Classification and Categorization"
          ],
          [
           "1411.5245v1",
           "Correlation of Scholarly Networks and Social Networks"
          ],
          [
           "2009.10051v2",
           "On using SMT-solvers for Modeling and Verifying Dynamic Network Emulators"
          ],
          [
           "1803.02586v1",
           "Single module identifiability in linear dynamic networks"
          ],
          [
           "1811.08677v1",
           "A state-space approach to sparse dynamic network reconstruction"
          ],
          [
           "9904013v1",
           "Network Management of Predictive Mobile Networks"
          ],
          [
           "1402.6787v1",
           "Learning multifractal structure in large networks"
          ],
          [
           "1703.06231v1",
           "Network Comparison: Embeddings and Interiors"
          ],
          [
           "1704.02489v1",
           "Analyzing Social Interaction Networks from Twitter for Planned Special Events"
          ],
          [
           "1705.00645v1",
           "A General Framework For Task-Oriented Network Inference"
          ],
          [
           "1510.01374v1",
           "On The Network You Keep: Analyzing Persons of Interest using Cliqster"
          ]
         ],
         "hovertemplate": "keywords=model models learning graph structure prediction dynamic data algorithm neural information framework based dataset<br>x=%{x}<br>y=%{y}<br>id=%{customdata[0]}<br>title=%{customdata[1]}<extra></extra>",
         "legendgroup": "model models learning graph structure prediction dynamic data algorithm neural information framework based dataset",
         "marker": {
          "color": "#ab63fa",
          "symbol": "circle"
         },
         "mode": "markers",
         "name": "model models learning graph structure prediction dynamic data algorithm neural information framework based dataset",
         "orientation": "v",
         "showlegend": true,
         "type": "scatter",
         "x": [
          -4.455264091491699,
          -0.8590118288993835,
          8.49735164642334,
          -4.279054641723633,
          -0.9669821858406067,
          0.9147380590438843,
          -0.3931625783443451,
          2.4642863273620605,
          -0.8200305104255676,
          -4.303508758544922,
          -4.996291160583496,
          -3.464791774749756,
          -4.978482723236084,
          -3.43514347076416,
          -2.641101598739624,
          3.466352939605713,
          -6.379948139190674,
          -4.436540603637695,
          -6.33856201171875,
          -4.7399139404296875,
          -4.926293849945068,
          -0.7525100111961365,
          3.0466737747192383,
          -0.5938933491706848,
          0.29411712288856506,
          -3.964104652404785,
          -4.565277576446533,
          -4.651034832000732,
          -0.6149839758872986,
          -9.085064888000488,
          -7.4581708908081055,
          -5.84027099609375,
          -2.8751518726348877,
          0.11054091900587082,
          -3.698909044265747,
          -2.633280038833618,
          -0.07815878093242645,
          -2.556966543197632,
          -1.7990541458129883,
          -2.531475782394409,
          -5.730937480926514,
          -11.930534362792969,
          -2.402916431427002,
          -5.520822525024414,
          4.027506351470947,
          -1.8832006454467773,
          -0.30804720520973206,
          -6.293208122253418,
          1.001979947090149,
          0.3604745864868164,
          -7.185779094696045,
          -2.015963315963745,
          -1.266036033630371,
          5.769360542297363,
          -0.5188878178596497,
          2.6576766967773438,
          -3.6586415767669678,
          -1.6309036016464233,
          0.04705759137868881,
          -2.1107382774353027,
          -0.783376932144165,
          -0.03042721375823021,
          -4.081342697143555,
          5.431701183319092,
          -2.86308217048645,
          0.051977138966321945,
          -1.1494364738464355,
          3.702500104904175,
          -0.061702046543359756,
          0.12308089435100555,
          0.8263415098190308,
          0.45512548089027405,
          -0.7923315763473511,
          3.7607767581939697,
          1.426551342010498,
          -1.0355186462402344,
          0.7745150923728943,
          1.7670722007751465,
          2.1944169998168945,
          0.9886739253997803,
          0.10748308897018433,
          -0.16922318935394287,
          -0.7635663151741028,
          0.8993141651153564,
          0.164986714720726,
          -0.5113016963005066,
          0.5073016881942749,
          -1.734519362449646,
          -1.8058815002441406,
          -2.6401357650756836,
          -1.9959121942520142,
          0.8409157395362854,
          0.390211284160614,
          0.06702399253845215,
          -3.1391184329986572,
          0.21355220675468445,
          -1.142496943473816,
          -0.8904353976249695,
          0.15868715941905975,
          -0.6922894716262817,
          -1.715926170349121,
          -0.40316376090049744,
          0.3979853689670563,
          -0.7299752831459045,
          -2.987135410308838,
          -1.7381439208984375,
          -7.541796684265137,
          -2.0823974609375,
          1.0731995105743408,
          -1.6118841171264648,
          1.8325588703155518,
          -0.4584883153438568,
          -1.6274607181549072,
          2.1924519538879395,
          -0.7034832239151001
         ],
         "xaxis": "x",
         "y": [
          2.3991079330444336,
          3.6036620140075684,
          1.2498856782913208,
          11.277667999267578,
          2.2539634704589844,
          4.456291675567627,
          -0.2209794670343399,
          -2.51273775100708,
          7.8927531242370605,
          2.4318957328796387,
          2.6268279552459717,
          2.252389430999756,
          10.15334415435791,
          2.2448244094848633,
          2.728029489517212,
          -13.904061317443848,
          9.250911712646484,
          2.4368021488189697,
          9.236488342285156,
          10.04349136352539,
          10.109116554260254,
          9.60073184967041,
          -0.6894142627716064,
          -0.14348597824573517,
          2.121601104736328,
          1.741232991218567,
          0.9073273539543152,
          2.239206075668335,
          -0.14026902616024017,
          -4.388932228088379,
          0.36677488684654236,
          4.580911159515381,
          -2.345123767852783,
          2.6208856105804443,
          0.4364033043384552,
          6.363636016845703,
          1.3528122901916504,
          0.8920941948890686,
          1.5349054336547852,
          0.8770315051078796,
          1.3553149700164795,
          3.7680487632751465,
          1.1309665441513062,
          2.0605032444000244,
          7.911636829376221,
          8.317514419555664,
          5.997103691101074,
          2.3679938316345215,
          8.245110511779785,
          3.157188653945923,
          12.519566535949707,
          3.784660577774048,
          5.544726848602295,
          2.3030951023101807,
          1.2053803205490112,
          6.14078426361084,
          9.150209426879883,
          7.383501052856445,
          8.142818450927734,
          6.39649772644043,
          7.161451816558838,
          3.9120256900787354,
          8.462934494018555,
          -0.5488166213035583,
          3.6195881366729736,
          -1.1897767782211304,
          4.061589241027832,
          6.137052536010742,
          8.033315658569336,
          5.44098424911499,
          1.8795843124389648,
          3.2378227710723877,
          1.675275444984436,
          9.402032852172852,
          6.489936828613281,
          2.2379496097564697,
          5.306944847106934,
          6.740903854370117,
          0.567031979560852,
          8.12218189239502,
          4.942882537841797,
          5.204115390777588,
          7.862578868865967,
          1.5777400732040405,
          4.723082065582275,
          2.4192581176757812,
          6.794231414794922,
          8.863471031188965,
          5.3858819007873535,
          4.317093849182129,
          6.01970100402832,
          -2.0564892292022705,
          4.233016014099121,
          6.8919148445129395,
          3.679989814758301,
          2.7826318740844727,
          7.05425500869751,
          5.284797191619873,
          5.239718437194824,
          6.093947887420654,
          9.087873458862305,
          6.258144378662109,
          3.426809549331665,
          5.511488437652588,
          3.816162109375,
          6.759920120239258,
          0.7020199298858643,
          3.830432891845703,
          0.21220189332962036,
          2.704289197921753,
          -7.40363073348999,
          7.003509521484375,
          6.906432628631592,
          6.340349197387695,
          5.959926605224609
         ],
         "yaxis": "y"
        },
        {
         "customdata": [
          [
           "2212.07843v1",
           "Realistic Synthetic Social Networks with Graph Neural Networks"
          ],
          [
           "2208.13166v2",
           "Influence Maximization (IM) in Complex Networks with Limited Visibility Using Statistical Methods"
          ],
          [
           "2211.02811v1",
           "Modeling Multi-Dimensional Datasets via a Fast Scale-Free Network Model"
          ],
          [
           "2207.05980v1",
           "Estimating Exposure to Information on Social Networks"
          ],
          [
           "2012.11172v1",
           "Who will accept my request? Predicting response of link initiation in two-way relation networks"
          ],
          [
           "2002.01726v1",
           "I Know Where You Are Coming From: On the Impact of Social Media Sources on AI Model Performance"
          ],
          [
           "2012.06816v1",
           "Evaluation and Comparison of Diffusion Models with Motif Features"
          ],
          [
           "1708.00186v1",
           "Modeling and Analysis of Network Dynamics in Complex Communication Networks Using Social Network Methods"
          ],
          [
           "1907.07381v5",
           "DeepNC: Deep Generative Network Completion"
          ],
          [
           "2001.06701v1",
           "Social Network Analytics for Churn Prediction in Telco: Model Building, Evaluation and Network Architecture"
          ],
          [
           "2206.08119v2",
           "Learning to Infer Structures of Network Games"
          ],
          [
           "2104.07129v4",
           "On the approximation of queue-length distributions in transportation networks"
          ],
          [
           "1309.2920v1",
           "Evolutionary Information Diffusion over Social Networks"
          ],
          [
           "2012.12883v1",
           "Evaluating structural edge importance in temporal networks"
          ],
          [
           "1705.04678v5",
           "Exploiting network topology for large-scale inference of nonlinear reaction models"
          ],
          [
           "1609.04117v4",
           "Network learning via multi-agent inverse transportation problems"
          ],
          [
           "1507.00840v1",
           "Logic as a complex network"
          ],
          [
           "1209.6615v3",
           "Scalable Analysis for Large Social Networks: the data-aware mean-field approach"
          ],
          [
           "2304.05894v1",
           "Dynamic Mixed Membership Stochastic Block Model for Weighted Labeled Networks"
          ],
          [
           "2205.09862v1",
           "Recurrent segmentation meets block models in temporal networks"
          ],
          [
           "2202.10144v1",
           "Inferring Network Structure with Unobservable Nodes from Time Series Data"
          ],
          [
           "2112.10436v2",
           "Community detection and reciprocity in networks by jointly modeling pairs of edges"
          ],
          [
           "2112.09624v1",
           "Reciprocity, community detection, and link prediction in dynamic networks"
          ],
          [
           "2112.01465v3",
           "Unifying information propagation models on networks and influence maximization"
          ],
          [
           "2111.10553v4",
           "Degree-corrected distribution-free model for community detection in weighted networks"
          ],
          [
           "2111.08264v1",
           "Analysis of 5G academic Network based on graph representation learning method"
          ],
          [
           "2108.01727v2",
           "Scalable Community Detection in Massive Networks Using Aggregated Relational Data"
          ],
          [
           "2107.07489v2",
           "Clustering of heterogeneous populations of networks"
          ],
          [
           "2102.09560v1",
           "A Latent Space Model for Multilayer Network Data"
          ],
          [
           "2012.08215v3",
           "Generative model for reciprocity and community detection in networks"
          ],
          [
           "2012.02307v1",
           "A Review of Latent Space Models for Social Networks"
          ],
          [
           "2011.12685v1",
           "A new method for community detection in social networks based on message distribution"
          ],
          [
           "2010.01400v2",
           "Joint Inference of Diffusion and Structure in Partially Observed Social Networks Using Coupled Matrix Factorization"
          ],
          [
           "2010.00174v2",
           "Information Propagation Model in Hybrid Networks"
          ],
          [
           "2009.01742v2",
           "Online Estimation of Network Point Processes for Event Streams"
          ],
          [
           "2012.04720v2",
           "A guide to choosing and implementing reference models for social network analysis"
          ],
          [
           "2008.03654v1",
           "Multivariate Relations Aggregation Learning in Social Networks"
          ],
          [
           "2007.15743v1",
           "Distribution-Free Models of Social Networks"
          ],
          [
           "2006.16516v5",
           "Mixed Logit Models and Network Formation"
          ],
          [
           "2006.01963v1",
           "Multi-level Graph Convolutional Networks for Cross-platform Anchor Link Prediction"
          ],
          [
           "2005.09996v1",
           "Heterogeneous Susceptibilities in Social Influence Models"
          ],
          [
           "2004.02046v1",
           "Inferring Network Structure From Data"
          ],
          [
           "2004.01031v1",
           "Generate Country-Scale Networks of Interaction from Scattered Statistics"
          ],
          [
           "2003.03585v1",
           "EMH: Extended Mixing H-index centrality for identification important users in social networks based on neighborhood diversity"
          ],
          [
           "2003.02213v1",
           "Generate Descriptive Social Networks for Large Populations from Available Observations: A Novel Methodology and a Generator"
          ],
          [
           "2002.12219v1",
           "Edge corona product as an approach to modeling complex simplical networks"
          ],
          [
           "2002.06628v2",
           "Modeling Citation Trajectories of Scientific Papers"
          ],
          [
           "1912.08923v2",
           "Dense networks with scale-free feature"
          ],
          [
           "1911.11455v2",
           "Neural Latent Space Model for Dynamic Networks and Temporal Knowledge Graphs"
          ],
          [
           "1911.03811v1",
           "Generating dynamic contact graphs with indirect links"
          ],
          [
           "1909.13253v2",
           "Likelihood-based approach to discriminate mixtures of network models that vary in time"
          ],
          [
           "1909.00745v2",
           "War pact model of shrinking networks"
          ],
          [
           "1908.08429v1",
           "On the Structural Properties of Social Networks and their Measurement-calibrated Synthetic Counterparts"
          ],
          [
           "1908.06940v3",
           "CHIP: A Hawkes Process Model for Continuous-time Networks with Scalable and Consistent Estimation"
          ],
          [
           "1906.09032v2",
           "Popularity Prediction on Social Platforms with Coupled Graph Neural Networks"
          ],
          [
           "1901.03629v1",
           "A Community-aware Network Growth Model for Synthetic Social Network Generation"
          ],
          [
           "1806.02485v2",
           "Stochastic Block Models are a Discrete Surface Tension"
          ],
          [
           "1803.00263v1",
           "EvoCut : A new Generalization of Albert-Barabási Model for Evolution of Complex Networks"
          ],
          [
           "1802.08425v1",
           "Challenges of Growing Social Media Networks From the Bottom-Up Through the Agent Perspective"
          ],
          [
           "1802.06265v1",
           "Statistical Link Label Modeling for Sign Prediction: Smoothing Sparsity by Joining Local and Global Information"
          ],
          [
           "1802.03725v2",
           "A Generative Model for Dynamic Networks with Applications"
          ],
          [
           "1712.05792v1",
           "Inferring hierarchical structure of spatial and generic complex networks through a modeling framework"
          ],
          [
           "1710.09485v3",
           "Signed Network Modeling Based on Structural Balance Theory"
          ],
          [
           "1402.3488v2",
           "A Unifying Model for Representing Time-Varying Graphs"
          ],
          [
           "0701135v1",
           "Complex networks and human language"
          ],
          [
           "0904.0785v1",
           "Evaluating and Optimising Models of Network Growth"
          ],
          [
           "1401.2113v1",
           "Latent Sentiment Detection in Online Social Networks: A Communications-oriented View"
          ],
          [
           "1509.04733v3",
           "Factorization threshold models for scale-free networks generation"
          ],
          [
           "1509.05160v2",
           "Evolving Social Networks via Friend Recommendations"
          ],
          [
           "1710.00644v2",
           "Motif Iteration Model for Network Representation"
          ],
          [
           "1311.2887v2",
           "Are all Social Networks Structurally Similar? A Comparative Study using Network Statistics and Metrics"
          ],
          [
           "1311.3508v1",
           "Demographic and Structural Characteristics to Rationalize Link Formation in Online Social Networks"
          ],
          [
           "1611.09387v1",
           "There is Something Beyond the Twitter Network"
          ],
          [
           "1706.00941v1",
           "DANI: A Fast Diffusion Aware Network Inference Algorithm"
          ],
          [
           "1510.00936v3",
           "Correlated Cascades: Compete or Cooperate"
          ]
         ],
         "hovertemplate": "keywords=social models model data diffusion method temporal statistics agents<br>x=%{x}<br>y=%{y}<br>id=%{customdata[0]}<br>title=%{customdata[1]}<extra></extra>",
         "legendgroup": "social models model data diffusion method temporal statistics agents",
         "marker": {
          "color": "#FFA15A",
          "symbol": "circle"
         },
         "mode": "markers",
         "name": "social models model data diffusion method temporal statistics agents",
         "orientation": "v",
         "showlegend": true,
         "type": "scatter",
         "x": [
          -2.394397020339966,
          6.287637710571289,
          -4.047499656677246,
          1.5587573051452637,
          1.5711078643798828,
          -2.988499164581299,
          -1.541455864906311,
          -0.8652921319007874,
          2.023402214050293,
          -1.6551944017410278,
          3.8608014583587646,
          -5.935418605804443,
          0.9567266702651978,
          -0.8025850653648376,
          -5.883429527282715,
          8.661080360412598,
          -4.578256130218506,
          -2.738403797149658,
          -6.905270099639893,
          -0.07175382971763611,
          1.6128675937652588,
          -7.311392307281494,
          -7.171260833740234,
          8.134364128112793,
          7.17806339263916,
          1.6264935731887817,
          4.411767482757568,
          -0.5876601934432983,
          -2.984408378601074,
          -7.223503589630127,
          -3.4822142124176025,
          3.8202390670776367,
          1.4819698333740234,
          -3.735830068588257,
          2.65317964553833,
          -3.8484411239624023,
          0.37623196840286255,
          -3.4481613636016846,
          -5.0266289710998535,
          1.2724477052688599,
          8.06906795501709,
          -1.701851725578308,
          -4.4962873458862305,
          5.221109867095947,
          -4.3714599609375,
          -6.37533712387085,
          -3.9927732944488525,
          -4.373378753662109,
          -0.10148776322603226,
          1.9169820547103882,
          -3.9285635948181152,
          -1.2548171281814575,
          -2.0674448013305664,
          3.016239643096924,
          0.6387763619422913,
          -2.8426003456115723,
          6.075965881347656,
          -1.5331974029541016,
          -3.5380091667175293,
          2.158658981323242,
          -0.5966142416000366,
          3.0856847763061523,
          2.183032274246216,
          -5.563996315002441,
          -2.264308214187622,
          -3.651167392730713,
          0.3158552050590515,
          -4.334443092346191,
          -2.3767735958099365,
          -2.175072431564331,
          -0.9482884407043457,
          -2.527470588684082,
          -3.210336208343506,
          1.3876357078552246,
          -5.629021167755127
         ],
         "xaxis": "x",
         "y": [
          4.768558979034424,
          1.2084060907363892,
          8.570463180541992,
          5.147014617919922,
          8.122532844543457,
          5.466269016265869,
          -14.553644180297852,
          4.4698028564453125,
          5.750749588012695,
          2.3576574325561523,
          14.392834663391113,
          3.157128095626831,
          5.767876625061035,
          3.399660110473633,
          4.9159770011901855,
          1.2571301460266113,
          4.3471527099609375,
          5.19725227355957,
          5.453688144683838,
          3.042863130569458,
          6.505436897277832,
          6.146029472351074,
          6.0506978034973145,
          4.731438636779785,
          7.85944938659668,
          4.32434606552124,
          5.6083149909973145,
          6.637593746185303,
          6.547506809234619,
          6.1327223777771,
          4.446305274963379,
          6.900400161743164,
          6.123586654663086,
          7.3275957107543945,
          6.430157661437988,
          4.97465705871582,
          5.795961856842041,
          4.698496341705322,
          5.842215061187744,
          4.811887741088867,
          4.183597087860107,
          6.102398872375488,
          5.350488662719727,
          4.092933654785156,
          5.3082122802734375,
          7.532695293426514,
          6.416309356689453,
          8.585070610046387,
          3.725384473800659,
          -0.9077318906784058,
          6.405183792114258,
          4.599295616149902,
          5.355788707733154,
          6.477087020874023,
          -0.8897129893302917,
          5.287832260131836,
          8.402190208435059,
          4.689048767089844,
          5.673366069793701,
          0.2332562506198883,
          4.268067359924316,
          7.183823108673096,
          0.5836767554283142,
          -7.659102439880371,
          7.137200832366943,
          6.25426721572876,
          6.166670322418213,
          8.536829948425293,
          5.237972736358643,
          5.052290439605713,
          6.275646686553955,
          5.469718933105469,
          4.94115686416626,
          6.223963737487793,
          13.658018112182617
         ],
         "yaxis": "y"
        },
        {
         "customdata": [
          [
           "2212.00850v1",
           "When Neural Networks Fail to Generalize? A Model Sensitivity Perspective"
          ],
          [
           "2211.07234v1",
           "Shared Loss between Generators of GANs"
          ],
          [
           "2211.04214v1",
           "Generative Adversarial Networks for anonymous Acneic face dataset generation"
          ],
          [
           "2210.02089v1",
           "Transformer-based conditional generative adversarial network for multivariate time series generation"
          ],
          [
           "2209.12099v1",
           "Controllable Text Generation for Open-Domain Creativity and Fairness"
          ],
          [
           "2209.09681v1",
           "SCGG: A Deep Structure-Conditioned Graph Generative Model"
          ],
          [
           "2208.10091v2",
           "Incorporating Domain Knowledge through Task Augmentation for Front-End JavaScript Code Generation"
          ],
          [
           "2208.09333v2",
           "Text to Image Generation: Leaving no Language Behind"
          ],
          [
           "2207.02098v2",
           "Neural Networks and the Chomsky Hierarchy"
          ],
          [
           "2206.05497v3",
           "Mutation Models: Learning to Generate Levels by Imitating Evolution"
          ],
          [
           "2206.02067v1",
           "Learning Robust Representations Of Generative Models Using Set-Based Artificial Fingerprints"
          ],
          [
           "2206.01714v5",
           "Compositional Visual Generation with Composable Diffusion Models"
          ],
          [
           "2205.13863v3",
           "Why Robust Generalization in Deep Learning is Difficult: Perspective of Expressive Power"
          ],
          [
           "2212.08751v1",
           "Point-E: A System for Generating 3D Point Clouds from Complex Prompts"
          ],
          [
           "2212.05377v1",
           "Generalization Through the Lens of Learning Dynamics"
          ],
          [
           "2212.00449v1",
           "GrannGAN: Graph annotation generative adversarial networks"
          ],
          [
           "2211.09961v1",
           "Path Independent Equilibrium Models Can Better Exploit Test-Time Computation"
          ],
          [
           "2211.06089v1",
           "A Generative Approach for Production-Aware Industrial Network Traffic Modeling"
          ],
          [
           "2210.16486v1",
           "Learning Probabilistic Models from Generator Latent Spaces with Hat EBM"
          ],
          [
           "2210.16405v1",
           "Evaluation of Categorical Generative Models -- Bridging the Gap Between Real and Synthetic Data"
          ],
          [
           "2210.12184v1",
           "A New Perspective for Understanding Generalization Gap of Deep Neural Networks Trained with Large Batch Sizes"
          ],
          [
           "2210.09767v1",
           "Generative models uncertainty estimation"
          ],
          [
           "2210.08528v1",
           "Comparing Synthetic Tabular Data Generation Between a Probabilistic Model and a Deep Learning Model for Education Use Cases"
          ],
          [
           "2210.03116v2",
           "Content-Based Search for Deep Generative Models"
          ],
          [
           "2209.15177v2",
           "Domain Generalization -- A Causal Perspective"
          ],
          [
           "2209.10948v1",
           "Implementing and Experimenting with Diffusion Models for Text-to-Image Generation"
          ],
          [
           "2207.04895v1",
           "Bottlenecks CLUB: Unifying Information-Theoretic Trade-offs Among Complexity, Leakage, and Utility"
          ],
          [
           "2111.04282v1",
           "Learning an Adaptive Meta Model-Generator for Incrementally Updating Recommender Systems"
          ],
          [
           "2004.06201v1",
           "Reverse Engineering Configurations of Neural Text Generation Models"
          ],
          [
           "1909.04495v1",
           "Natural Adversarial Sentence Generation with Gradient-based Perturbation"
          ],
          [
           "2207.05843v2",
           "A new hope for network model generalization"
          ],
          [
           "2111.09085v1",
           "Network Generation with Differential Privacy"
          ],
          [
           "2109.02765v1",
           "Robustness and Generalization via Generative Adversarial Training"
          ],
          [
           "2107.10139v2",
           "Generative Models for Security: Attacks, Defenses, and Opportunities"
          ],
          [
           "2105.08511v1",
           "Privacy-Preserving Constrained Domain Generalization for Medical Image Classification"
          ],
          [
           "2009.12740v2",
           "STAN: Synthetic Network Traffic Generation with Generative Neural Models"
          ],
          [
           "1912.00488v1",
           "Replicated Computational Results (RCR) Report for \"Code Generation for Generally Mapped Finite Elements\""
          ],
          [
           "2302.03663v1",
           "SDYN-GANs: Adversarial Learning Methods for Multistep Generative Models for General Order Stochastic Dynamics"
          ],
          [
           "2206.14092v1",
           "Learning the Solution Operator of Boundary Value Problems using Graph Neural Networks"
          ],
          [
           "2304.12895v1",
           "Discovering Graph Generation Algorithms"
          ],
          [
           "2207.11227v1",
           "Face editing with GAN -- A Review"
          ],
          [
           "2207.02907v1",
           "Exploring Generative Adversarial Networks for Text-to-Image Generation with Evolution Strategies"
          ],
          [
           "2202.04557v2",
           "Universal Hopfield Networks: A General Framework for Single-Shot Associative Memory Models"
          ],
          [
           "2102.00524v2",
           "Demonstrating the Evolution of GANs through t-SNE"
          ],
          [
           "2011.01926v4",
           "Generating Unobserved Alternatives"
          ],
          [
           "2009.09579v1",
           "On the Performance of Generative Adversarial Network (GAN) Variants: A Clinical Data Study"
          ],
          [
           "2006.10848v3",
           "Understanding Anomaly Detection with Deep Invertible Networks through Hierarchies of Distributions and Features"
          ],
          [
           "2005.06142v1",
           "Using Genetic Algorithm To Evolve Cellular Automata In Performing Edge Detection"
          ],
          [
           "2004.04633v3",
           "Parallel/distributed implementation of cellular training for generative adversarial neural networks"
          ],
          [
           "1912.06172v1",
           "Coevolution of Generative Adversarial Networks"
          ],
          [
           "1911.02624v1",
           "Data Generation for Neural Programming by Example"
          ],
          [
           "1910.04966v2",
           "Evolutionary Multiobjective Optimization Driven by Generative Adversarial Networks (GANs)"
          ],
          [
           "1907.04482v2",
           "Evolutionary Multi-Objective Optimization Driven by Generative Adversarial Networks"
          ],
          [
           "1907.04258v1",
           "Melody Generation using an Interactive Evolutionary Algorithm"
          ],
          [
           "1905.05077v1",
           "Tile Pattern KL-Divergence for Analysing and Evolving Game Levels"
          ],
          [
           "1904.05815v1",
           "GP-HD: Using Genetic Programming to Generate Dynamical Systems Models for Health Care"
          ],
          [
           "1903.01548v2",
           "Deep Generative Design: Integration of Topology Optimization and Generative Models"
          ],
          [
           "1810.10340v3",
           "Investigating Object Compositionality in Generative Adversarial Networks"
          ],
          [
           "1809.05989v2",
           "FermiNets: Learning generative machines to generate efficient neural networks via generative synthesis"
          ],
          [
           "1803.04357v2",
           "Learning the Base Distribution in Implicit Generative Models"
          ],
          [
           "1711.07784v1",
           "Hidden Tree Markov Networks: Deep and Wide Learning for Structured Data"
          ],
          [
           "1709.10459v1",
           "Improving image generative models with human interactions"
          ],
          [
           "1709.08524v1",
           "Generative learning for deep networks"
          ],
          [
           "1705.10929v1",
           "Adversarial Generation of Natural Language"
          ],
          [
           "1703.09452v3",
           "SEGAN: Speech Enhancement Generative Adversarial Network"
          ],
          [
           "1611.06216v1",
           "Generative Deep Neural Networks for Dialogue: A Short Review"
          ],
          [
           "1605.06069v3",
           "A Hierarchical Latent Variable Encoder-Decoder Model for Generating Dialogues"
          ],
          [
           "2212.00006v1",
           "Operationalizing Specifications, In Addition to Test Sets for Evaluating Constrained Generative Models"
          ],
          [
           "1806.07108v2",
           "Improving brain computer interface performance by data augmentation with conditional Deep Convolutional Generative Adversarial Networks"
          ],
          [
           "2207.01780v3",
           "CodeRL: Mastering Code Generation through Pretrained Models and Deep Reinforcement Learning"
          ],
          [
           "2111.01633v2",
           "Neural Program Generation Modulo Static Analysis"
          ],
          [
           "1805.08490v2",
           "Generative Code Modeling with Graphs"
          ],
          [
           "2012.08146v1",
           "Generation of complex database queries and API calls from natural language utterances"
          ],
          [
           "2007.06300v1",
           "Synthetic Dataset Generation with Itemset-Based Generative Models"
          ],
          [
           "1806.03384v5",
           "Data Synthesis based on Generative Adversarial Networks"
          ],
          [
           "2303.07794v1",
           "DiffuseRoll: Multi-track multi-category music generation based on diffusion model"
          ],
          [
           "2012.10890v1",
           "PPGN: Phrase-Guided Proposal Generation Network For Referring Expression Comprehension"
          ],
          [
           "1810.03226v1",
           "Rethinking Recurrent Latent Variable Model for Music Composition"
          ],
          [
           "1710.00421v1",
           "Video Generation From Text"
          ],
          [
           "1704.08292v1",
           "Deep Cross-Modal Audio-Visual Generation"
          ],
          [
           "1704.04886v4",
           "Multi-View Image Generation from a Single-View"
          ],
          [
           "2010.10013v3",
           "Training Generative Adversarial Networks via stochastic Nash games"
          ],
          [
           "2003.13637v2",
           "A game-theoretic approach for Generative Adversarial Networks"
          ],
          [
           "2303.08385v1",
           "Generating symbolic music using diffusion models"
          ],
          [
           "2209.01751v1",
           "Exploiting Pre-trained Feature Networks for Generative Adversarial Networks in Audio-domain Loop Generation"
          ],
          [
           "2206.13700v1",
           "Domain Agnostic Few-shot Learning for Speaker Verification"
          ],
          [
           "2204.11806v1",
           "Parallel Synthesis for Autoregressive Speech Generation"
          ],
          [
           "2106.07431v1",
           "CRASH: Raw Audio Score-based Generative Modeling for Controllable High-resolution Drum Sound Synthesis"
          ],
          [
           "2008.03436v2",
           "Symbolic Music Playing Techniques Generation as a Tagging Problem"
          ],
          [
           "2005.04353v1",
           "Dual-track Music Generation using Deep Learning"
          ],
          [
           "2001.05532v3",
           "Improving GANs for Speech Enhancement"
          ],
          [
           "1911.00030v1",
           "Modeling Feature Representations for Affective Speech using Generative Adversarial Networks"
          ],
          [
           "1908.01080v1",
           "LSTM Based Music Generation System"
          ],
          [
           "1901.02050v1",
           "Sinusoidal wave generating network based on adversarial learning and its application: synthesizing frog sounds for data augmentation"
          ],
          [
           "1808.03715v1",
           "This Time with Feeling: Learning Expressive Musical Performance"
          ],
          [
           "1710.11418v2",
           "Polyphonic Music Generation with Sequence Generative Adversarial Networks"
          ],
          [
           "1612.07837v2",
           "SampleRNN: An Unconditional End-to-End Neural Audio Generation Model"
          ],
          [
           "2303.09760v1",
           "Diffusing the Optimal Topology: A Generative Optimization Approach"
          ],
          [
           "1709.02513v1",
           "Intelligent Subset Selection of Power Generators for Economic Dispatch"
          ],
          [
           "1810.04310v1",
           "Trapezoidal Generalization over Linear Constraints"
          ],
          [
           "2107.01143v1",
           "Opening the Black Box: Performance Estimation during Code Generation for GPUs"
          ],
          [
           "2007.12094v1",
           "Reinforcement Learning Assisted Load Test Generation for E-Commerce Applications"
          ],
          [
           "1809.01369v1",
           "Towards quantitative methods to assess network generative models"
          ],
          [
           "2207.02098v3",
           "Neural Networks and the Chomsky Hierarchy"
          ],
          [
           "2303.17743v1",
           "FairGen: Towards Fair Graph Generation"
          ],
          [
           "2302.02591v1",
           "Generative Diffusion Models on Graphs: Methods and Applications"
          ],
          [
           "2010.07870v2",
           "Deep Generative Modeling in Network Science with Applications to Public Policy Research"
          ],
          [
           "2003.00736v1",
           "Recent Advances in Scalable Network Generation"
          ],
          [
           "2002.09803v1",
           "Author Name Disambiguation on Heterogeneous Information Network with Adversarial Representation Learning"
          ],
          [
           "1906.09324v1",
           "Automatic Conditional Generation of Personalized Social Media Short Texts"
          ],
          [
           "1801.07355v1",
           "The Importance of Communities for Learning to Influence"
          ],
          [
           "1710.07565v3",
           "Communication-free Massively Distributed Graph Generation"
          ],
          [
           "1710.07231v1",
           "Modeling Graphs Using a Mixture of Kronecker Models"
          ],
          [
           "2211.10003v1",
           "3d human motion generation from the text via gesture action classification and the autoregressive model"
          ],
          [
           "2209.12875v1",
           "Realistic Hair Synthesis with Generative Adversarial Networks"
          ],
          [
           "2209.02316v1",
           "Wavelet-based Loss for High-frequency Interface Dynamics"
          ],
          [
           "2205.14657v1",
           "COFS: Controllable Furniture layout Synthesis"
          ],
          [
           "2112.03517v1",
           "CG-NeRF: Conditional Generative Neural Radiance Fields"
          ],
          [
           "2104.11554v1",
           "Sketch-based Normal Map Generation with Geometric Sampling"
          ],
          [
           "2008.03560v3",
           "LPMNet: Latent Part Modification and Generation for 3D Point Clouds"
          ],
          [
           "2007.15646v1",
           "Rewriting a Deep Generative Model"
          ],
          [
           "1906.01689v1",
           "A Multi-Pass GAN for Fluid Flow Super-Resolution"
          ],
          [
           "1901.07165v1",
           "Generation High resolution 3D model from natural language by Generative Adversarial Network"
          ],
          [
           "1811.07441v4",
           "CompoNet: Learning to Generate the Unseen by Part Synthesis and Composition"
          ],
          [
           "1807.09202v3",
           "Constraint-Based Visual Generation"
          ],
          [
           "1806.08666v1",
           "Combining Recurrent Neural Networks and Adversarial Training for Human Motion Synthesis and Control"
          ],
          [
           "1801.09710v2",
           "tempoGAN: A Temporally Coherent, Volumetric GAN for Super-resolution Fluid Flow"
          ],
          [
           "1809.06568v1",
           "Connectivity and Structure in Large Networks"
          ],
          [
           "2303.01056v1",
           "Deep Learning Based Code Generation Methods: A Literature Review"
          ],
          [
           "2009.03567v1",
           "Discovering Generative Models from Event Logs: Data-driven Simulation vs Deep Learning"
          ],
          [
           "2201.07387v1",
           "Variational Autoencoder Generative Adversarial Network for Synthetic Data Generation in Smart Home"
          ],
          [
           "2111.10954v2",
           "Generation Drawing/Grinding Trajectoy Based on Hierarchical CVAE"
          ],
          [
           "1802.02664v3",
           "Geometry Score: A Method For Comparing Generative Adversarial Networks"
          ],
          [
           "1708.01893v2",
           "Using Effective Generator Impedance for Forced Oscillation Source Location"
          ],
          [
           "1711.03532v1",
           "Co-Optimization Generation and Distribution Planning in Microgrids"
          ],
          [
           "1106.5261v1",
           "A New General Method to Generate Random Modal Formulae for Testing Decision Procedures"
          ],
          [
           "1506.05702v2",
           "Comparing the writing style of real and artificial papers"
          ],
          [
           "1703.10094v2",
           "Learning Inverse Mapping by Autoencoder based Generative Adversarial Nets"
          ]
         ],
         "hovertemplate": "keywords=generation model models data generative networks new methods generalization graph graphs domain neural network<br>x=%{x}<br>y=%{y}<br>id=%{customdata[0]}<br>title=%{customdata[1]}<extra></extra>",
         "legendgroup": "generation model models data generative networks new methods generalization graph graphs domain neural network",
         "marker": {
          "color": "#19d3f3",
          "symbol": "circle"
         },
         "mode": "markers",
         "name": "generation model models data generative networks new methods generalization graph graphs domain neural network",
         "orientation": "v",
         "showlegend": true,
         "type": "scatter",
         "x": [
          -0.10766666382551193,
          2.728402614593506,
          1.2580335140228271,
          1.926716685295105,
          -0.688531756401062,
          1.1996196508407593,
          -1.2282283306121826,
          -0.34936192631721497,
          -12.163057327270508,
          1.882669448852539,
          -1.5377544164657593,
          -1.4092669486999512,
          0.7539598941802979,
          -0.5519437789916992,
          -0.7562229037284851,
          1.2523964643478394,
          -11.923017501831055,
          -7.467735290527344,
          -2.043452262878418,
          0.7969798445701599,
          -2.524211883544922,
          -6.3563032150268555,
          1.2827140092849731,
          -2.3998665809631348,
          -0.362892210483551,
          -0.7254344820976257,
          0.95591139793396,
          -1.9736744165420532,
          -0.7229431867599487,
          2.5254769325256348,
          -6.440272331237793,
          1.5410680770874023,
          1.4337458610534668,
          0.15646812319755554,
          1.4635881185531616,
          1.2836657762527466,
          0.8337545990943909,
          2.5275728702545166,
          0.2893025875091553,
          0.4502637982368469,
          2.765476942062378,
          0.15850690007209778,
          -9.65546703338623,
          2.9243648052215576,
          -0.5620526075363159,
          2.992098808288574,
          -10.266770362854004,
          -7.518784046173096,
          3.039654016494751,
          3.4162864685058594,
          -0.11998628079891205,
          3.7599692344665527,
          3.82014536857605,
          -2.32665753364563,
          2.012559175491333,
          -1.6595548391342163,
          3.5005557537078857,
          1.709007978439331,
          -0.6953005790710449,
          1.1375761032104492,
          -2.92618465423584,
          1.6324148178100586,
          -2.507946014404297,
          2.2735376358032227,
          1.857328176498413,
          -2.795487403869629,
          -2.715970993041992,
          0.351461261510849,
          2.5450031757354736,
          -2.0735630989074707,
          -1.435835838317871,
          -0.9978673458099365,
          -2.5233216285705566,
          0.9754209518432617,
          2.0532782077789307,
          -2.3844215869903564,
          3.4041216373443604,
          -2.5098366737365723,
          0.14626798033714294,
          -1.2071863412857056,
          1.129900574684143,
          3.4715447425842285,
          3.421943426132202,
          -1.308863639831543,
          2.8640215396881104,
          -0.15806177258491516,
          -3.565438747406006,
          -2.34987211227417,
          -2.5168731212615967,
          -2.494980812072754,
          1.9760850667953491,
          2.824453592300415,
          -2.5026941299438477,
          2.683016777038574,
          -2.831817388534546,
          -2.303114414215088,
          -2.6310958862304688,
          3.592998743057251,
          0.12101005017757416,
          5.214731216430664,
          -1.298477053642273,
          6.02610969543457,
          1.4286713600158691,
          -12.163057327270508,
          1.406674861907959,
          -1.3892724514007568,
          3.7062795162200928,
          1.2888683080673218,
          7.196526527404785,
          -0.5915188193321228,
          8.34395980834961,
          0.6555823683738708,
          1.6067774295806885,
          0.174117311835289,
          3.860348701477051,
          3.4043147563934326,
          0.7910104990005493,
          1.0251061916351318,
          0.2771090865135193,
          -0.4396912455558777,
          -2.2229487895965576,
          5.5838704109191895,
          0.12145289033651352,
          0.08746878057718277,
          2.3466100692749023,
          0.20867347717285156,
          5.554210186004639,
          1.5743968486785889,
          -1.2650775909423828,
          -6.059382915496826,
          1.5064260959625244,
          -3.5646562576293945,
          2.9964520931243896,
          7.626607418060303,
          -9.535911560058594,
          5.999573230743408,
          -13.294816017150879,
          4.957192897796631
         ],
         "xaxis": "x",
         "y": [
          -11.919940948486328,
          -14.201640129089355,
          -11.392814636230469,
          -10.828215599060059,
          -13.332242012023926,
          -8.400691032409668,
          -11.492378234863281,
          -13.669690132141113,
          -4.373027801513672,
          -16.558311462402344,
          -12.584602355957031,
          -14.410874366760254,
          -4.156101226806641,
          -14.953649520874023,
          -9.186080932617188,
          -8.165794372558594,
          -6.280900001525879,
          2.539689064025879,
          -13.07468318939209,
          -10.773726463317871,
          -6.457021236419678,
          -10.732019424438477,
          -10.459012985229492,
          -11.899979591369629,
          -11.384756088256836,
          -14.144633293151855,
          -14.503357887268066,
          -10.231039047241211,
          -13.12524700164795,
          -12.363471984863281,
          1.6103585958480835,
          -9.034452438354492,
          -12.686955451965332,
          -10.764364242553711,
          -11.933734893798828,
          -10.421923637390137,
          -15.826151847839355,
          -11.819546699523926,
          -3.2989604473114014,
          -9.368945121765137,
          -14.063032150268555,
          -13.700587272644043,
          0.37648046016693115,
          -14.320025444030762,
          -10.057718276977539,
          -14.168538093566895,
          5.9941325187683105,
          -6.518946170806885,
          -13.877373695373535,
          -14.321945190429688,
          -10.273707389831543,
          -15.64439868927002,
          -15.757421493530273,
          -18.060562133789062,
          -16.69454574584961,
          -9.944536209106445,
          -8.723098754882812,
          -13.537369728088379,
          -9.0498046875,
          -14.265324592590332,
          -8.306084632873535,
          -13.569668769836426,
          -7.686085224151611,
          -13.548151969909668,
          -15.407465934753418,
          -13.25869083404541,
          -13.232403755187988,
          -11.058645248413086,
          -10.718689918518066,
          -11.224122047424316,
          -10.734196662902832,
          -10.524432182312012,
          -12.039600372314453,
          -11.273151397705078,
          -9.665631294250488,
          -17.2335262298584,
          -11.348000526428223,
          -17.306283950805664,
          -13.422877311706543,
          -16.521453857421875,
          -13.158365249633789,
          -13.16183853149414,
          -13.315752983093262,
          -14.388618469238281,
          -14.209037780761719,
          -11.818032264709473,
          -14.817556381225586,
          -14.868708610534668,
          -17.36806869506836,
          -17.233837127685547,
          -15.193992614746094,
          -14.599576950073242,
          -17.39293098449707,
          -11.04053783416748,
          -17.233930587768555,
          -17.83308219909668,
          -14.83007526397705,
          -8.596321105957031,
          -9.448756217956543,
          -14.243535995483398,
          -11.58332633972168,
          -14.155616760253906,
          -7.997010231018066,
          -4.373027801513672,
          -8.08578872680664,
          -14.345529556274414,
          -6.76974630355835,
          -7.528601169586182,
          -7.65495491027832,
          -13.196860313415527,
          4.073373317718506,
          -9.044391632080078,
          -7.786928653717041,
          -17.168834686279297,
          -12.12906265258789,
          -9.82841968536377,
          -12.302633285522461,
          -13.108711242675781,
          -15.279305458068848,
          -15.06352424621582,
          -9.199392318725586,
          -15.924015998840332,
          -12.709190368652344,
          -12.40555477142334,
          -12.861236572265625,
          -17.2275333404541,
          -15.922975540161133,
          -6.7921462059021,
          -11.476521492004395,
          -11.746835708618164,
          -10.521795272827148,
          -14.757941246032715,
          -14.167460441589355,
          -12.62554931640625,
          11.005745887756348,
          -14.15926742553711,
          0.001522617880254984,
          -12.414816856384277
         ],
         "yaxis": "y"
        },
        {
         "customdata": [
          [
           "2211.13436v1",
           "Solving Bilevel Knapsack Problem using Graph Neural Networks"
          ],
          [
           "2209.01555v1",
           "Latent Preserving Generative Adversarial Network for Imbalance classification"
          ],
          [
           "2102.06916v1",
           "Beamformer Design with Smooth Constraint-Free Approximation in Downlink Cloud Radio Access Networks"
          ],
          [
           "2111.13879v2",
           "ML-based Handover Prediction and AP Selection in Cognitive Wi-Fi Networks"
          ],
          [
           "2002.07957v2",
           "Massive IoT Access With NOMA in 5G Networks and Beyond Using Online Competitiveness and Learning"
          ],
          [
           "2205.09833v2",
           "Learning Interface Conditions in Domain Decomposition Solvers"
          ],
          [
           "2304.04067v1",
           "A Recommender System Approach for Very Large-scale Multiobjective Optimization"
          ],
          [
           "2203.15386v2",
           "Pareto Set Learning for Neural Multi-objective Combinatorial Optimization"
          ],
          [
           "2109.13745v1",
           "Meta-aprendizado para otimizacao de parametros de redes neurais"
          ],
          [
           "2104.13060v1",
           "A Complementarity Analysis of the COCO Benchmark Problems and Artificially Generated Problems"
          ],
          [
           "2103.08327v1",
           "Some Network Optimization Models under Diverse Uncertain Environments"
          ],
          [
           "2002.05484v1",
           "MODRL/D-AM: Multiobjective Deep Reinforcement Learning Algorithm Using Decomposition and Attention Model for Multiobjective Optimization"
          ],
          [
           "1906.02386v2",
           "Deep Reinforcement Learning for Multi-objective Optimization"
          ],
          [
           "1903.03523v1",
           "Application of Genetic Algorithms to the Multiple Team Formation Problem"
          ],
          [
           "1903.09304v1",
           "Tackling Unit Commitment and Load Dispatch Problems Considering All Constraints with Evolutionary Computation"
          ],
          [
           "1810.01125v1",
           "Robust Optimization through Neuroevolution"
          ],
          [
           "1809.02721v3",
           "Learning to Solve NP-Complete Problems - A Graph Neural Network for Decision TSP"
          ],
          [
           "1707.02533v1",
           "Exploiting Active Subspaces in Global Optimization: How Complex is your Problem?"
          ],
          [
           "1512.08756v5",
           "Feed-Forward Networks with Attention Can Solve Some Long-Term Memory Problems"
          ],
          [
           "1509.08302v1",
           "A hybrid COA$ε$-constraint method for solving multi-objective problems"
          ],
          [
           "2106.07289v4",
           "Decentralized Personalized Federated Min-Max Problems"
          ],
          [
           "2012.04883v2",
           "On Distributed Algorithms for Minimum Dominating Set problem, from theory to application"
          ],
          [
           "2004.12424v1",
           "An Efficient Index Method for the Optimal Route Query over Multi-Cost Networks"
          ],
          [
           "1202.4506v1",
           "Computing Nash Equilibrium in Wireless Ad Hoc Networks: A Simulation-Based Approach"
          ],
          [
           "1501.05480v2",
           "Robust Transmission Network Expansion Planning in Energy Systems: Improving Computational Performance"
          ],
          [
           "1811.10576v1",
           "Grammar-based Representation and Identification of Dynamical Systems"
          ],
          [
           "2301.04090v2",
           "Finding Nontrivial Minimum Fixed Points in Discrete Dynamical Systems"
          ],
          [
           "2012.02837v1",
           "Maximizing the Influence: Analytic Activation Probability Computation Approach"
          ],
          [
           "2009.10367v1",
           "Explainable, Stable, and Scalable Graph Convolutional Networks for Learning Graph Representation"
          ],
          [
           "2003.10439v2",
           "Influence-based Community Partition with Sandwich Method for Social Networks"
          ],
          [
           "1905.12204v3",
           "Learning scalable and transferable multi-robot/machine sequential assignment planning via graph embedding"
          ],
          [
           "1606.05578v1",
           "Proximity Without Consensus in Online Multi-Agent Optimization"
          ],
          [
           "2302.12953v1",
           "Optimization Problems on The Weighted Massively Parallel Computation Model: Hardness and Algorithms"
          ],
          [
           "1803.09963v1",
           "An Efficient Method to Transform SAT problems to Binary Integer Linear Programming Problem"
          ],
          [
           "1508.00094v1",
           "On a logical model of combinatorial problems"
          ],
          [
           "1507.04820v1",
           "The Complexity of Switching and FACTS Maximum-Potential-Flow Problems"
          ],
          [
           "1302.3673v2",
           "Global Optimal Solutions to General Sensor Network Localization Problem"
          ],
          [
           "1202.6038v1",
           "Multiflow Transmission in Delay Constrained Cooperative Wireless Networks"
          ],
          [
           "1007.3884v2",
           "New Results for the MAP Problem in Bayesian Networks"
          ],
          [
           "0702133v1",
           "Fast Exact Method for Solving the Travelling Salesman Problem"
          ],
          [
           "2203.15246v2",
           "A quantum-inspired tensor network method for constrained combinatorial optimization problems"
          ],
          [
           "1910.13297v2",
           "Flexible Graph Connectivity: Approximating Network Design Problems Between 1- and 2-connectivity"
          ],
          [
           "1909.04759v3",
           "Electrical Flows over Spanning Trees"
          ],
          [
           "1907.00605v1",
           "Online Multidimensional Packing Problems in the Random-Order Model"
          ],
          [
           "1904.10215v2",
           "Multicast Communications in Tree Networks with Heterogeneous Capacity Constraints"
          ],
          [
           "2211.13436v2",
           "Solving Bilevel Knapsack Problem using Graph Neural Networks"
          ],
          [
           "2111.07885v1",
           "Heuristics for k-domination models of facility location problems in street networks"
          ],
          [
           "2104.06186v2",
           "On the unification of the graph edit distance and graph matching problems"
          ],
          [
           "2006.14488v1",
           "First-Order Model-Checking in Random Graphs and Complex Networks"
          ],
          [
           "1803.06114v1",
           "A constant-ratio approximation algorithm for a class of hub-and-spoke network design problems and metric labeling problems: star metric case"
          ],
          [
           "1912.01412v1",
           "Deep Learning for Symbolic Mathematics"
          ],
          [
           "2004.08847v1",
           "Minimizing Total Interference in Asymmetric Sensor Networks"
          ],
          [
           "1802.09303v2",
           "A Decomposition Algorithm for the Sparse Generalized Eigenvalue Problem"
          ],
          [
           "1507.00702v1",
           "Centralized and Distributed Newton Methods for Network Optimization and Extensions"
          ],
          [
           "1403.6953v1",
           "Applications Oriented Input Design in Time-Domain Through Cyclic Methods"
          ],
          [
           "1401.2181v1",
           "A biologically inspired model for transshipment problem"
          ],
          [
           "1811.02474v1",
           "User equilibrium with a policy-based link transmission model for stochastic time-dependent traffic networks"
          ],
          [
           "0405025v1",
           "The Largest Compatible Subset Problem for Phylogenetic Data"
          ],
          [
           "0910.1255v1",
           "Sonet Network Design Problems"
          ],
          [
           "1312.3787v2",
           "Analysis and Understanding of Various Models for Efficient Representation and Accurate Recognition of Human Faces"
          ],
          [
           "0508087v1",
           "Modelling the Eulerian Path Problem using a String Matching Framework"
          ],
          [
           "1003.2977v2",
           "On Generalizations of Network Design Problems with Degree Bounds"
          ],
          [
           "1010.4253v1",
           "Large-Scale Clustering Based on Data Compression"
          ],
          [
           "0602051v1",
           "On the utility of the multimodal problem generator for assessing the performance of Evolutionary Algorithms"
          ],
          [
           "0609125v1",
           "Problem Evolution: A new approach to problem solving systems"
          ],
          [
           "1008.2798v1",
           "Networked Computing in Wireless Sensor Networks for Structural Health Monitoring"
          ],
          [
           "1707.09809v1",
           "Speed-up of Self-Organizing Networks for Routing Problems in a Polygonal Domain"
          ]
         ],
         "hovertemplate": "keywords=optimization model method networks algorithm solution methods class network problems proposed<br>x=%{x}<br>y=%{y}<br>id=%{customdata[0]}<br>title=%{customdata[1]}<extra></extra>",
         "legendgroup": "optimization model method networks algorithm solution methods class network problems proposed",
         "marker": {
          "color": "#FF6692",
          "symbol": "circle"
         },
         "mode": "markers",
         "name": "optimization model method networks algorithm solution methods class network problems proposed",
         "orientation": "v",
         "showlegend": true,
         "type": "scatter",
         "x": [
          13.842761039733887,
          0.04812666401267052,
          9.697958946228027,
          -1.543378472328186,
          13.157074928283691,
          10.94467544555664,
          10.914228439331055,
          10.991656303405762,
          4.117344856262207,
          12.176246643066406,
          7.288377285003662,
          11.022675514221191,
          11.053451538085938,
          9.412527084350586,
          11.969575881958008,
          10.55270004272461,
          9.772234916687012,
          12.131810188293457,
          -10.133293151855469,
          10.939797401428223,
          10.970805168151855,
          4.904483795166016,
          9.043118476867676,
          5.679630756378174,
          11.284324645996094,
          5.7794976234436035,
          8.729155540466309,
          8.464665412902832,
          5.162597179412842,
          8.674177169799805,
          8.197072982788086,
          8.292764663696289,
          10.295538902282715,
          11.715786933898926,
          12.11368465423584,
          11.46262264251709,
          11.229532241821289,
          12.375041961669922,
          10.957228660583496,
          9.645191192626953,
          12.052340507507324,
          11.057609558105469,
          9.377971649169922,
          13.731292724609375,
          10.523693084716797,
          13.842864036560059,
          8.792272567749023,
          8.831791877746582,
          1.681012511253357,
          11.10998821258545,
          -7.455938339233398,
          11.763054847717285,
          9.505703926086426,
          8.71237850189209,
          9.660773277282715,
          11.788909912109375,
          -5.9614081382751465,
          7.464947700500488,
          10.17008113861084,
          12.858542442321777,
          12.7310791015625,
          11.160272598266602,
          11.288102149963379,
          3.9848594665527344,
          11.787444114685059,
          7.437441349029541,
          9.474565505981445
         ],
         "xaxis": "x",
         "y": [
          -0.9119593501091003,
          -7.105731010437012,
          -2.2932119369506836,
          -0.07446026802062988,
          2.7233729362487793,
          -1.4075722694396973,
          -3.7272675037384033,
          -3.394090175628662,
          -5.174726486206055,
          -0.17989885807037354,
          1.3861550092697144,
          -3.314687967300415,
          -3.2686474323272705,
          13.28138542175293,
          -0.975365936756134,
          -1.4060986042022705,
          1.145265817642212,
          -0.2735593914985657,
          -2.9055135250091553,
          -3.303412914276123,
          1.4955247640609741,
          11.509236335754395,
          1.1963903903961182,
          14.338676452636719,
          -1.1075270175933838,
          -8.001194953918457,
          9.645330429077148,
          4.306016445159912,
          1.1392405033111572,
          5.493728160858154,
          -2.554135322570801,
          2.690659284591675,
          2.2774791717529297,
          -0.09878823906183243,
          1.0631814002990723,
          4.633142948150635,
          0.27463462948799133,
          2.6327977180480957,
          3.9401750564575195,
          0.2279742807149887,
          1.203685998916626,
          3.1690309047698975,
          2.4742202758789062,
          1.029992938041687,
          3.718052387237549,
          -0.9118523597717285,
          -1.112265944480896,
          -0.8944160342216492,
          -6.591642379760742,
          3.0797057151794434,
          -0.9163828492164612,
          6.102904319763184,
          -2.416703224182129,
          -4.775049686431885,
          -3.6958062648773193,
          -0.8028232455253601,
          3.1412901878356934,
          -0.09644840657711029,
          4.929465293884277,
          -2.347053050994873,
          0.7747897505760193,
          3.170372486114502,
          -0.23142997920513153,
          -16.17719078063965,
          -0.9696210622787476,
          10.912115097045898,
          0.6161938905715942
         ],
         "yaxis": "y"
        },
        {
         "customdata": [
          [
           "2210.16719v2",
           "Multi-view Multi-label Anomaly Network Traffic Classification based on MLP-Mixer Neural Network"
          ],
          [
           "2301.00335v2",
           "Theoretical Characterization of How Neural Network Pruning Affects its Generalization"
          ],
          [
           "2212.13970v1",
           "Breaking the Architecture Barrier: A Method for Efficient Knowledge Transfer Across Networks"
          ],
          [
           "2212.01544v1",
           "Probabilistic Verification of ReLU Neural Networks via Characteristic Functions"
          ],
          [
           "2211.14347v1",
           "The smooth output assumption, and why deep networks are better than wide ones"
          ],
          [
           "2211.00147v1",
           "A Machine Learning Tutorial for Operational Meteorology, Part II: Neural Networks and Deep Learning"
          ],
          [
           "2210.11407v1",
           "Similarity of Neural Architectures Based on Input Gradient Transferability"
          ],
          [
           "2210.09546v1",
           "An Improved Structured Mesh Generation Method Based on Physics-informed Neural Networks"
          ],
          [
           "2209.09326v1",
           "Sparse Interaction Additive Networks via Feature Interaction Detection and Sparse Selection"
          ],
          [
           "2203.10800v2",
           "Graph Neural Networks for Wireless Communications: From Theory to Practice"
          ],
          [
           "2203.00804v2",
           "NESTANets: Stable, accurate and efficient neural networks for analysis-sparse inverse problems"
          ],
          [
           "2202.03244v1",
           "Online Deep Neural Network for Optimization in Wireless Communications"
          ],
          [
           "2109.12970v1",
           "Deep Learning Based Resource Assignment for Wireless Networks"
          ],
          [
           "2106.06178v1",
           "AI Empowered Resource Management for Future Wireless Networks"
          ],
          [
           "2007.07632v2",
           "Graph Neural Networks for Scalable Radio Resource Management: Architecture Design and Theoretical Analysis"
          ],
          [
           "2008.07956v1",
           "Learning the Structure of Auto-Encoding Recommenders"
          ],
          [
           "1905.11133v3",
           "A collaborative filtering model with heterogeneous neural networks for recommender systems"
          ],
          [
           "1809.01478v2",
           "Weakly-Supervised Neural Text Classification"
          ],
          [
           "2206.10472v1",
           "NorBERT: NetwOrk Representations through BERT for Network Analysis and Management"
          ],
          [
           "1910.05510v1",
           "Generative Neural Network based Spectrum Sharing using Linear Sum Assignment Problems"
          ],
          [
           "1811.12809v1",
           "Computing Vertex Centrality Measures in Massive Real Networks with a Neural Learning Model"
          ],
          [
           "2111.13978v1",
           "Deep Q-Learning based Reinforcement Learning Approach for Network Intrusion Detection"
          ],
          [
           "2104.14978v1",
           "A comparative study of neural network techniques for automatic software vulnerability detection"
          ],
          [
           "2012.13552v1",
           "Neural Network Training With Homomorphic Encryption"
          ],
          [
           "2205.08321v1",
           "Finite Element Method-enhanced Neural Network for Forward and Inverse Problems"
          ],
          [
           "2107.02797v1",
           "Generalization Error Analysis of Neural networks with Gradient Based Regularization"
          ],
          [
           "2012.09940v1",
           "Reduced Order Modeling using Shallow ReLU Networks with Grassmann Layers"
          ],
          [
           "2303.02655v1",
           "On Modifying a Neural Network's Perception"
          ],
          [
           "2302.10253v1",
           "Multiobjective Evolutionary Pruning of Deep Neural Networks with Transfer Learning for improving their Performance and Robustness"
          ],
          [
           "2301.05744v1",
           "Adaptive Neural Networks Using Residual Fitting"
          ],
          [
           "2202.03844v1",
           "EvoPruneDeepTL: An Evolutionary Pruning Model for Transfer Learning based Deep Neural Networks"
          ],
          [
           "2109.09510v3",
           "Conditionally Parameterized, Discretization-Aware Neural Networks for Mesh-Based Modeling of Physical Systems"
          ],
          [
           "2109.05606v2",
           "A Continuous Optimisation Benchmark Suite from Neural Network Regression"
          ],
          [
           "2108.01938v2",
           "PDE-GCN: Novel Architectures for Graph Neural Networks Motivated by Partial Differential Equations"
          ],
          [
           "2104.04945v3",
           "Enhancing Deep Neural Network Saliency Visualizations with Gradual Extrapolation"
          ],
          [
           "2102.06870v1",
           "Self-Reorganizing and Rejuvenating CNNs for Increasing Model Capacity Utilization"
          ],
          [
           "2012.10769v1",
           "Augmentation Inside the Network"
          ],
          [
           "2012.09741v1",
           "On the performance of deep learning for numerical optimization: an application to protein structure prediction"
          ],
          [
           "2008.04002v1",
           "Using Neural Networks and Diversifying Differential Evolution for Dynamic Optimisation"
          ],
          [
           "2005.04347v1",
           "GPU Acceleration of Sparse Neural Networks"
          ],
          [
           "2005.04153v1",
           "A Hybrid Method for Training Convolutional Neural Networks"
          ],
          [
           "2004.00858v4",
           "Projection Neural Network for a Class of Sparse Regression Problems with Cardinality Penalty"
          ],
          [
           "2003.07794v2",
           "Research on a New Convolutional Neural Network Model Combined with Random Edges Adding"
          ],
          [
           "2002.04301v3",
           "Network Pruning via Annealing and Direct Sparsity Control"
          ],
          [
           "1911.03404v2",
           "An Analysis of an Integrated Mathematical Modeling -- Artificial Neural Network Approach for the Problems with a Limited Learning Dataset"
          ],
          [
           "1909.13354v1",
           "GACNN: Training Deep Convolutional Neural Networks with Genetic Algorithm"
          ],
          [
           "1909.03742v2",
           "Efficient Continual Learning in Neural Networks with Embedding Regularization"
          ],
          [
           "1909.03306v3",
           "A scalable constructive algorithm for the optimization of neural network architectures"
          ],
          [
           "1909.02425v3",
           "Random Error Sampling-based Recurrent Neural Network Architecture Optimization"
          ],
          [
           "1907.06341v1",
           "Controlling Model Complexity in Probabilistic Model-Based Dynamic Optimization of Neural Network Structures"
          ],
          [
           "1906.04358v2",
           "Weight Agnostic Neural Networks"
          ],
          [
           "1905.11594v2",
           "Inference with Hybrid Bio-hardware Neural Networks"
          ],
          [
           "1905.11368v4",
           "Simple and Effective Regularization Methods for Training on Noisily Labeled Data with Generalization Guarantee"
          ],
          [
           "1905.05849v2",
           "Consensus-based Interpretable Deep Neural Networks with Application to Mortality Prediction"
          ],
          [
           "1904.13310v2",
           "Survey of Dropout Methods for Deep Neural Networks"
          ],
          [
           "1903.12366v1",
           "Using Structured Input and Modularity for Improved Learning"
          ],
          [
           "1902.08673v1",
           "Ising-Dropout: A Regularization Method for Training and Compression of Deep Neural Networks"
          ],
          [
           "1901.09821v1",
           "Squeezed Very Deep Convolutional Neural Networks for Text Classification"
          ],
          [
           "1810.02328v1",
           "A Practical Approach to Sizing Neural Networks"
          ],
          [
           "1806.02003v1",
           "Deep Algorithms: designs for networks"
          ],
          [
           "1805.09712v1",
           "Autonomously and Simultaneously Refining Deep Neural Network Parameters by Generative Adversarial Networks"
          ],
          [
           "1805.01516v3",
           "How deep should be the depth of convolutional neural networks: a backyard dog case study"
          ],
          [
           "1804.10316v1",
           "CompNet: Neural networks growing via the compact network morphism"
          ],
          [
           "1803.06744v3",
           "Fast Neural Architecture Construction using EnvelopeNets"
          ],
          [
           "1801.07650v1",
           "Dynamic Optimization of Neural Network Structures Using Probabilistic Modeling"
          ],
          [
           "1711.07655v1",
           "Genetic Algorithms for Evolving Deep Neural Networks"
          ],
          [
           "1711.00313v2",
           "Avoiding Your Teacher's Mistakes: Training Neural Networks with Controlled Weak Supervision"
          ],
          [
           "1710.10741v3",
           "Evolving Deep Convolutional Neural Networks for Image Classification"
          ],
          [
           "1708.00630v2",
           "ProjectionNet: Learning Efficient On-Device Deep Networks Using Neural Projections"
          ],
          [
           "1707.01219v2",
           "Like What You Like: Knowledge Distill via Neuron Selectivity Transfer"
          ],
          [
           "1705.07565v2",
           "Learning to Prune Deep Neural Networks via Layer-wise Optimal Brain Surgeon"
          ],
          [
           "1702.03180v4",
           "Stochastic Configuration Networks: Fundamentals and Algorithms"
          ],
          [
           "1701.05130v1",
           "On the Performance of Network Parallel Training in Artificial Neural Networks"
          ],
          [
           "1611.06455v4",
           "Time Series Classification from Scratch with Deep Neural Networks: A Strong Baseline"
          ],
          [
           "1611.02120v1",
           "Neural Networks Designing Neural Networks: Multi-Objective Hyper-Parameter Optimization"
          ],
          [
           "1611.01590v3",
           "Alternating Direction Method of Multipliers for Sparse Convolutional Neural Networks"
          ],
          [
           "1611.00591v1",
           "Deep Neural Networks for HDR imaging"
          ],
          [
           "1606.04393v3",
           "Deep Learning with Darwin: Evolutionary Synthesis of Deep Neural Networks"
          ],
          [
           "1605.09304v5",
           "Synthesizing the preferred inputs for neurons in neural networks via deep generator networks"
          ],
          [
           "1605.08512v1",
           "SNN: Stacked Neural Networks"
          ],
          [
           "1605.04859v1",
           "Reducing the Model Order of Deep Neural Networks Using Information Theory"
          ],
          [
           "1603.06353v1",
           "A Discontinuous Neural Network for Non-Negative Sparse Approximation"
          ],
          [
           "1603.01025v2",
           "Convolutional Neural Networks using Logarithmic Data Representation"
          ],
          [
           "1602.09046v1",
           "On Complex Valued Convolutional Neural Networks"
          ],
          [
           "1602.07373v1",
           "On Study of the Binarized Deep Neural Network for Image Classification"
          ],
          [
           "1602.02865v1",
           "The Role of Typicality in Object Classification: Improving The Generalization Capacity of Convolutional Neural Networks"
          ],
          [
           "1511.07125v1",
           "What Happened to My Dog in That Network: Unraveling Top-down Generators in Convolutional Neural Networks"
          ],
          [
           "1511.02954v2",
           "Reducing the Training Time of Neural Networks by Partitioning"
          ],
          [
           "1509.08745v5",
           "Compression of Deep Neural Networks on the Fly"
          ],
          [
           "1906.01992v1",
           "Performance Modelling of Deep Learning on Intel Many Integrated Core Architectures"
          ],
          [
           "1910.04703v1",
           "Predictive Simulation: Using Regression and Artificial Neural Networks to Negate Latency in Networked Interactive Virtual Reality"
          ],
          [
           "1908.06223v2",
           "A Symbolic Neural Network Representation and its Application to Understanding, Verifying, and Patching Networks"
          ],
          [
           "2110.08626v1",
           "Learning velocity model for complex media with deep convolutional neural networks"
          ],
          [
           "1904.08452v3",
           "Regression and Classification for Direction-of-Arrival Estimation with Convolutional Recurrent Neural Networks"
          ],
          [
           "1712.04276v1",
           "Multi-Speaker Localization Using Convolutional Neural Network Trained with Noise"
          ],
          [
           "1403.0623v1",
           "Global solar irradiation prediction using a multi-gene genetic programming approach"
          ],
          [
           "1312.2853v1",
           "Performance Analysis Of Neural Network Models For Oxazolines And Oxazoles Derivatives Descriptor Dataset"
          ],
          [
           "1212.5594v1",
           "Black box modelling of HVAC system : improving the performances of neural networks"
          ],
          [
           "2012.09313v1",
           "Generate and Verify: Semantically Meaningful Formal Analysis of Neural Network Perception Systems"
          ],
          [
           "2112.03690v1",
           "Low-rank Tensor Decomposition for Compression of Convolutional Neural Networks Using Funnel Regularization"
          ],
          [
           "2012.00211v1",
           "Toward Accurate Platform-Aware Performance Modeling for Deep Neural Networks"
          ],
          [
           "2002.10788v1",
           "Learning Queuing Networks by Recurrent Neural Networks"
          ],
          [
           "1910.14574v2",
           "An Abstraction-Based Framework for Neural Network Verification"
          ],
          [
           "2302.04451v1",
           "Generalization in Graph Neural Networks: Improved PAC-Bayesian Bounds on Graph Diffusion"
          ],
          [
           "2301.11164v1",
           "A Graph Neural Network with Negative Message Passing for Graph Coloring"
          ],
          [
           "2203.07632v2",
           "Graph Representation Learning for Popularity Prediction Problem: A Survey"
          ],
          [
           "2112.03644v1",
           "CCasGNN: Collaborative Cascade Prediction Based on Graph Neural Networks"
          ],
          [
           "2103.02520v1",
           "Recurrent Graph Neural Network Algorithm for Unsupervised Network Community Detection"
          ],
          [
           "1911.05384v2",
           "On the choice of graph neural network architectures"
          ],
          [
           "1904.08035v3",
           "Residual or Gate? Towards Deeper Graph Neural Networks for Inductive Graph Representation Learning"
          ],
          [
           "2107.06481v1",
           "A Convolutional Neural Network Approach to the Classification of Engineering Models"
          ],
          [
           "2112.07007v2",
           "Optimizing over an ensemble of neural networks"
          ],
          [
           "2007.13826v1",
           "Large Scale Subject Category Classification of Scholarly Papers with Deep Attentive Neural Networks"
          ],
          [
           "0806.3646v2",
           "Round Trip Time Prediction Using the Symbolic Function Network Approach"
          ],
          [
           "1905.03229v3",
           "Image-based reconstruction for the impact problems by using DPNNs"
          ],
          [
           "2111.13759v1",
           "Dynamic Analysis of Nonlinear Civil Engineering Structures using Artificial Neural Network with Adaptive Training"
          ],
          [
           "2104.07809v1",
           "A Novel Hybrid Deep Learning Approach for Non-Intrusive Load Monitoring of Residential Appliance Based on Long Short Term Memory and Convolutional Neural Networks"
          ],
          [
           "1903.00520v3",
           "A Reachability Method for Verifying Dynamical Systems with Deep Neural Network Controllers"
          ],
          [
           "0405024v1",
           "Meta-Learning Evolutionary Artificial Neural Networks"
          ],
          [
           "0605123v1",
           "Classification of Ordinal Data"
          ],
          [
           "0705.1031v1",
           "Fuzzy Artmap and Neural Network Approach to Online Processing of Inputs with Missing Values"
          ],
          [
           "1704.04959v1",
           "Introspection: Accelerating Neural Network Training By Learning Weight Evolution"
          ],
          [
           "0310009v3",
           "On Interference of Signals and Generalization in Feedforward Neural Networks"
          ],
          [
           "0505021v3",
           "Distant generalization by feedforward neural networks"
          ],
          [
           "0809.5087v1",
           "Hybrid Neural Network Architecture for On-Line Learning"
          ],
          [
           "1009.4983v1",
           "Pattern Classification using Simplified Neural Networks"
          ],
          [
           "1009.4984v1",
           "Rule Extraction using Artificial Neural Networks"
          ],
          [
           "1209.4855v1",
           "The Future of Neural Networks"
          ],
          [
           "1212.0215v1",
           "Artificial Neural Network for Performance Modeling and Optimization of CMOS Analog Circuits"
          ],
          [
           "1503.06004v1",
           "Feeder Load Balancing using Neural Network"
          ],
          [
           "1609.03296v1",
           "A Neural Network Alternative to Non-Negative Audio Models"
          ],
          [
           "1005.4021v3",
           "Software Effort Estimation using Radial Basis and Generalized Regression Neural Networks"
          ]
         ],
         "hovertemplate": "keywords=models using performance method deep training representation methods error regularization use propagation techniques problem<br>x=%{x}<br>y=%{y}<br>id=%{customdata[0]}<br>title=%{customdata[1]}<extra></extra>",
         "legendgroup": "models using performance method deep training representation methods error regularization use propagation techniques problem",
         "marker": {
          "color": "#B6E880",
          "symbol": "circle"
         },
         "mode": "markers",
         "name": "models using performance method deep training representation methods error regularization use propagation techniques problem",
         "orientation": "v",
         "showlegend": true,
         "type": "scatter",
         "x": [
          -8.071867942810059,
          -1.0264819860458374,
          -2.832379102706909,
          -6.066310882568359,
          -4.519489765167236,
          -5.719720363616943,
          -2.66265606880188,
          -12.13426399230957,
          -3.303475856781006,
          -0.8238412737846375,
          -3.794649362564087,
          -1.4665662050247192,
          -2.725353956222534,
          -0.8632939457893372,
          -0.9360482096672058,
          4.021302223205566,
          -4.813543796539307,
          -1.756761074066162,
          -4.255115509033203,
          3.849717855453491,
          -4.626098155975342,
          3.10807466506958,
          -5.925025939941406,
          -6.558627605438232,
          5.748021125793457,
          0.9623249173164368,
          -5.261383533477783,
          -6.56400728225708,
          -1.3088302612304688,
          -2.6629059314727783,
          -1.2422583103179932,
          -12.091066360473633,
          -3.651989221572876,
          0.1255032867193222,
          -5.173695087432861,
          -3.671281337738037,
          -10.38275146484375,
          -2.7570042610168457,
          -3.4886341094970703,
          -4.285553455352783,
          -5.931305408477783,
          -3.681631088256836,
          -6.245821952819824,
          -1.06133234500885,
          -7.244494915008545,
          -8.149136543273926,
          1.704726219177246,
          -2.7475790977478027,
          -2.652493953704834,
          -1.9332839250564575,
          -3.5808470249176025,
          -4.846530914306641,
          -8.207060813903809,
          -4.916460990905762,
          -5.059937477111816,
          -1.6940170526504517,
          -4.993013858795166,
          -6.384915828704834,
          -5.255551338195801,
          -3.5473361015319824,
          -4.043429374694824,
          -10.22274112701416,
          -4.767902374267578,
          -3.1230738162994385,
          -1.817984700202942,
          -5.022560119628906,
          -8.315834999084473,
          -5.957353115081787,
          -5.666230201721191,
          -2.270200252532959,
          -1.0831935405731201,
          4.35139799118042,
          -5.104221820831299,
          -6.655348300933838,
          -2.5248961448669434,
          -8.220903396606445,
          -7.310041904449463,
          -4.502700328826904,
          -4.24744176864624,
          -2.5228664875030518,
          -4.561368465423584,
          -10.456140518188477,
          -8.728996276855469,
          -8.214346885681152,
          -4.780370235443115,
          -8.19896125793457,
          -9.691333770751953,
          -6.327567100524902,
          -4.37486457824707,
          -5.743544101715088,
          -7.717732906341553,
          -6.222048759460449,
          -6.045655727386475,
          -7.662844181060791,
          -8.285531044006348,
          -6.796886444091797,
          -5.316620826721191,
          -5.60589075088501,
          -6.552792072296143,
          -3.649994373321533,
          -5.510757923126221,
          -4.921509265899658,
          -7.319674015045166,
          0.509800136089325,
          0.7902544736862183,
          0.7280825972557068,
          0.3162112534046173,
          1.18842613697052,
          0.47295063734054565,
          0.6915190815925598,
          -7.878180503845215,
          -4.869845867156982,
          -7.432782173156738,
          -6.398375511169434,
          -4.00246000289917,
          -4.786114692687988,
          -5.4357781410217285,
          -4.839804172515869,
          -3.841825008392334,
          -6.980703353881836,
          -4.363498687744141,
          -5.692337512969971,
          -9.915548324584961,
          -9.885753631591797,
          -3.953214645385742,
          -4.283779144287109,
          -4.376805782318115,
          -5.088807106018066,
          -5.391058921813965,
          6.563931465148926,
          -10.43392276763916,
          -5.8430914878845215
         ],
         "xaxis": "x",
         "y": [
          2.311815023422241,
          -3.8876845836639404,
          -2.766418933868408,
          -0.661972165107727,
          -5.302982330322266,
          -2.5441250801086426,
          -2.8300817012786865,
          -2.216085910797119,
          -0.9353411197662354,
          -2.1201364994049072,
          -4.016116619110107,
          -1.614272117614746,
          -1.239775538444519,
          -2.200848340988159,
          -2.251112937927246,
          -3.7843945026397705,
          -2.8883883953094482,
          -8.516945838928223,
          -6.69505500793457,
          -3.714404344558716,
          0.796384334564209,
          -0.8599624633789062,
          -6.854025363922119,
          -2.298701763153076,
          -12.131404876708984,
          -3.9146196842193604,
          -0.23410959541797638,
          -1.2932207584381104,
          -3.891723394393921,
          -0.2584969997406006,
          -3.9886972904205322,
          -2.217438220977783,
          -1.7090989351272583,
          -2.4270424842834473,
          -5.607215404510498,
          -3.2959516048431396,
          -5.435468673706055,
          -3.9469070434570312,
          -1.4043095111846924,
          -0.9462013244628906,
          -3.282343864440918,
          -0.9622283577919006,
          -4.201798439025879,
          -3.674821138381958,
          -0.9919276237487793,
          -4.492258548736572,
          -4.484935760498047,
          -3.809309959411621,
          -3.5739502906799316,
          -1.4426325559616089,
          -2.587761402130127,
          -2.589136838912964,
          -2.2176454067230225,
          -4.731217384338379,
          -3.7222445011138916,
          -1.1078084707260132,
          -3.8245019912719727,
          -4.1854567527771,
          -1.5790843963623047,
          -2.2281455993652344,
          -3.1397268772125244,
          1.963032603263855,
          -1.2906779050827026,
          -3.047067165374756,
          -1.2924385070800781,
          -4.330374240875244,
          -2.0799782276153564,
          -3.891040563583374,
          -2.4155826568603516,
          -2.7565977573394775,
          -3.8507769107818604,
          -2.7501466274261475,
          -0.061440661549568176,
          -4.476459980010986,
          -4.128154754638672,
          -5.073810577392578,
          -3.6231534481048584,
          -3.247314214706421,
          -5.848710060119629,
          -2.1782338619232178,
          -3.7680017948150635,
          -1.138295292854309,
          -0.7282740473747253,
          -5.15928840637207,
          -2.346531391143799,
          -5.205059051513672,
          -5.460052490234375,
          -2.854470729827881,
          -4.2491068840026855,
          -5.306107521057129,
          9.197566032409668,
          0.3108005225658417,
          -5.330145359039307,
          -2.5841894149780273,
          -4.194034099578857,
          -5.919288158416748,
          -1.6596567630767822,
          -1.4762635231018066,
          -1.4465864896774292,
          -5.136562347412109,
          -3.0154848098754883,
          1.602591633796692,
          0.14899581670761108,
          -2.190671920776367,
          -2.1910767555236816,
          -1.2792882919311523,
          -1.0955629348754883,
          -1.4514997005462646,
          -2.2434375286102295,
          -1.847340703010559,
          -5.194372177124023,
          -1.7293516397476196,
          7.679294109344482,
          0.4391329288482666,
          -4.594796657562256,
          -0.5400943160057068,
          -4.343698978424072,
          -2.689302682876587,
          -2.181574583053589,
          -2.881009101867676,
          -1.3252135515213013,
          -2.7029836177825928,
          -2.892263174057007,
          -2.8836679458618164,
          -2.7696964740753174,
          -0.2908661365509033,
          -0.4315231740474701,
          -1.867132544517517,
          -1.646104097366333,
          12.117362022399902,
          -1.1689677238464355,
          -1.1889050006866455
         ],
         "yaxis": "y"
        },
        {
         "customdata": [
          [
           "2210.09186v3",
           "Implicit models, latent compression, intrinsic biases, and cheap lunches in community detection"
          ],
          [
           "1909.11706v3",
           "The Power of Communities: A Text Classification Model with Automated Labeling Process Using Network Community Detection"
          ],
          [
           "1810.08382v1",
           "QANet: Tensor Decomposition Approach for Query-based Anomaly Detection in Heterogeneous Information Networks"
          ],
          [
           "2006.03996v2",
           "Graph Neural Network Encoding for Community Detection in Attribute Networks"
          ],
          [
           "1603.00509v2",
           "A Game-Theoretic Approach for Detection of Overlapping Communities in Dynamic Complex Networks"
          ],
          [
           "1511.08904v2",
           "Modeling and Analysis of Information Communities"
          ],
          [
           "2211.14844v2",
           "Estimating the number of communities in weighted networks"
          ],
          [
           "2211.14490v1",
           "Resampling community detection to maximize propagation in complex network"
          ],
          [
           "2210.09186v5",
           "Implicit models, latent compression, intrinsic biases, and cheap lunches in community detection"
          ],
          [
           "2111.15623v1",
           "Towards Modularity Optimization Using Reinforcement Learning to Community Detection in Dynamic Social Networks"
          ],
          [
           "2106.02878v1",
           "A Generative Node-attribute Network Model for Detecting Generalized Structure"
          ],
          [
           "2103.15698v2",
           "A Systematic Survey on Multi-relational Community Detection"
          ],
          [
           "2101.05137v1",
           "Overlapping Community Detection in Temporal Text Networks"
          ],
          [
           "2101.01669v3",
           "A Survey of Community Detection Approaches: From Statistical Modeling to Deep Learning"
          ],
          [
           "2009.06798v1",
           "On the use of local structural properties for improving the efficiency of hierarchical community detection methods"
          ],
          [
           "2004.03480v1",
           "General Community Detection with Optimal Recovery Conditions for Multi-relational Sparse Networks with Dependent Layers"
          ],
          [
           "2002.08554v3",
           "Continuous Influence-based Community Partition for Social Networks"
          ],
          [
           "1912.11420v1",
           "Detection of Community Structures in Networks with Nodal Features based on Generative Probabilistic Approach"
          ],
          [
           "1911.01775v1",
           "Distance-Based Network Partitioning"
          ],
          [
           "1909.13628v1",
           "The vulnerability of communities in complex network: An entropy approach"
          ],
          [
           "1906.05238v2",
           "Understanding Vulnerability of Communities in Complex Networks"
          ],
          [
           "1811.04543v1",
           "Variational Community Partition with Novel Network Structure Centrality Prior"
          ],
          [
           "1804.04469v1",
           "Generative models for local network community detection"
          ],
          [
           "1803.07961v1",
           "Modularity based community detection in heterogeneous networks"
          ],
          [
           "1802.01288v1",
           "Network Community Detection with A Successive Spectral Relaxation Method"
          ],
          [
           "1801.07783v2",
           "A General Definition of Network Communities and the Corresponding Detection Algorithm"
          ],
          [
           "1801.01229v1",
           "Modular Networks for Validating Community Detection Algorithms"
          ],
          [
           "1711.02053v1",
           "Detecting Community Structure in Dynamic Social Networks Using the Concept of Leadership"
          ],
          [
           "2004.02780v2",
           "Networked Multi-Agent Reinforcement Learning with Emergent Communication"
          ],
          [
           "1512.09023v2",
           "Clustering scientific publications based on citation relations: A systematic comparison of different methods"
          ],
          [
           "1503.06277v1",
           "Complex Networks, Communities and Clustering: A survey"
          ],
          [
           "1707.07494v1",
           "Data clustering using stochastic block models"
          ],
          [
           "1605.08074v3",
           "Temporal Clustering in Dynamic Networks with Tensor Decomposition"
          ]
         ],
         "hovertemplate": "keywords=detection methods community learning different networks clustering models<br>x=%{x}<br>y=%{y}<br>id=%{customdata[0]}<br>title=%{customdata[1]}<extra></extra>",
         "legendgroup": "detection methods community learning different networks clustering models",
         "marker": {
          "color": "#FF97FF",
          "symbol": "circle"
         },
         "mode": "markers",
         "name": "detection methods community learning different networks clustering models",
         "orientation": "v",
         "showlegend": true,
         "type": "scatter",
         "x": [
          7.607014179229736,
          6.2289628982543945,
          -9.740724563598633,
          6.655764102935791,
          5.123908519744873,
          4.601763725280762,
          7.103089332580566,
          6.643187522888184,
          7.607014179229736,
          4.179729461669922,
          5.472740173339844,
          8.55843734741211,
          5.598013401031494,
          5.963799953460693,
          5.767866134643555,
          8.51797103881836,
          8.554938316345215,
          5.36978816986084,
          5.325976848602295,
          6.557183742523193,
          5.100071907043457,
          5.063318729400635,
          5.8232221603393555,
          6.2459282875061035,
          8.112980842590332,
          5.725734710693359,
          5.27536678314209,
          4.394468784332275,
          6.9087629318237305,
          6.97078275680542,
          5.085932731628418,
          6.860682487487793,
          6.5669264793396
         ],
         "xaxis": "x",
         "y": [
          6.71400785446167,
          5.731014251708984,
          6.230371475219727,
          5.924276828765869,
          6.812831401824951,
          6.881813049316406,
          7.759389400482178,
          4.278940200805664,
          6.71400785446167,
          6.68743896484375,
          5.619845867156982,
          8.200052261352539,
          5.780718803405762,
          6.282511234283447,
          6.703390121459961,
          8.220998764038086,
          5.51338005065918,
          6.30963134765625,
          6.169025421142578,
          7.1939311027526855,
          6.1193647384643555,
          5.900395393371582,
          6.5270771980285645,
          6.552680969238281,
          5.959709167480469,
          6.482051849365234,
          7.333131790161133,
          6.731405735015869,
          -1.155163049697876,
          9.80693244934082,
          7.349308013916016,
          9.522623062133789,
          9.957100868225098
         ],
         "yaxis": "y"
        },
        {
         "customdata": [
          [
           "2210.00032v1",
           "Direct Embedding of Temporal Network Edges via Time-Decayed Line Graphs"
          ],
          [
           "2209.04884v1",
           "A Complex Network based Graph Embedding Method for Link Prediction"
          ],
          [
           "1711.00227v1",
           "Vertex-Context Sampling for Weighted Network Embedding"
          ],
          [
           "2208.14376v1",
           "Associative Learning for Network Embedding"
          ],
          [
           "1811.00198v1",
           "MOHONE: Modeling Higher Order Network Effects in KnowledgeGraphs via Network Infused Embeddings"
          ],
          [
           "1911.06217v2",
           "On Network Embedding for Machine Learning on Road Networks: A Case Study on the Danish Road Network"
          ],
          [
           "1711.11466v3",
           "LATTE: Application Oriented Social Network Embedding"
          ],
          [
           "1711.09409v1",
           "BL-MNE: Emerging Heterogeneous Social Network Embedding through Broad Learning with Aligned Autoencoder"
          ],
          [
           "2201.10620v3",
           "Structural importance and evolution: an application to financial transaction networks"
          ],
          [
           "1912.12383v5",
           "Efficient Top-k Vulnerable Nodes Detection in Uncertain Graphs"
          ],
          [
           "2111.13114v1",
           "Quantification of network structural dissimilarities based on graph embedding"
          ],
          [
           "2111.13585v2",
           "Evaluating importance of nodes in complex networks with local volume information dimension"
          ],
          [
           "2111.07027v1",
           "Adaptive Similarity Function with Structural Features of Network Embedding for Missing Link Prediction"
          ],
          [
           "2111.05576v1",
           "Topic-aware latent models for representation learning on networks"
          ],
          [
           "2107.01936v1",
           "Adversarial Robustness of Probabilistic Network Embedding for Link Prediction"
          ],
          [
           "2104.02666v1",
           "Calibratable Hetero-NodeRank for measuring node influence"
          ],
          [
           "2103.15447v1",
           "Dynamic Network Embedding Survey"
          ],
          [
           "2102.11691v1",
           "MultiWalk: A Framework to Generate Node Embeddings Based on an Ensemble of Walk Methods"
          ],
          [
           "2102.10824v1",
           "A novel method based on node correlation to evaluate the important nodes in complex networks"
          ],
          [
           "2101.02390v4",
           "SDGNN: Learning Node Representation for Signed Directed Networks"
          ],
          [
           "2011.06348v1",
           "Identifying influential nodes in complex networks: Effective distance gravity model"
          ],
          [
           "2010.14047v1",
           "Embedding Dynamic Attributed Networks by Modeling the Evolution Processes"
          ],
          [
           "2008.06940v1",
           "TempNodeEmb:Temporal Node Embedding considering temporal edge influence matrix"
          ],
          [
           "2006.08093v1",
           "A Survey on Dynamic Network Embedding"
          ],
          [
           "2004.01024v1",
           "Modeling Dynamic Heterogeneous Network for Link Prediction using Hierarchical Attention with Temporal RNN"
          ],
          [
           "1911.11726v1",
           "Network Embedding: An Overview"
          ],
          [
           "1911.01551v1",
           "Dynamic Graph Embedding via LSTM History Tracking"
          ],
          [
           "1908.11514v1",
           "Adversarial Training Methods for Network Embedding"
          ],
          [
           "1908.11298v2",
           "Identification of influencers in complex networks by local information dimensionality"
          ],
          [
           "1909.01087v1",
           "AHINE: Adaptive Heterogeneous Information Network Embedding"
          ],
          [
           "1907.11625v5",
           "Influence maximization in unknown social networks: Learning Policies for Effective Graph Sampling"
          ],
          [
           "1906.09860v1",
           "Dynamic Network Embeddings for Network Evolution Analysis"
          ],
          [
           "1906.03586v1",
           "Dynamic Network Embedding via Incremental Skip-gram with Negative Sampling"
          ],
          [
           "1905.00987v2",
           "Network Representation Learning: Consolidation and Renewed Bearing"
          ],
          [
           "1904.11027v1",
           "Generalized Modularity Embedding: a General Framework for Network Embedding"
          ],
          [
           "1901.07264v4",
           "Network Together: Node Classification via Cross network Deep Network Embedding"
          ],
          [
           "1901.01718v1",
           "Deep Network Embedding for Graph Representation Learning in Signed Networks"
          ],
          [
           "1811.10789v1",
           "Flexible Attributed Network Embedding"
          ],
          [
           "1811.07609v1",
           "Outlier Aware Network Embedding for Attributed Networks"
          ],
          [
           "1811.05932v1",
           "Streaming Network Embedding through Local Actions"
          ],
          [
           "1810.12881v2",
           "Data Poisoning Attack against Unsupervised Node Embedding Methods"
          ],
          [
           "1810.06917v1",
           "TNE: A Latent Model for Representation Learning on Networks"
          ],
          [
           "1809.05124v1",
           "Enhanced Network Embeddings via Exploiting Edge Labels"
          ],
          [
           "1809.02270v5",
           "Learning Embeddings of Directed Networks with Text-Associated Nodes---with Applications in Software Package Dependency Networks"
          ],
          [
           "1808.04657v1",
           "Network Sampling Using K-hop Random Walks for Heterogeneous Network Embedding"
          ],
          [
           "1808.02590v1",
           "A Tutorial on Network Embeddings"
          ],
          [
           "1806.02623v2",
           "Spectral Network Embedding: A Fast and Scalable Method via Sparsity"
          ],
          [
           "1805.03280v2",
           "Capturing Edge Attributes via Network Embedding"
          ],
          [
           "1804.10363v2",
           "SaC2Vec: Information Network Representation with Structure and Content"
          ],
          [
           "1804.05755v1",
           "DyLink2Vec: Effective Feature Representation for Link Prediction in Dynamic Networks"
          ],
          [
           "1804.05313v2",
           "FSCNMF: Fusing Structure and Content via Non-negative Matrix Factorization for Embedding Information Networks"
          ],
          [
           "1802.03984v3",
           "SPINE: Structural Identity Preserved Inductive Network Embedding"
          ],
          [
           "1712.08249v1",
           "Graph Clustering with Dynamic Embedding"
          ],
          [
           "1711.08752v1",
           "A Survey on Network Embedding"
          ],
          [
           "1710.07266v1",
           "Preserving Local and Global Information for Network Embedding"
          ],
          [
           "1710.05199v2",
           "Community Aware Random Walk for Network Embedding"
          ]
         ],
         "hovertemplate": "keywords=methods networks embedding link nodes dynamic proposed method<br>x=%{x}<br>y=%{y}<br>id=%{customdata[0]}<br>title=%{customdata[1]}<extra></extra>",
         "legendgroup": "methods networks embedding link nodes dynamic proposed method",
         "marker": {
          "color": "#FECB52",
          "symbol": "circle"
         },
         "mode": "markers",
         "name": "methods networks embedding link nodes dynamic proposed method",
         "orientation": "v",
         "showlegend": true,
         "type": "scatter",
         "x": [
          0.6555932760238647,
          4.080136775970459,
          3.289398670196533,
          3.6846044063568115,
          3.5160627365112305,
          4.720984935760498,
          2.7113466262817383,
          2.531107187271118,
          4.204845905303955,
          5.159780979156494,
          3.607306718826294,
          6.194167613983154,
          1.2734930515289307,
          4.556377410888672,
          1.2871942520141602,
          5.177974224090576,
          1.617160439491272,
          4.4303812980651855,
          5.3168487548828125,
          2.2842607498168945,
          6.198550224304199,
          2.0043632984161377,
          0.5087890028953552,
          1.9646555185317993,
          1.749305009841919,
          2.8687076568603516,
          1.8662360906600952,
          3.4696927070617676,
          6.4498138427734375,
          2.7552123069763184,
          2.626568555831909,
          2.002516031265259,
          2.2347028255462646,
          4.90388822555542,
          4.990667343139648,
          3.133958339691162,
          2.2917542457580566,
          2.345975160598755,
          3.0453944206237793,
          2.6420650482177734,
          5.20965051651001,
          4.619994163513184,
          3.389479637145996,
          2.789628744125366,
          3.6855814456939697,
          2.9191856384277344,
          2.8290774822235107,
          2.8111066818237305,
          2.046905994415283,
          0.9547592401504517,
          2.565260171890259,
          3.8608312606811523,
          3.8060059547424316,
          2.9361724853515625,
          2.4662625789642334,
          2.3744759559631348
         ],
         "xaxis": "x",
         "y": [
          3.0961873531341553,
          1.167975664138794,
          1.8405110836029053,
          3.5439393520355225,
          1.339219331741333,
          8.65276050567627,
          2.8685011863708496,
          3.0166211128234863,
          4.352123737335205,
          3.3643364906311035,
          4.442131519317627,
          3.4703991413116455,
          1.629963994026184,
          2.2868289947509766,
          1.5860581398010254,
          3.873567581176758,
          2.682410955429077,
          1.0961298942565918,
          3.8739171028137207,
          0.6072412729263306,
          3.4200849533081055,
          2.4972267150878906,
          2.9893715381622314,
          2.5857925415039062,
          3.1005284786224365,
          2.341061592102051,
          2.710359573364258,
          1.3957430124282837,
          3.4617919921875,
          2.8165552616119385,
          4.982675075531006,
          2.90419340133667,
          2.1247682571411133,
          0.43199679255485535,
          1.3672103881835938,
          3.775729179382324,
          0.7197727560997009,
          3.616614580154419,
          3.562352418899536,
          1.80374014377594,
          -0.22354421019554138,
          2.1665029525756836,
          3.3739612102508545,
          3.066681146621704,
          2.2490620613098145,
          2.4628114700317383,
          2.6882662773132324,
          3.4771640300750732,
          4.491237163543701,
          1.667768120765686,
          4.077685356140137,
          3.134711503982544,
          3.0020129680633545,
          2.483896493911743,
          3.662501811981201,
          4.107669830322266
         ],
         "yaxis": "y"
        }
       ],
       "layout": {
        "coloraxis": {
         "colorbar": {
          "tickfont": {
           "size": 16
          },
          "title": {
           "font": {
            "size": 20
           }
          }
         }
        },
        "height": 700,
        "legend": {
         "font": {
          "size": 11
         },
         "orientation": "h",
         "title": {
          "text": "keywords"
         },
         "tracegroupgap": 0,
         "x": 1,
         "xanchor": "right",
         "y": -0.3,
         "yanchor": "bottom"
        },
        "template": {
         "data": {
          "bar": [
           {
            "error_x": {
             "color": "#2a3f5f"
            },
            "error_y": {
             "color": "#2a3f5f"
            },
            "marker": {
             "line": {
              "color": "#E5ECF6",
              "width": 0.5
             },
             "pattern": {
              "fillmode": "overlay",
              "size": 10,
              "solidity": 0.2
             }
            },
            "type": "bar"
           }
          ],
          "barpolar": [
           {
            "marker": {
             "line": {
              "color": "#E5ECF6",
              "width": 0.5
             },
             "pattern": {
              "fillmode": "overlay",
              "size": 10,
              "solidity": 0.2
             }
            },
            "type": "barpolar"
           }
          ],
          "carpet": [
           {
            "aaxis": {
             "endlinecolor": "#2a3f5f",
             "gridcolor": "white",
             "linecolor": "white",
             "minorgridcolor": "white",
             "startlinecolor": "#2a3f5f"
            },
            "baxis": {
             "endlinecolor": "#2a3f5f",
             "gridcolor": "white",
             "linecolor": "white",
             "minorgridcolor": "white",
             "startlinecolor": "#2a3f5f"
            },
            "type": "carpet"
           }
          ],
          "choropleth": [
           {
            "colorbar": {
             "outlinewidth": 0,
             "ticks": ""
            },
            "type": "choropleth"
           }
          ],
          "contour": [
           {
            "colorbar": {
             "outlinewidth": 0,
             "ticks": ""
            },
            "colorscale": [
             [
              0,
              "#0d0887"
             ],
             [
              0.1111111111111111,
              "#46039f"
             ],
             [
              0.2222222222222222,
              "#7201a8"
             ],
             [
              0.3333333333333333,
              "#9c179e"
             ],
             [
              0.4444444444444444,
              "#bd3786"
             ],
             [
              0.5555555555555556,
              "#d8576b"
             ],
             [
              0.6666666666666666,
              "#ed7953"
             ],
             [
              0.7777777777777778,
              "#fb9f3a"
             ],
             [
              0.8888888888888888,
              "#fdca26"
             ],
             [
              1,
              "#f0f921"
             ]
            ],
            "type": "contour"
           }
          ],
          "contourcarpet": [
           {
            "colorbar": {
             "outlinewidth": 0,
             "ticks": ""
            },
            "type": "contourcarpet"
           }
          ],
          "heatmap": [
           {
            "colorbar": {
             "outlinewidth": 0,
             "ticks": ""
            },
            "colorscale": [
             [
              0,
              "#0d0887"
             ],
             [
              0.1111111111111111,
              "#46039f"
             ],
             [
              0.2222222222222222,
              "#7201a8"
             ],
             [
              0.3333333333333333,
              "#9c179e"
             ],
             [
              0.4444444444444444,
              "#bd3786"
             ],
             [
              0.5555555555555556,
              "#d8576b"
             ],
             [
              0.6666666666666666,
              "#ed7953"
             ],
             [
              0.7777777777777778,
              "#fb9f3a"
             ],
             [
              0.8888888888888888,
              "#fdca26"
             ],
             [
              1,
              "#f0f921"
             ]
            ],
            "type": "heatmap"
           }
          ],
          "heatmapgl": [
           {
            "colorbar": {
             "outlinewidth": 0,
             "ticks": ""
            },
            "colorscale": [
             [
              0,
              "#0d0887"
             ],
             [
              0.1111111111111111,
              "#46039f"
             ],
             [
              0.2222222222222222,
              "#7201a8"
             ],
             [
              0.3333333333333333,
              "#9c179e"
             ],
             [
              0.4444444444444444,
              "#bd3786"
             ],
             [
              0.5555555555555556,
              "#d8576b"
             ],
             [
              0.6666666666666666,
              "#ed7953"
             ],
             [
              0.7777777777777778,
              "#fb9f3a"
             ],
             [
              0.8888888888888888,
              "#fdca26"
             ],
             [
              1,
              "#f0f921"
             ]
            ],
            "type": "heatmapgl"
           }
          ],
          "histogram": [
           {
            "marker": {
             "pattern": {
              "fillmode": "overlay",
              "size": 10,
              "solidity": 0.2
             }
            },
            "type": "histogram"
           }
          ],
          "histogram2d": [
           {
            "colorbar": {
             "outlinewidth": 0,
             "ticks": ""
            },
            "colorscale": [
             [
              0,
              "#0d0887"
             ],
             [
              0.1111111111111111,
              "#46039f"
             ],
             [
              0.2222222222222222,
              "#7201a8"
             ],
             [
              0.3333333333333333,
              "#9c179e"
             ],
             [
              0.4444444444444444,
              "#bd3786"
             ],
             [
              0.5555555555555556,
              "#d8576b"
             ],
             [
              0.6666666666666666,
              "#ed7953"
             ],
             [
              0.7777777777777778,
              "#fb9f3a"
             ],
             [
              0.8888888888888888,
              "#fdca26"
             ],
             [
              1,
              "#f0f921"
             ]
            ],
            "type": "histogram2d"
           }
          ],
          "histogram2dcontour": [
           {
            "colorbar": {
             "outlinewidth": 0,
             "ticks": ""
            },
            "colorscale": [
             [
              0,
              "#0d0887"
             ],
             [
              0.1111111111111111,
              "#46039f"
             ],
             [
              0.2222222222222222,
              "#7201a8"
             ],
             [
              0.3333333333333333,
              "#9c179e"
             ],
             [
              0.4444444444444444,
              "#bd3786"
             ],
             [
              0.5555555555555556,
              "#d8576b"
             ],
             [
              0.6666666666666666,
              "#ed7953"
             ],
             [
              0.7777777777777778,
              "#fb9f3a"
             ],
             [
              0.8888888888888888,
              "#fdca26"
             ],
             [
              1,
              "#f0f921"
             ]
            ],
            "type": "histogram2dcontour"
           }
          ],
          "mesh3d": [
           {
            "colorbar": {
             "outlinewidth": 0,
             "ticks": ""
            },
            "type": "mesh3d"
           }
          ],
          "parcoords": [
           {
            "line": {
             "colorbar": {
              "outlinewidth": 0,
              "ticks": ""
             }
            },
            "type": "parcoords"
           }
          ],
          "pie": [
           {
            "automargin": true,
            "type": "pie"
           }
          ],
          "scatter": [
           {
            "fillpattern": {
             "fillmode": "overlay",
             "size": 10,
             "solidity": 0.2
            },
            "type": "scatter"
           }
          ],
          "scatter3d": [
           {
            "line": {
             "colorbar": {
              "outlinewidth": 0,
              "ticks": ""
             }
            },
            "marker": {
             "colorbar": {
              "outlinewidth": 0,
              "ticks": ""
             }
            },
            "type": "scatter3d"
           }
          ],
          "scattercarpet": [
           {
            "marker": {
             "colorbar": {
              "outlinewidth": 0,
              "ticks": ""
             }
            },
            "type": "scattercarpet"
           }
          ],
          "scattergeo": [
           {
            "marker": {
             "colorbar": {
              "outlinewidth": 0,
              "ticks": ""
             }
            },
            "type": "scattergeo"
           }
          ],
          "scattergl": [
           {
            "marker": {
             "colorbar": {
              "outlinewidth": 0,
              "ticks": ""
             }
            },
            "type": "scattergl"
           }
          ],
          "scattermapbox": [
           {
            "marker": {
             "colorbar": {
              "outlinewidth": 0,
              "ticks": ""
             }
            },
            "type": "scattermapbox"
           }
          ],
          "scatterpolar": [
           {
            "marker": {
             "colorbar": {
              "outlinewidth": 0,
              "ticks": ""
             }
            },
            "type": "scatterpolar"
           }
          ],
          "scatterpolargl": [
           {
            "marker": {
             "colorbar": {
              "outlinewidth": 0,
              "ticks": ""
             }
            },
            "type": "scatterpolargl"
           }
          ],
          "scatterternary": [
           {
            "marker": {
             "colorbar": {
              "outlinewidth": 0,
              "ticks": ""
             }
            },
            "type": "scatterternary"
           }
          ],
          "surface": [
           {
            "colorbar": {
             "outlinewidth": 0,
             "ticks": ""
            },
            "colorscale": [
             [
              0,
              "#0d0887"
             ],
             [
              0.1111111111111111,
              "#46039f"
             ],
             [
              0.2222222222222222,
              "#7201a8"
             ],
             [
              0.3333333333333333,
              "#9c179e"
             ],
             [
              0.4444444444444444,
              "#bd3786"
             ],
             [
              0.5555555555555556,
              "#d8576b"
             ],
             [
              0.6666666666666666,
              "#ed7953"
             ],
             [
              0.7777777777777778,
              "#fb9f3a"
             ],
             [
              0.8888888888888888,
              "#fdca26"
             ],
             [
              1,
              "#f0f921"
             ]
            ],
            "type": "surface"
           }
          ],
          "table": [
           {
            "cells": {
             "fill": {
              "color": "#EBF0F8"
             },
             "line": {
              "color": "white"
             }
            },
            "header": {
             "fill": {
              "color": "#C8D4E3"
             },
             "line": {
              "color": "white"
             }
            },
            "type": "table"
           }
          ]
         },
         "layout": {
          "annotationdefaults": {
           "arrowcolor": "#2a3f5f",
           "arrowhead": 0,
           "arrowwidth": 1
          },
          "autotypenumbers": "strict",
          "coloraxis": {
           "colorbar": {
            "outlinewidth": 0,
            "ticks": ""
           }
          },
          "colorscale": {
           "diverging": [
            [
             0,
             "#8e0152"
            ],
            [
             0.1,
             "#c51b7d"
            ],
            [
             0.2,
             "#de77ae"
            ],
            [
             0.3,
             "#f1b6da"
            ],
            [
             0.4,
             "#fde0ef"
            ],
            [
             0.5,
             "#f7f7f7"
            ],
            [
             0.6,
             "#e6f5d0"
            ],
            [
             0.7,
             "#b8e186"
            ],
            [
             0.8,
             "#7fbc41"
            ],
            [
             0.9,
             "#4d9221"
            ],
            [
             1,
             "#276419"
            ]
           ],
           "sequential": [
            [
             0,
             "#0d0887"
            ],
            [
             0.1111111111111111,
             "#46039f"
            ],
            [
             0.2222222222222222,
             "#7201a8"
            ],
            [
             0.3333333333333333,
             "#9c179e"
            ],
            [
             0.4444444444444444,
             "#bd3786"
            ],
            [
             0.5555555555555556,
             "#d8576b"
            ],
            [
             0.6666666666666666,
             "#ed7953"
            ],
            [
             0.7777777777777778,
             "#fb9f3a"
            ],
            [
             0.8888888888888888,
             "#fdca26"
            ],
            [
             1,
             "#f0f921"
            ]
           ],
           "sequentialminus": [
            [
             0,
             "#0d0887"
            ],
            [
             0.1111111111111111,
             "#46039f"
            ],
            [
             0.2222222222222222,
             "#7201a8"
            ],
            [
             0.3333333333333333,
             "#9c179e"
            ],
            [
             0.4444444444444444,
             "#bd3786"
            ],
            [
             0.5555555555555556,
             "#d8576b"
            ],
            [
             0.6666666666666666,
             "#ed7953"
            ],
            [
             0.7777777777777778,
             "#fb9f3a"
            ],
            [
             0.8888888888888888,
             "#fdca26"
            ],
            [
             1,
             "#f0f921"
            ]
           ]
          },
          "colorway": [
           "#636efa",
           "#EF553B",
           "#00cc96",
           "#ab63fa",
           "#FFA15A",
           "#19d3f3",
           "#FF6692",
           "#B6E880",
           "#FF97FF",
           "#FECB52"
          ],
          "font": {
           "color": "#2a3f5f"
          },
          "geo": {
           "bgcolor": "white",
           "lakecolor": "white",
           "landcolor": "#E5ECF6",
           "showlakes": true,
           "showland": true,
           "subunitcolor": "white"
          },
          "hoverlabel": {
           "align": "left"
          },
          "hovermode": "closest",
          "mapbox": {
           "style": "light"
          },
          "paper_bgcolor": "white",
          "plot_bgcolor": "#E5ECF6",
          "polar": {
           "angularaxis": {
            "gridcolor": "white",
            "linecolor": "white",
            "ticks": ""
           },
           "bgcolor": "#E5ECF6",
           "radialaxis": {
            "gridcolor": "white",
            "linecolor": "white",
            "ticks": ""
           }
          },
          "scene": {
           "xaxis": {
            "backgroundcolor": "#E5ECF6",
            "gridcolor": "white",
            "gridwidth": 2,
            "linecolor": "white",
            "showbackground": true,
            "ticks": "",
            "zerolinecolor": "white"
           },
           "yaxis": {
            "backgroundcolor": "#E5ECF6",
            "gridcolor": "white",
            "gridwidth": 2,
            "linecolor": "white",
            "showbackground": true,
            "ticks": "",
            "zerolinecolor": "white"
           },
           "zaxis": {
            "backgroundcolor": "#E5ECF6",
            "gridcolor": "white",
            "gridwidth": 2,
            "linecolor": "white",
            "showbackground": true,
            "ticks": "",
            "zerolinecolor": "white"
           }
          },
          "shapedefaults": {
           "line": {
            "color": "#2a3f5f"
           }
          },
          "ternary": {
           "aaxis": {
            "gridcolor": "white",
            "linecolor": "white",
            "ticks": ""
           },
           "baxis": {
            "gridcolor": "white",
            "linecolor": "white",
            "ticks": ""
           },
           "bgcolor": "#E5ECF6",
           "caxis": {
            "gridcolor": "white",
            "linecolor": "white",
            "ticks": ""
           }
          },
          "title": {
           "x": 0.05
          },
          "xaxis": {
           "automargin": true,
           "gridcolor": "white",
           "linecolor": "white",
           "ticks": "",
           "title": {
            "standoff": 15
           },
           "zerolinecolor": "white",
           "zerolinewidth": 2
          },
          "yaxis": {
           "automargin": true,
           "gridcolor": "white",
           "linecolor": "white",
           "ticks": "",
           "title": {
            "standoff": 15
           },
           "zerolinecolor": "white",
           "zerolinewidth": 2
          }
         }
        },
        "title": {
         "text": "Clustered Papers"
        },
        "width": 1200,
        "xaxis": {
         "anchor": "y",
         "domain": [
          0,
          1
         ],
         "title": {
          "text": "x"
         }
        },
        "yaxis": {
         "anchor": "x",
         "domain": [
          0,
          1
         ],
         "title": {
          "text": "y"
         }
        }
       }
      }
     },
     "metadata": {},
     "output_type": "display_data"
    }
   ],
   "source": [
    "fig = px.scatter(topic_df, x=two_dim_matrix[:,0], y=two_dim_matrix[:,1], color='keywords',\n",
    "                 hover_data=['id','title'],\n",
    "                 height= 700, width=1200,\n",
    "                title = \"Clustered Papers\",)\n",
    "\n",
    "fig.update_layout(\n",
    "    coloraxis_colorbar=dict(\n",
    "        title_font=dict(size=20), # Set the font size of the color legend title to 20\n",
    "        tickfont=dict(size=16) # Set the font size of the color legend tick labels to 16\n",
    "    ),\n",
    "    legend=dict(\n",
    "        font=dict(size=11) # Set the font size of the marker legend to 16\n",
    "    )\n",
    ")\n",
    "fig.update_layout(\n",
    "    legend=dict(orientation=\"h\", yanchor=\"bottom\", y=-0.3, xanchor=\"right\", x=1)\n",
    ")\n",
    "fig.show()"
   ]
  },
  {
   "cell_type": "code",
   "execution_count": null,
   "metadata": {},
   "outputs": [],
   "source": [
    "\n",
    "# dataframe for the recommendation. \n",
    "df.to_csv('cleaned_data.csv', index=True)"
   ]
  }
 ],
 "metadata": {
  "kernelspec": {
   "display_name": "base",
   "language": "python",
   "name": "python3"
  },
  "language_info": {
   "codemirror_mode": {
    "name": "ipython",
    "version": 3
   },
   "file_extension": ".py",
   "mimetype": "text/x-python",
   "name": "python",
   "nbconvert_exporter": "python",
   "pygments_lexer": "ipython3",
   "version": "3.10.9"
  }
 },
 "nbformat": 4,
 "nbformat_minor": 2
}
